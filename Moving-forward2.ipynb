{
 "cells": [
  {
   "cell_type": "code",
   "execution_count": 2,
   "id": "2d76f4d6",
   "metadata": {
    "tags": [
     "remove-input"
    ]
   },
   "outputs": [],
   "source": [
    "# Imports\n",
    "import numpy as np\n",
    "import matplotlib.pyplot as plt\n",
    "import pandas as pd\n",
    "import seaborn as sns\n",
    "import plotly.express as px\n",
    "import plotly.graph_objects as go\n",
    "from sklearn.linear_model import LinearRegression\n",
    "from statsmodels.tsa.arima.model import ARIMA\n",
    "from statsmodels.graphics.tsaplots import plot_pacf, plot_acf\n",
    "from statsmodels.tsa.stattools import adfuller\n",
    "import statsmodels.formula.api as smf\n",
    "from itertools import product\n",
    "from tqdm import tqdm_notebook\n",
    "import warnings\n",
    "warnings.filterwarnings(\"ignore\")\n",
    "sns.set_theme()"
   ]
  },
  {
   "cell_type": "markdown",
   "id": "cae1815b",
   "metadata": {},
   "source": [
    "### CO2 emissions in the future"
   ]
  },
  {
   "cell_type": "markdown",
   "id": "b5ef8e3c",
   "metadata": {},
   "source": [
    "Up until now, we have looked at the current levels of CO2 emissions. However, if we assume status quo regarding factors that contribute to the rise in CO2 emissions what does the future then look like?\n",
    "\n",
    "We investigate this by considering the CO2 emissions data as a time series. As seen from the plot of CO2 emissions below the data seems to have an exponentially increasing trend and an increasing variance over time."
   ]
  },
  {
   "cell_type": "code",
   "execution_count": 4,
   "id": "f293cbc5",
   "metadata": {
    "tags": [
     "remove-input"
    ]
   },
   "outputs": [],
   "source": [
    "df3 = pd.read_csv('data/annual-co-emissions-by-region.csv')\n",
    "df3 = df3.rename(columns={'Annual CO2 emissions (zero filled)': \"Annual CO2 emissions\"})\n",
    "df3 = df3.loc[df3['Entity'] == 'World']\n",
    "df3 = df3.sort_values('Year')\n",
    "diff1 = np.diff(np.log(df3['Annual CO2 emissions'])) \n",
    "df3['Log transformed first order differenced CO2 emissions'] = np.pad(diff1, (0, 1), 'constant')\n",
    "df3['Log transformed CO2 emissions'] = np.log(df3['Annual CO2 emissions'])\n",
    "model_arima = ARIMA(df3['Log transformed CO2 emissions'], order=(1,1,2))\n",
    "model_fit = model_arima.fit()\n",
    "y = 2020\n",
    "for i in range(10):\n",
    "    y = y + 1\n",
    "    df3 = df3.append({'Entity': 'World', 'Code': 'OWID_WRL','Year': y, 'Annual CO2 emissions': float(\"NAN\"), 'Log transformed first order differenced CO2 emissions': float(\"NAN\"),'Log transformed CO2 emissions': float(\"NAN\")}, ignore_index=True)\n",
    "preds = model_fit.get_prediction(0,281)  # 95% conf\n",
    "preds_ci = preds.conf_int()\n",
    "preds_mu = preds.predicted_mean\n",
    "df3['Predictions'] = preds_mu\n",
    "df3['CI_lower'] = preds_ci[1:]['lower Log transformed CO2 emissions'].reset_index(drop=True)\n",
    "df3['CI_upper'] = preds_ci[1:]['upper Log transformed CO2 emissions'].reset_index(drop=True)"
   ]
  },
  {
   "cell_type": "code",
   "execution_count": 5,
   "id": "cce73de1",
   "metadata": {
    "tags": [
     "remove-input"
    ]
   },
   "outputs": [
    {
     "data": {
      "application/vnd.plotly.v1+json": {
       "config": {
        "plotlyServerURL": "https://plot.ly"
       },
       "data": [
        {
         "hovertemplate": "Year=%{x}<br>Annual CO2 emissions=%{y}<extra></extra>",
         "legendgroup": "",
         "line": {
          "color": "#636efa",
          "dash": "solid"
         },
         "marker": {
          "symbol": "circle"
         },
         "mode": "lines",
         "name": "",
         "orientation": "v",
         "showlegend": false,
         "type": "scatter",
         "x": [
          1750,
          1751,
          1752,
          1753,
          1754,
          1755,
          1756,
          1757,
          1758,
          1759,
          1760,
          1761,
          1762,
          1763,
          1764,
          1765,
          1766,
          1767,
          1768,
          1769,
          1770,
          1771,
          1772,
          1773,
          1774,
          1775,
          1776,
          1777,
          1778,
          1779,
          1780,
          1781,
          1782,
          1783,
          1784,
          1785,
          1786,
          1787,
          1788,
          1789,
          1790,
          1791,
          1792,
          1793,
          1794,
          1795,
          1796,
          1797,
          1798,
          1799,
          1800,
          1801,
          1802,
          1803,
          1804,
          1805,
          1806,
          1807,
          1808,
          1809,
          1810,
          1811,
          1812,
          1813,
          1814,
          1815,
          1816,
          1817,
          1818,
          1819,
          1820,
          1821,
          1822,
          1823,
          1824,
          1825,
          1826,
          1827,
          1828,
          1829,
          1830,
          1831,
          1832,
          1833,
          1834,
          1835,
          1836,
          1837,
          1838,
          1839,
          1840,
          1841,
          1842,
          1843,
          1844,
          1845,
          1846,
          1847,
          1848,
          1849,
          1850,
          1851,
          1852,
          1853,
          1854,
          1855,
          1856,
          1857,
          1858,
          1859,
          1860,
          1861,
          1862,
          1863,
          1864,
          1865,
          1866,
          1867,
          1868,
          1869,
          1870,
          1871,
          1872,
          1873,
          1874,
          1875,
          1876,
          1877,
          1878,
          1879,
          1880,
          1881,
          1882,
          1883,
          1884,
          1885,
          1886,
          1887,
          1888,
          1889,
          1890,
          1891,
          1892,
          1893,
          1894,
          1895,
          1896,
          1897,
          1898,
          1899,
          1900,
          1901,
          1902,
          1903,
          1904,
          1905,
          1906,
          1907,
          1908,
          1909,
          1910,
          1911,
          1912,
          1913,
          1914,
          1915,
          1916,
          1917,
          1918,
          1919,
          1920,
          1921,
          1922,
          1923,
          1924,
          1925,
          1926,
          1927,
          1928,
          1929,
          1930,
          1931,
          1932,
          1933,
          1934,
          1935,
          1936,
          1937,
          1938,
          1939,
          1940,
          1941,
          1942,
          1943,
          1944,
          1945,
          1946,
          1947,
          1948,
          1949,
          1950,
          1951,
          1952,
          1953,
          1954,
          1955,
          1956,
          1957,
          1958,
          1959,
          1960,
          1961,
          1962,
          1963,
          1964,
          1965,
          1966,
          1967,
          1968,
          1969,
          1970,
          1971,
          1972,
          1973,
          1974,
          1975,
          1976,
          1977,
          1978,
          1979,
          1980,
          1981,
          1982,
          1983,
          1984,
          1985,
          1986,
          1987,
          1988,
          1989,
          1990,
          1991,
          1992,
          1993,
          1994,
          1995,
          1996,
          1997,
          1998,
          1999,
          2000,
          2001,
          2002,
          2003,
          2004,
          2005,
          2006,
          2007,
          2008,
          2009,
          2010,
          2011,
          2012,
          2013,
          2014,
          2015,
          2016,
          2017,
          2018,
          2019,
          2020,
          2021,
          2022,
          2023,
          2024,
          2025,
          2026,
          2027,
          2028,
          2029,
          2030
         ],
         "xaxis": "x",
         "y": [
          9350528,
          9350528,
          9354192,
          9354192,
          9357856,
          9361520,
          10006384,
          10010048,
          10013712,
          10017376,
          10017376,
          10973680,
          10977344,
          10981008,
          10984672,
          10988336,
          12259744,
          12263408,
          12267072,
          12270736,
          12274400,
          13611760,
          13615424,
          13619088,
          13622752,
          13626416,
          15037056,
          15040720,
          15044384,
          15048048,
          15055376,
          16843408,
          16847072,
          16854400,
          16858064,
          16869056,
          19151728,
          19159056,
          19162720,
          19170048,
          19177376,
          21419744,
          21896064,
          21914384,
          21881408,
          21892400,
          22951296,
          24094464,
          25094736,
          26428432,
          28091888,
          27959984,
          36782896,
          31488416,
          34309696,
          33419344,
          35046160,
          36874496,
          35064480,
          35090128,
          37380128,
          39582192,
          41007488,
          41220000,
          42128672,
          43488016,
          47664976,
          49431024,
          49643536,
          49947648,
          50687776,
          51435232,
          53465088,
          56550176,
          58525072,
          60756448,
          61419632,
          65915360,
          66637168,
          66395344,
          89123136,
          84528480,
          85111056,
          86807488,
          88485600,
          90445840,
          104775744,
          104691472,
          108044032,
          111612768,
          118929776,
          122619424,
          129504080,
          132852976,
          141423072,
          155210704,
          157793824,
          172402192,
          173816496,
          183511440,
          196896032,
          198804976,
          207550944,
          217209248,
          255138976,
          260165984,
          277291520,
          279889296,
          284171850,
          301312559,
          330642191,
          347735242,
          354057462,
          377859938,
          407091108,
          432307789,
          445970599,
          477814912,
          490752496,
          521130720,
          532536752,
          566142960,
          626371792,
          665419040,
          622997248,
          675799152,
          685552720,
          699098528,
          704381729,
          754869509,
          853707188,
          882407475,
          931924710,
          991035684,
          1002177745,
          1009674571,
          1025478884,
          1076761678,
          1192276070,
          1191804432,
          1298463581,
          1358879690,
          1370094534,
          1353675035,
          1400864597,
          1485281339,
          1533711001,
          1606310640,
          1694277167,
          1850905966,
          1952224654,
          2016760928,
          2067797613,
          2256077250,
          2281857535,
          2429631367,
          2551869513,
          2885281242,
          2776431591,
          2887083061,
          3027588864,
          3082462274,
          3228332151,
          3492411249,
          3168341359,
          3125088543,
          3373154069,
          3527725678,
          3479185579,
          3014874203,
          3507597636,
          3076038222,
          3226445037,
          3661080742,
          3672399351,
          3712867713,
          3645190242,
          3981432883,
          3962552527,
          4255150726,
          3923058343,
          3505272053,
          3159133411,
          3326453782,
          3617657544,
          3796088336,
          4170573685,
          4458901333,
          4195242758,
          4438143987,
          4849926545,
          4959186226,
          4939724859,
          5023250640,
          5105436673,
          4244738093,
          4633477283,
          5130185429,
          5401115478,
          5243102933,
          6003238189,
          6379755941,
          6465694232,
          6647727815,
          6789936494,
          7443207067,
          7924210548,
          8185523970,
          8417600054,
          8856188671,
          9386933671,
          9417462637,
          9750056664,
          10271524394,
          10828857574,
          11317232919,
          11865861396,
          12243045540,
          12909912521,
          13766570654,
          14897567094,
          15498266676,
          16221152268,
          17078792097,
          17009594414,
          17046497217,
          17983972847,
          18494530823,
          19067767178,
          19610017729,
          19492613515,
          19026910179,
          18875760275,
          18998031557,
          19656716874,
          20317483523,
          20619623658,
          21266194534,
          22101399490,
          22406832518,
          22749574360,
          23238102148,
          22569624280,
          22803495349,
          22964583359,
          23453944453,
          24154961206,
          24300550431,
          24206271270,
          24518962288,
          25234207250,
          25451054498,
          26039191477,
          27366723291,
          28627533033,
          29602777196,
          30583530081,
          31493741589,
          32069444008,
          31607042410,
          33343300453,
          34468451046,
          34974075146,
          35283025443,
          35534442952,
          35496406339,
          35452459298,
          35925737687,
          36646139785,
          36702502903,
          34807259099,
          null,
          null,
          null,
          null,
          null,
          null,
          null,
          null,
          null,
          null
         ],
         "yaxis": "y"
        }
       ],
       "layout": {
        "legend": {
         "tracegroupgap": 0
        },
        "template": {
         "data": {
          "bar": [
           {
            "error_x": {
             "color": "#2a3f5f"
            },
            "error_y": {
             "color": "#2a3f5f"
            },
            "marker": {
             "line": {
              "color": "#E5ECF6",
              "width": 0.5
             },
             "pattern": {
              "fillmode": "overlay",
              "size": 10,
              "solidity": 0.2
             }
            },
            "type": "bar"
           }
          ],
          "barpolar": [
           {
            "marker": {
             "line": {
              "color": "#E5ECF6",
              "width": 0.5
             },
             "pattern": {
              "fillmode": "overlay",
              "size": 10,
              "solidity": 0.2
             }
            },
            "type": "barpolar"
           }
          ],
          "carpet": [
           {
            "aaxis": {
             "endlinecolor": "#2a3f5f",
             "gridcolor": "white",
             "linecolor": "white",
             "minorgridcolor": "white",
             "startlinecolor": "#2a3f5f"
            },
            "baxis": {
             "endlinecolor": "#2a3f5f",
             "gridcolor": "white",
             "linecolor": "white",
             "minorgridcolor": "white",
             "startlinecolor": "#2a3f5f"
            },
            "type": "carpet"
           }
          ],
          "choropleth": [
           {
            "colorbar": {
             "outlinewidth": 0,
             "ticks": ""
            },
            "type": "choropleth"
           }
          ],
          "contour": [
           {
            "colorbar": {
             "outlinewidth": 0,
             "ticks": ""
            },
            "colorscale": [
             [
              0,
              "#0d0887"
             ],
             [
              0.1111111111111111,
              "#46039f"
             ],
             [
              0.2222222222222222,
              "#7201a8"
             ],
             [
              0.3333333333333333,
              "#9c179e"
             ],
             [
              0.4444444444444444,
              "#bd3786"
             ],
             [
              0.5555555555555556,
              "#d8576b"
             ],
             [
              0.6666666666666666,
              "#ed7953"
             ],
             [
              0.7777777777777778,
              "#fb9f3a"
             ],
             [
              0.8888888888888888,
              "#fdca26"
             ],
             [
              1,
              "#f0f921"
             ]
            ],
            "type": "contour"
           }
          ],
          "contourcarpet": [
           {
            "colorbar": {
             "outlinewidth": 0,
             "ticks": ""
            },
            "type": "contourcarpet"
           }
          ],
          "heatmap": [
           {
            "colorbar": {
             "outlinewidth": 0,
             "ticks": ""
            },
            "colorscale": [
             [
              0,
              "#0d0887"
             ],
             [
              0.1111111111111111,
              "#46039f"
             ],
             [
              0.2222222222222222,
              "#7201a8"
             ],
             [
              0.3333333333333333,
              "#9c179e"
             ],
             [
              0.4444444444444444,
              "#bd3786"
             ],
             [
              0.5555555555555556,
              "#d8576b"
             ],
             [
              0.6666666666666666,
              "#ed7953"
             ],
             [
              0.7777777777777778,
              "#fb9f3a"
             ],
             [
              0.8888888888888888,
              "#fdca26"
             ],
             [
              1,
              "#f0f921"
             ]
            ],
            "type": "heatmap"
           }
          ],
          "heatmapgl": [
           {
            "colorbar": {
             "outlinewidth": 0,
             "ticks": ""
            },
            "colorscale": [
             [
              0,
              "#0d0887"
             ],
             [
              0.1111111111111111,
              "#46039f"
             ],
             [
              0.2222222222222222,
              "#7201a8"
             ],
             [
              0.3333333333333333,
              "#9c179e"
             ],
             [
              0.4444444444444444,
              "#bd3786"
             ],
             [
              0.5555555555555556,
              "#d8576b"
             ],
             [
              0.6666666666666666,
              "#ed7953"
             ],
             [
              0.7777777777777778,
              "#fb9f3a"
             ],
             [
              0.8888888888888888,
              "#fdca26"
             ],
             [
              1,
              "#f0f921"
             ]
            ],
            "type": "heatmapgl"
           }
          ],
          "histogram": [
           {
            "marker": {
             "pattern": {
              "fillmode": "overlay",
              "size": 10,
              "solidity": 0.2
             }
            },
            "type": "histogram"
           }
          ],
          "histogram2d": [
           {
            "colorbar": {
             "outlinewidth": 0,
             "ticks": ""
            },
            "colorscale": [
             [
              0,
              "#0d0887"
             ],
             [
              0.1111111111111111,
              "#46039f"
             ],
             [
              0.2222222222222222,
              "#7201a8"
             ],
             [
              0.3333333333333333,
              "#9c179e"
             ],
             [
              0.4444444444444444,
              "#bd3786"
             ],
             [
              0.5555555555555556,
              "#d8576b"
             ],
             [
              0.6666666666666666,
              "#ed7953"
             ],
             [
              0.7777777777777778,
              "#fb9f3a"
             ],
             [
              0.8888888888888888,
              "#fdca26"
             ],
             [
              1,
              "#f0f921"
             ]
            ],
            "type": "histogram2d"
           }
          ],
          "histogram2dcontour": [
           {
            "colorbar": {
             "outlinewidth": 0,
             "ticks": ""
            },
            "colorscale": [
             [
              0,
              "#0d0887"
             ],
             [
              0.1111111111111111,
              "#46039f"
             ],
             [
              0.2222222222222222,
              "#7201a8"
             ],
             [
              0.3333333333333333,
              "#9c179e"
             ],
             [
              0.4444444444444444,
              "#bd3786"
             ],
             [
              0.5555555555555556,
              "#d8576b"
             ],
             [
              0.6666666666666666,
              "#ed7953"
             ],
             [
              0.7777777777777778,
              "#fb9f3a"
             ],
             [
              0.8888888888888888,
              "#fdca26"
             ],
             [
              1,
              "#f0f921"
             ]
            ],
            "type": "histogram2dcontour"
           }
          ],
          "mesh3d": [
           {
            "colorbar": {
             "outlinewidth": 0,
             "ticks": ""
            },
            "type": "mesh3d"
           }
          ],
          "parcoords": [
           {
            "line": {
             "colorbar": {
              "outlinewidth": 0,
              "ticks": ""
             }
            },
            "type": "parcoords"
           }
          ],
          "pie": [
           {
            "automargin": true,
            "type": "pie"
           }
          ],
          "scatter": [
           {
            "marker": {
             "colorbar": {
              "outlinewidth": 0,
              "ticks": ""
             }
            },
            "type": "scatter"
           }
          ],
          "scatter3d": [
           {
            "line": {
             "colorbar": {
              "outlinewidth": 0,
              "ticks": ""
             }
            },
            "marker": {
             "colorbar": {
              "outlinewidth": 0,
              "ticks": ""
             }
            },
            "type": "scatter3d"
           }
          ],
          "scattercarpet": [
           {
            "marker": {
             "colorbar": {
              "outlinewidth": 0,
              "ticks": ""
             }
            },
            "type": "scattercarpet"
           }
          ],
          "scattergeo": [
           {
            "marker": {
             "colorbar": {
              "outlinewidth": 0,
              "ticks": ""
             }
            },
            "type": "scattergeo"
           }
          ],
          "scattergl": [
           {
            "marker": {
             "colorbar": {
              "outlinewidth": 0,
              "ticks": ""
             }
            },
            "type": "scattergl"
           }
          ],
          "scattermapbox": [
           {
            "marker": {
             "colorbar": {
              "outlinewidth": 0,
              "ticks": ""
             }
            },
            "type": "scattermapbox"
           }
          ],
          "scatterpolar": [
           {
            "marker": {
             "colorbar": {
              "outlinewidth": 0,
              "ticks": ""
             }
            },
            "type": "scatterpolar"
           }
          ],
          "scatterpolargl": [
           {
            "marker": {
             "colorbar": {
              "outlinewidth": 0,
              "ticks": ""
             }
            },
            "type": "scatterpolargl"
           }
          ],
          "scatterternary": [
           {
            "marker": {
             "colorbar": {
              "outlinewidth": 0,
              "ticks": ""
             }
            },
            "type": "scatterternary"
           }
          ],
          "surface": [
           {
            "colorbar": {
             "outlinewidth": 0,
             "ticks": ""
            },
            "colorscale": [
             [
              0,
              "#0d0887"
             ],
             [
              0.1111111111111111,
              "#46039f"
             ],
             [
              0.2222222222222222,
              "#7201a8"
             ],
             [
              0.3333333333333333,
              "#9c179e"
             ],
             [
              0.4444444444444444,
              "#bd3786"
             ],
             [
              0.5555555555555556,
              "#d8576b"
             ],
             [
              0.6666666666666666,
              "#ed7953"
             ],
             [
              0.7777777777777778,
              "#fb9f3a"
             ],
             [
              0.8888888888888888,
              "#fdca26"
             ],
             [
              1,
              "#f0f921"
             ]
            ],
            "type": "surface"
           }
          ],
          "table": [
           {
            "cells": {
             "fill": {
              "color": "#EBF0F8"
             },
             "line": {
              "color": "white"
             }
            },
            "header": {
             "fill": {
              "color": "#C8D4E3"
             },
             "line": {
              "color": "white"
             }
            },
            "type": "table"
           }
          ]
         },
         "layout": {
          "annotationdefaults": {
           "arrowcolor": "#2a3f5f",
           "arrowhead": 0,
           "arrowwidth": 1
          },
          "autotypenumbers": "strict",
          "coloraxis": {
           "colorbar": {
            "outlinewidth": 0,
            "ticks": ""
           }
          },
          "colorscale": {
           "diverging": [
            [
             0,
             "#8e0152"
            ],
            [
             0.1,
             "#c51b7d"
            ],
            [
             0.2,
             "#de77ae"
            ],
            [
             0.3,
             "#f1b6da"
            ],
            [
             0.4,
             "#fde0ef"
            ],
            [
             0.5,
             "#f7f7f7"
            ],
            [
             0.6,
             "#e6f5d0"
            ],
            [
             0.7,
             "#b8e186"
            ],
            [
             0.8,
             "#7fbc41"
            ],
            [
             0.9,
             "#4d9221"
            ],
            [
             1,
             "#276419"
            ]
           ],
           "sequential": [
            [
             0,
             "#0d0887"
            ],
            [
             0.1111111111111111,
             "#46039f"
            ],
            [
             0.2222222222222222,
             "#7201a8"
            ],
            [
             0.3333333333333333,
             "#9c179e"
            ],
            [
             0.4444444444444444,
             "#bd3786"
            ],
            [
             0.5555555555555556,
             "#d8576b"
            ],
            [
             0.6666666666666666,
             "#ed7953"
            ],
            [
             0.7777777777777778,
             "#fb9f3a"
            ],
            [
             0.8888888888888888,
             "#fdca26"
            ],
            [
             1,
             "#f0f921"
            ]
           ],
           "sequentialminus": [
            [
             0,
             "#0d0887"
            ],
            [
             0.1111111111111111,
             "#46039f"
            ],
            [
             0.2222222222222222,
             "#7201a8"
            ],
            [
             0.3333333333333333,
             "#9c179e"
            ],
            [
             0.4444444444444444,
             "#bd3786"
            ],
            [
             0.5555555555555556,
             "#d8576b"
            ],
            [
             0.6666666666666666,
             "#ed7953"
            ],
            [
             0.7777777777777778,
             "#fb9f3a"
            ],
            [
             0.8888888888888888,
             "#fdca26"
            ],
            [
             1,
             "#f0f921"
            ]
           ]
          },
          "colorway": [
           "#636efa",
           "#EF553B",
           "#00cc96",
           "#ab63fa",
           "#FFA15A",
           "#19d3f3",
           "#FF6692",
           "#B6E880",
           "#FF97FF",
           "#FECB52"
          ],
          "font": {
           "color": "#2a3f5f"
          },
          "geo": {
           "bgcolor": "white",
           "lakecolor": "white",
           "landcolor": "#E5ECF6",
           "showlakes": true,
           "showland": true,
           "subunitcolor": "white"
          },
          "hoverlabel": {
           "align": "left"
          },
          "hovermode": "closest",
          "mapbox": {
           "style": "light"
          },
          "paper_bgcolor": "white",
          "plot_bgcolor": "#E5ECF6",
          "polar": {
           "angularaxis": {
            "gridcolor": "white",
            "linecolor": "white",
            "ticks": ""
           },
           "bgcolor": "#E5ECF6",
           "radialaxis": {
            "gridcolor": "white",
            "linecolor": "white",
            "ticks": ""
           }
          },
          "scene": {
           "xaxis": {
            "backgroundcolor": "#E5ECF6",
            "gridcolor": "white",
            "gridwidth": 2,
            "linecolor": "white",
            "showbackground": true,
            "ticks": "",
            "zerolinecolor": "white"
           },
           "yaxis": {
            "backgroundcolor": "#E5ECF6",
            "gridcolor": "white",
            "gridwidth": 2,
            "linecolor": "white",
            "showbackground": true,
            "ticks": "",
            "zerolinecolor": "white"
           },
           "zaxis": {
            "backgroundcolor": "#E5ECF6",
            "gridcolor": "white",
            "gridwidth": 2,
            "linecolor": "white",
            "showbackground": true,
            "ticks": "",
            "zerolinecolor": "white"
           }
          },
          "shapedefaults": {
           "line": {
            "color": "#2a3f5f"
           }
          },
          "ternary": {
           "aaxis": {
            "gridcolor": "white",
            "linecolor": "white",
            "ticks": ""
           },
           "baxis": {
            "gridcolor": "white",
            "linecolor": "white",
            "ticks": ""
           },
           "bgcolor": "#E5ECF6",
           "caxis": {
            "gridcolor": "white",
            "linecolor": "white",
            "ticks": ""
           }
          },
          "title": {
           "x": 0.05
          },
          "xaxis": {
           "automargin": true,
           "gridcolor": "white",
           "linecolor": "white",
           "ticks": "",
           "title": {
            "standoff": 15
           },
           "zerolinecolor": "white",
           "zerolinewidth": 2
          },
          "yaxis": {
           "automargin": true,
           "gridcolor": "white",
           "linecolor": "white",
           "ticks": "",
           "title": {
            "standoff": 15
           },
           "zerolinecolor": "white",
           "zerolinewidth": 2
          }
         }
        },
        "title": {
         "text": "Annual CO2 emissions"
        },
        "xaxis": {
         "anchor": "y",
         "domain": [
          0,
          1
         ],
         "title": {
          "text": "Year"
         }
        },
        "yaxis": {
         "anchor": "x",
         "domain": [
          0,
          1
         ],
         "title": {
          "text": "Annual CO2 emissions"
         }
        }
       }
      }
     },
     "metadata": {},
     "output_type": "display_data"
    }
   ],
   "source": [
    "fig = px.line(df3, x='Year', y='Annual CO2 emissions', title = 'Annual CO2 emissions')\n",
    "fig.show()"
   ]
  },
  {
   "cell_type": "markdown",
   "id": "1d7ff855",
   "metadata": {},
   "source": [
    "To account for the increasing trend and variance and ensure stationarity we chose to model the log-transformed CO2 emissions data with an autoregressive integrated moving average model (ARIMA). To determine the order of the parameters in the ARIMA model we performed a grid search of all parameter combinations in the range of 0 to 7 where the parameter combination with the lowest AIC was chosen. The final model ended up being an ARIMA(1,1,2).\n",
    "\n",
    "Below you can investigate the predictions of the ARIMA-model until 2030. The model predicts a small decrease in CO2 emissions in 2021 follow by an upwards going linear increase for the next 9 years."
   ]
  },
  {
   "cell_type": "code",
   "execution_count": 14,
   "id": "c0c25e58",
   "metadata": {
    "tags": [
     "remove-input"
    ]
   },
   "outputs": [
    {
     "data": {
      "application/vnd.plotly.v1+json": {
       "config": {
        "plotlyServerURL": "https://plot.ly"
       },
       "data": [
        {
         "hovertemplate": "Year=%{x}<br>Annual CO2 emissions=%{y}<extra></extra>",
         "legendgroup": "",
         "line": {
          "color": "#636efa",
          "dash": "solid"
         },
         "mode": "lines",
         "name": "",
         "orientation": "v",
         "showlegend": false,
         "type": "scatter",
         "x": [
          1750,
          1751,
          1752,
          1753,
          1754,
          1755,
          1756,
          1757,
          1758,
          1759,
          1760,
          1761,
          1762,
          1763,
          1764,
          1765,
          1766,
          1767,
          1768,
          1769,
          1770,
          1771,
          1772,
          1773,
          1774,
          1775,
          1776,
          1777,
          1778,
          1779,
          1780,
          1781,
          1782,
          1783,
          1784,
          1785,
          1786,
          1787,
          1788,
          1789,
          1790,
          1791,
          1792,
          1793,
          1794,
          1795,
          1796,
          1797,
          1798,
          1799,
          1800,
          1801,
          1802,
          1803,
          1804,
          1805,
          1806,
          1807,
          1808,
          1809,
          1810,
          1811,
          1812,
          1813,
          1814,
          1815,
          1816,
          1817,
          1818,
          1819,
          1820,
          1821,
          1822,
          1823,
          1824,
          1825,
          1826,
          1827,
          1828,
          1829,
          1830,
          1831,
          1832,
          1833,
          1834,
          1835,
          1836,
          1837,
          1838,
          1839,
          1840,
          1841,
          1842,
          1843,
          1844,
          1845,
          1846,
          1847,
          1848,
          1849,
          1850,
          1851,
          1852,
          1853,
          1854,
          1855,
          1856,
          1857,
          1858,
          1859,
          1860,
          1861,
          1862,
          1863,
          1864,
          1865,
          1866,
          1867,
          1868,
          1869,
          1870,
          1871,
          1872,
          1873,
          1874,
          1875,
          1876,
          1877,
          1878,
          1879,
          1880,
          1881,
          1882,
          1883,
          1884,
          1885,
          1886,
          1887,
          1888,
          1889,
          1890,
          1891,
          1892,
          1893,
          1894,
          1895,
          1896,
          1897,
          1898,
          1899,
          1900,
          1901,
          1902,
          1903,
          1904,
          1905,
          1906,
          1907,
          1908,
          1909,
          1910,
          1911,
          1912,
          1913,
          1914,
          1915,
          1916,
          1917,
          1918,
          1919,
          1920,
          1921,
          1922,
          1923,
          1924,
          1925,
          1926,
          1927,
          1928,
          1929,
          1930,
          1931,
          1932,
          1933,
          1934,
          1935,
          1936,
          1937,
          1938,
          1939,
          1940,
          1941,
          1942,
          1943,
          1944,
          1945,
          1946,
          1947,
          1948,
          1949,
          1950,
          1951,
          1952,
          1953,
          1954,
          1955,
          1956,
          1957,
          1958,
          1959,
          1960,
          1961,
          1962,
          1963,
          1964,
          1965,
          1966,
          1967,
          1968,
          1969,
          1970,
          1971,
          1972,
          1973,
          1974,
          1975,
          1976,
          1977,
          1978,
          1979,
          1980,
          1981,
          1982,
          1983,
          1984,
          1985,
          1986,
          1987,
          1988,
          1989,
          1990,
          1991,
          1992,
          1993,
          1994,
          1995,
          1996,
          1997,
          1998,
          1999,
          2000,
          2001,
          2002,
          2003,
          2004,
          2005,
          2006,
          2007,
          2008,
          2009,
          2010,
          2011,
          2012,
          2013,
          2014,
          2015,
          2016,
          2017,
          2018,
          2019,
          2020,
          2021,
          2022,
          2023,
          2024,
          2025,
          2026,
          2027,
          2028,
          2029,
          2030
         ],
         "xaxis": "x",
         "y": [
          9350528,
          9350528,
          9354192,
          9354192,
          9357856,
          9361520,
          10006384,
          10010048,
          10013712,
          10017376,
          10017376,
          10973680,
          10977344,
          10981008,
          10984672,
          10988336,
          12259744,
          12263408,
          12267072,
          12270736,
          12274400,
          13611760,
          13615424,
          13619088,
          13622752,
          13626416,
          15037056,
          15040720,
          15044384,
          15048048,
          15055376,
          16843408,
          16847072,
          16854400,
          16858064,
          16869056,
          19151728,
          19159056,
          19162720,
          19170048,
          19177376,
          21419744,
          21896064,
          21914384,
          21881408,
          21892400,
          22951296,
          24094464,
          25094736,
          26428432,
          28091888,
          27959984,
          36782896,
          31488416,
          34309696,
          33419344,
          35046160,
          36874496,
          35064480,
          35090128,
          37380128,
          39582192,
          41007488,
          41220000,
          42128672,
          43488016,
          47664976,
          49431024,
          49643536,
          49947648,
          50687776,
          51435232,
          53465088,
          56550176,
          58525072,
          60756448,
          61419632,
          65915360,
          66637168,
          66395344,
          89123136,
          84528480,
          85111056,
          86807488,
          88485600,
          90445840,
          104775744,
          104691472,
          108044032,
          111612768,
          118929776,
          122619424,
          129504080,
          132852976,
          141423072,
          155210704,
          157793824,
          172402192,
          173816496,
          183511440,
          196896032,
          198804976,
          207550944,
          217209248,
          255138976,
          260165984,
          277291520,
          279889296,
          284171850,
          301312559,
          330642191,
          347735242,
          354057462,
          377859938,
          407091108,
          432307789,
          445970599,
          477814912,
          490752496,
          521130720,
          532536752,
          566142960,
          626371792,
          665419040,
          622997248,
          675799152,
          685552720,
          699098528,
          704381729,
          754869509,
          853707188,
          882407475,
          931924710,
          991035684,
          1002177745,
          1009674571,
          1025478884,
          1076761678,
          1192276070,
          1191804432,
          1298463581,
          1358879690,
          1370094534,
          1353675035,
          1400864597,
          1485281339,
          1533711001,
          1606310640,
          1694277167,
          1850905966,
          1952224654,
          2016760928,
          2067797613,
          2256077250,
          2281857535,
          2429631367,
          2551869513,
          2885281242,
          2776431591,
          2887083061,
          3027588864,
          3082462274,
          3228332151,
          3492411249,
          3168341359,
          3125088543,
          3373154069,
          3527725678,
          3479185579,
          3014874203,
          3507597636,
          3076038222,
          3226445037,
          3661080742,
          3672399351,
          3712867713,
          3645190242,
          3981432883,
          3962552527,
          4255150726,
          3923058343,
          3505272053,
          3159133411,
          3326453782,
          3617657544,
          3796088336,
          4170573685,
          4458901333,
          4195242758,
          4438143987,
          4849926545,
          4959186226,
          4939724859,
          5023250640,
          5105436673,
          4244738093,
          4633477283,
          5130185429,
          5401115478,
          5243102933,
          6003238189,
          6379755941,
          6465694232,
          6647727815,
          6789936494,
          7443207067,
          7924210548,
          8185523970,
          8417600054,
          8856188671,
          9386933671,
          9417462637,
          9750056664,
          10271524394,
          10828857574,
          11317232919,
          11865861396,
          12243045540,
          12909912521,
          13766570654,
          14897567094,
          15498266676,
          16221152268,
          17078792097,
          17009594414,
          17046497217,
          17983972847,
          18494530823,
          19067767178,
          19610017729,
          19492613515,
          19026910179,
          18875760275,
          18998031557,
          19656716874,
          20317483523,
          20619623658,
          21266194534,
          22101399490,
          22406832518,
          22749574360,
          23238102148,
          22569624280,
          22803495349,
          22964583359,
          23453944453,
          24154961206,
          24300550431,
          24206271270,
          24518962288,
          25234207250,
          25451054498,
          26039191477,
          27366723291,
          28627533033,
          29602777196,
          30583530081,
          31493741589,
          32069444008,
          31607042410,
          33343300453,
          34468451046,
          34974075146,
          35283025443,
          35534442952,
          35496406339,
          35452459298,
          35925737687,
          36646139785,
          36702502903,
          34807259099,
          null,
          null,
          null,
          null,
          null,
          null,
          null,
          null,
          null,
          null
         ],
         "yaxis": "y"
        },
        {
         "mode": "lines",
         "name": "Original data",
         "type": "scatter",
         "x": [
          1750,
          1751,
          1752,
          1753,
          1754,
          1755,
          1756,
          1757,
          1758,
          1759,
          1760,
          1761,
          1762,
          1763,
          1764,
          1765,
          1766,
          1767,
          1768,
          1769,
          1770,
          1771,
          1772,
          1773,
          1774,
          1775,
          1776,
          1777,
          1778,
          1779,
          1780,
          1781,
          1782,
          1783,
          1784,
          1785,
          1786,
          1787,
          1788,
          1789,
          1790,
          1791,
          1792,
          1793,
          1794,
          1795,
          1796,
          1797,
          1798,
          1799,
          1800,
          1801,
          1802,
          1803,
          1804,
          1805,
          1806,
          1807,
          1808,
          1809,
          1810,
          1811,
          1812,
          1813,
          1814,
          1815,
          1816,
          1817,
          1818,
          1819,
          1820,
          1821,
          1822,
          1823,
          1824,
          1825,
          1826,
          1827,
          1828,
          1829,
          1830,
          1831,
          1832,
          1833,
          1834,
          1835,
          1836,
          1837,
          1838,
          1839,
          1840,
          1841,
          1842,
          1843,
          1844,
          1845,
          1846,
          1847,
          1848,
          1849,
          1850,
          1851,
          1852,
          1853,
          1854,
          1855,
          1856,
          1857,
          1858,
          1859,
          1860,
          1861,
          1862,
          1863,
          1864,
          1865,
          1866,
          1867,
          1868,
          1869,
          1870,
          1871,
          1872,
          1873,
          1874,
          1875,
          1876,
          1877,
          1878,
          1879,
          1880,
          1881,
          1882,
          1883,
          1884,
          1885,
          1886,
          1887,
          1888,
          1889,
          1890,
          1891,
          1892,
          1893,
          1894,
          1895,
          1896,
          1897,
          1898,
          1899,
          1900,
          1901,
          1902,
          1903,
          1904,
          1905,
          1906,
          1907,
          1908,
          1909,
          1910,
          1911,
          1912,
          1913,
          1914,
          1915,
          1916,
          1917,
          1918,
          1919,
          1920,
          1921,
          1922,
          1923,
          1924,
          1925,
          1926,
          1927,
          1928,
          1929,
          1930,
          1931,
          1932,
          1933,
          1934,
          1935,
          1936,
          1937,
          1938,
          1939,
          1940,
          1941,
          1942,
          1943,
          1944,
          1945,
          1946,
          1947,
          1948,
          1949,
          1950,
          1951,
          1952,
          1953,
          1954,
          1955,
          1956,
          1957,
          1958,
          1959,
          1960,
          1961,
          1962,
          1963,
          1964,
          1965,
          1966,
          1967,
          1968,
          1969,
          1970,
          1971,
          1972,
          1973,
          1974,
          1975,
          1976,
          1977,
          1978,
          1979,
          1980,
          1981,
          1982,
          1983,
          1984,
          1985,
          1986,
          1987,
          1988,
          1989,
          1990,
          1991,
          1992,
          1993,
          1994,
          1995,
          1996,
          1997,
          1998,
          1999,
          2000,
          2001,
          2002,
          2003,
          2004,
          2005,
          2006,
          2007,
          2008,
          2009,
          2010,
          2011,
          2012,
          2013,
          2014,
          2015,
          2016,
          2017,
          2018,
          2019,
          2020,
          2021,
          2022,
          2023,
          2024,
          2025,
          2026,
          2027,
          2028,
          2029,
          2030
         ],
         "y": [
          9350528,
          9350528,
          9354192,
          9354192,
          9357856,
          9361520,
          10006384,
          10010048,
          10013712,
          10017376,
          10017376,
          10973680,
          10977344,
          10981008,
          10984672,
          10988336,
          12259744,
          12263408,
          12267072,
          12270736,
          12274400,
          13611760,
          13615424,
          13619088,
          13622752,
          13626416,
          15037056,
          15040720,
          15044384,
          15048048,
          15055376,
          16843408,
          16847072,
          16854400,
          16858064,
          16869056,
          19151728,
          19159056,
          19162720,
          19170048,
          19177376,
          21419744,
          21896064,
          21914384,
          21881408,
          21892400,
          22951296,
          24094464,
          25094736,
          26428432,
          28091888,
          27959984,
          36782896,
          31488416,
          34309696,
          33419344,
          35046160,
          36874496,
          35064480,
          35090128,
          37380128,
          39582192,
          41007488,
          41220000,
          42128672,
          43488016,
          47664976,
          49431024,
          49643536,
          49947648,
          50687776,
          51435232,
          53465088,
          56550176,
          58525072,
          60756448,
          61419632,
          65915360,
          66637168,
          66395344,
          89123136,
          84528480,
          85111056,
          86807488,
          88485600,
          90445840,
          104775744,
          104691472,
          108044032,
          111612768,
          118929776,
          122619424,
          129504080,
          132852976,
          141423072,
          155210704,
          157793824,
          172402192,
          173816496,
          183511440,
          196896032,
          198804976,
          207550944,
          217209248,
          255138976,
          260165984,
          277291520,
          279889296,
          284171850,
          301312559,
          330642191,
          347735242,
          354057462,
          377859938,
          407091108,
          432307789,
          445970599,
          477814912,
          490752496,
          521130720,
          532536752,
          566142960,
          626371792,
          665419040,
          622997248,
          675799152,
          685552720,
          699098528,
          704381729,
          754869509,
          853707188,
          882407475,
          931924710,
          991035684,
          1002177745,
          1009674571,
          1025478884,
          1076761678,
          1192276070,
          1191804432,
          1298463581,
          1358879690,
          1370094534,
          1353675035,
          1400864597,
          1485281339,
          1533711001,
          1606310640,
          1694277167,
          1850905966,
          1952224654,
          2016760928,
          2067797613,
          2256077250,
          2281857535,
          2429631367,
          2551869513,
          2885281242,
          2776431591,
          2887083061,
          3027588864,
          3082462274,
          3228332151,
          3492411249,
          3168341359,
          3125088543,
          3373154069,
          3527725678,
          3479185579,
          3014874203,
          3507597636,
          3076038222,
          3226445037,
          3661080742,
          3672399351,
          3712867713,
          3645190242,
          3981432883,
          3962552527,
          4255150726,
          3923058343,
          3505272053,
          3159133411,
          3326453782,
          3617657544,
          3796088336,
          4170573685,
          4458901333,
          4195242758,
          4438143987,
          4849926545,
          4959186226,
          4939724859,
          5023250640,
          5105436673,
          4244738093,
          4633477283,
          5130185429,
          5401115478,
          5243102933,
          6003238189,
          6379755941,
          6465694232,
          6647727815,
          6789936494,
          7443207067,
          7924210548,
          8185523970,
          8417600054,
          8856188671,
          9386933671,
          9417462637,
          9750056664,
          10271524394,
          10828857574,
          11317232919,
          11865861396,
          12243045540,
          12909912521,
          13766570654,
          14897567094,
          15498266676,
          16221152268,
          17078792097,
          17009594414,
          17046497217,
          17983972847,
          18494530823,
          19067767178,
          19610017729,
          19492613515,
          19026910179,
          18875760275,
          18998031557,
          19656716874,
          20317483523,
          20619623658,
          21266194534,
          22101399490,
          22406832518,
          22749574360,
          23238102148,
          22569624280,
          22803495349,
          22964583359,
          23453944453,
          24154961206,
          24300550431,
          24206271270,
          24518962288,
          25234207250,
          25451054498,
          26039191477,
          27366723291,
          28627533033,
          29602777196,
          30583530081,
          31493741589,
          32069444008,
          31607042410,
          33343300453,
          34468451046,
          34974075146,
          35283025443,
          35534442952,
          35496406339,
          35452459298,
          35925737687,
          36646139785,
          36702502903,
          34807259099,
          null,
          null,
          null,
          null,
          null,
          null,
          null,
          null,
          null,
          null
         ]
        },
        {
         "mode": "lines",
         "name": "Predictions",
         "type": "scatter",
         "x": [
          1750,
          1751,
          1752,
          1753,
          1754,
          1755,
          1756,
          1757,
          1758,
          1759,
          1760,
          1761,
          1762,
          1763,
          1764,
          1765,
          1766,
          1767,
          1768,
          1769,
          1770,
          1771,
          1772,
          1773,
          1774,
          1775,
          1776,
          1777,
          1778,
          1779,
          1780,
          1781,
          1782,
          1783,
          1784,
          1785,
          1786,
          1787,
          1788,
          1789,
          1790,
          1791,
          1792,
          1793,
          1794,
          1795,
          1796,
          1797,
          1798,
          1799,
          1800,
          1801,
          1802,
          1803,
          1804,
          1805,
          1806,
          1807,
          1808,
          1809,
          1810,
          1811,
          1812,
          1813,
          1814,
          1815,
          1816,
          1817,
          1818,
          1819,
          1820,
          1821,
          1822,
          1823,
          1824,
          1825,
          1826,
          1827,
          1828,
          1829,
          1830,
          1831,
          1832,
          1833,
          1834,
          1835,
          1836,
          1837,
          1838,
          1839,
          1840,
          1841,
          1842,
          1843,
          1844,
          1845,
          1846,
          1847,
          1848,
          1849,
          1850,
          1851,
          1852,
          1853,
          1854,
          1855,
          1856,
          1857,
          1858,
          1859,
          1860,
          1861,
          1862,
          1863,
          1864,
          1865,
          1866,
          1867,
          1868,
          1869,
          1870,
          1871,
          1872,
          1873,
          1874,
          1875,
          1876,
          1877,
          1878,
          1879,
          1880,
          1881,
          1882,
          1883,
          1884,
          1885,
          1886,
          1887,
          1888,
          1889,
          1890,
          1891,
          1892,
          1893,
          1894,
          1895,
          1896,
          1897,
          1898,
          1899,
          1900,
          1901,
          1902,
          1903,
          1904,
          1905,
          1906,
          1907,
          1908,
          1909,
          1910,
          1911,
          1912,
          1913,
          1914,
          1915,
          1916,
          1917,
          1918,
          1919,
          1920,
          1921,
          1922,
          1923,
          1924,
          1925,
          1926,
          1927,
          1928,
          1929,
          1930,
          1931,
          1932,
          1933,
          1934,
          1935,
          1936,
          1937,
          1938,
          1939,
          1940,
          1941,
          1942,
          1943,
          1944,
          1945,
          1946,
          1947,
          1948,
          1949,
          1950,
          1951,
          1952,
          1953,
          1954,
          1955,
          1956,
          1957,
          1958,
          1959,
          1960,
          1961,
          1962,
          1963,
          1964,
          1965,
          1966,
          1967,
          1968,
          1969,
          1970,
          1971,
          1972,
          1973,
          1974,
          1975,
          1976,
          1977,
          1978,
          1979,
          1980,
          1981,
          1982,
          1983,
          1984,
          1985,
          1986,
          1987,
          1988,
          1989,
          1990,
          1991,
          1992,
          1993,
          1994,
          1995,
          1996,
          1997,
          1998,
          1999,
          2000,
          2001,
          2002,
          2003,
          2004,
          2005,
          2006,
          2007,
          2008,
          2009,
          2010,
          2011,
          2012,
          2013,
          2014,
          2015,
          2016,
          2017,
          2018,
          2019,
          2020,
          2021,
          2022,
          2023,
          2024,
          2025,
          2026,
          2027,
          2028,
          2029,
          2030
         ],
         "y": [
          1,
          9350528.011282844,
          9350528.102939753,
          9354259.394413656,
          9354958.31610809,
          9358413.47315279,
          9362384.811495377,
          9930858.438856838,
          10071789.184732946,
          10101715.220983015,
          10104684.638572553,
          10098855.247381613,
          10888047.94803777,
          11090987.08193073,
          11135175.124088887,
          11139162.940980071,
          11133880.468744643,
          12162445.43543301,
          12431138.562633779,
          12490162.44853751,
          12495222.348096397,
          12487401.167148093,
          13560307.14875004,
          13838654.38380478,
          13898241.236993326,
          13901412.917875454,
          13891055.02826058,
          15018069.645378806,
          15308785.75629944,
          15369796.858519688,
          15371537.20573407,
          15362033.720385667,
          16789129.572927095,
          17161076.067845806,
          17243353.930090066,
          17247487.312784057,
          17238603.06253034,
          19060242.81772776,
          19542064.54742329,
          19645534.97770387,
          19653494.944953196,
          19638157.3427517,
          21426823.494657896,
          22274349.222801294,
          22482374.427766845,
          22478870.187368806,
          22458364.709004357,
          23289856.40662778,
          24411519.9675473,
          25493446.54819753,
          26833471.6526284,
          28509092.2836264,
          28803761.514324103,
          35907929.69560741,
          33497130.25944305,
          35171945.83976288,
          34810696.586640716,
          35999274.981117554,
          37753397.67090737,
          36645588.625056215,
          36326433.72500961,
          38066713.846047595,
          40271708.77875459,
          41964856.42226292,
          42516952.37695387,
          43339332.686223015,
          44602227.278171584,
          48275534.95424866,
          50637142.08827866,
          51346960.46547431,
          51691161.69827812,
          52303200.25763318,
          52992450.35365588,
          54755738.44607823,
          57661404.87433842,
          59961869.01810385,
          62303120.86233797,
          63359959.35590342,
          67218711.27061307,
          68726172.08413583,
          68797399.78473708,
          86935303.80569136,
          88320815.17592548,
          88965392.79206233,
          90351808.13775954,
          91918239.0874362,
          93766808.23653752,
          105801903.0846469,
          108838363.8307651,
          112182508.20679246,
          115781955.62215558,
          122541013.41941866,
          127138840.09137957,
          133783678.62575838,
          138035318.84830415,
          145956953.28461027,
          159142725.4894958,
          164494435.72408193,
          177642348.9547597,
          181928475.57408243,
          190694130.02546,
          203692775.50544882,
          208258781.8411344,
          216245754.2435538,
          225882507.2972474,
          259171504.00669828,
          272005377.73357654,
          289012168.69107205,
          294929806.1598554,
          299269919.63680965,
          313969966.7699639,
          341487839.9267463,
          362328423.7533314,
          372204064.5412729,
          393728809.77384204,
          422840967.92010653,
          450624205.2472862,
          468272982.4034866,
          498327337.7961574,
          515833099.0986433,
          544499779.9026611,
          560191777.9678799,
          590957754.5016539,
          647801063.6053262,
          694168418.2351347,
          668388746.2681785,
          704435515.1830871,
          720313076.4052619,
          733939074.8002468,
          740047788.5126494,
          781926401.2174871,
          872966141.8732549,
          919747768.7565933,
          971182754.633069,
          1031733125.4495075,
          1054436279.8344021,
          1063821191.9774734,
          1076786090.0374906,
          1120360252.3837886,
          1224985018.6661637,
          1249908622.0731332,
          1342149423.2461987,
          1413988691.4516582,
          1438795221.6555307,
          1427736889.0155761,
          1460972021.5723722,
          1536513295.439118,
          1593365166.7786374,
          1665089379.3146584,
          1753369070.4580991,
          1902571465.2242088,
          2022650021.483798,
          2103589021.2396178,
          2162346504.661185,
          2329094113.645468,
          2389652635.2741804,
          2522876985.3950205,
          2654045656.670882,
          2958762962.3412204,
          2942595424.886942,
          3023660197.4253902,
          3154736138.9259906,
          3227344593.884456,
          3360224690.6912546,
          3606791820.9602966,
          3389425597.073636,
          3291534447.367892,
          3465496716.7170596,
          3632606298.475722,
          3628987786.028307,
          3229008240.4547787,
          3530924474.060475,
          3247929278.657744,
          3297913772.4837766,
          3658441656.6533136,
          3761422491.220169,
          3815949691.0928793,
          3768550793.7850585,
          4025450027.435673,
          4072966170.740801,
          4318478644.377185,
          4101998502.1048055,
          3694340925.6703944,
          3305862765.052501,
          3346042949.244262,
          3587847316.8051763,
          3794033977.64068,
          4146627979.217462,
          4471213218.976901,
          4336793672.464346,
          4495825045.189272,
          4865949680.850087,
          5048958360.368044,
          5074253944.045472,
          5142490664.4093,
          5220853001.199838,
          4516082172.389436,
          4662222055.181315,
          5095660753.002168,
          5427642916.959515,
          5381112045.703966,
          5976526888.041767,
          6438171635.341638,
          6623532882.738507,
          6811446426.318088,
          6967065388.810355,
          7530326001.103645,
          8063869785.604389,
          8407973296.628774,
          8675005905.893349,
          9090721943.006308,
          9621118395.293394,
          9768861129.806276,
          10063720441.720453,
          10552348391.388102,
          11121423457.490667,
          11654342634.067091,
          12225763624.458088,
          12664635404.095451,
          13306010694.838406,
          14156807516.166862,
          15288566060.18351,
          16058186535.895367,
          16826541380.149021,
          17704319959.644283,
          17836464949.27033,
          17859743821.787197,
          18605934880.16536,
          19186906930.689075,
          19774432423.2463,
          20336968238.660347,
          20343269143.935284,
          19914996739.26771,
          19643825536.76355,
          19642730496.54339,
          20153457847.848763,
          20798637655.00287,
          21184281976.324394,
          21783406637.08651,
          22592327983.81584,
          23021451227.506523,
          23379753155.35693,
          23839220738.089092,
          23371652141.240456,
          23413157694.935654,
          23526202144.60449,
          23927046598.988132,
          24575061045.175014,
          24834404050.47923,
          24795246302.617695,
          25013052452.855145,
          25625292432.52674,
          25934761078.15512,
          26466715090.10313,
          27655571361.256893,
          28963832565.242695,
          30070313458.94516,
          31124364809.49742,
          32104756572.01187,
          32790348001.710747,
          32544722071.115456,
          33857836092.634384,
          35079523917.76386,
          35768365244.37079,
          36153432977.68836,
          36412326943.08738,
          36402476392.011505,
          36320824277.89914,
          36646136050.381516,
          37278596573.29503,
          37450008937.760414,
          35901318733.13999,
          36371346406.19737,
          36845595057.21842,
          37324077543.928276,
          37806806495.514915,
          38293794310.89403,
          38785053157.00851,
          39280594967.164505,
          39780431439.4039,
          40284574034.91239
         ]
        },
        {
         "line": {
          "color": "rgba(0,0,0,0)"
         },
         "mode": "lines",
         "showlegend": false,
         "type": "scatter",
         "x": [
          1750,
          1751,
          1752,
          1753,
          1754,
          1755,
          1756,
          1757,
          1758,
          1759,
          1760,
          1761,
          1762,
          1763,
          1764,
          1765,
          1766,
          1767,
          1768,
          1769,
          1770,
          1771,
          1772,
          1773,
          1774,
          1775,
          1776,
          1777,
          1778,
          1779,
          1780,
          1781,
          1782,
          1783,
          1784,
          1785,
          1786,
          1787,
          1788,
          1789,
          1790,
          1791,
          1792,
          1793,
          1794,
          1795,
          1796,
          1797,
          1798,
          1799,
          1800,
          1801,
          1802,
          1803,
          1804,
          1805,
          1806,
          1807,
          1808,
          1809,
          1810,
          1811,
          1812,
          1813,
          1814,
          1815,
          1816,
          1817,
          1818,
          1819,
          1820,
          1821,
          1822,
          1823,
          1824,
          1825,
          1826,
          1827,
          1828,
          1829,
          1830,
          1831,
          1832,
          1833,
          1834,
          1835,
          1836,
          1837,
          1838,
          1839,
          1840,
          1841,
          1842,
          1843,
          1844,
          1845,
          1846,
          1847,
          1848,
          1849,
          1850,
          1851,
          1852,
          1853,
          1854,
          1855,
          1856,
          1857,
          1858,
          1859,
          1860,
          1861,
          1862,
          1863,
          1864,
          1865,
          1866,
          1867,
          1868,
          1869,
          1870,
          1871,
          1872,
          1873,
          1874,
          1875,
          1876,
          1877,
          1878,
          1879,
          1880,
          1881,
          1882,
          1883,
          1884,
          1885,
          1886,
          1887,
          1888,
          1889,
          1890,
          1891,
          1892,
          1893,
          1894,
          1895,
          1896,
          1897,
          1898,
          1899,
          1900,
          1901,
          1902,
          1903,
          1904,
          1905,
          1906,
          1907,
          1908,
          1909,
          1910,
          1911,
          1912,
          1913,
          1914,
          1915,
          1916,
          1917,
          1918,
          1919,
          1920,
          1921,
          1922,
          1923,
          1924,
          1925,
          1926,
          1927,
          1928,
          1929,
          1930,
          1931,
          1932,
          1933,
          1934,
          1935,
          1936,
          1937,
          1938,
          1939,
          1940,
          1941,
          1942,
          1943,
          1944,
          1945,
          1946,
          1947,
          1948,
          1949,
          1950,
          1951,
          1952,
          1953,
          1954,
          1955,
          1956,
          1957,
          1958,
          1959,
          1960,
          1961,
          1962,
          1963,
          1964,
          1965,
          1966,
          1967,
          1968,
          1969,
          1970,
          1971,
          1972,
          1973,
          1974,
          1975,
          1976,
          1977,
          1978,
          1979,
          1980,
          1981,
          1982,
          1983,
          1984,
          1985,
          1986,
          1987,
          1988,
          1989,
          1990,
          1991,
          1992,
          1993,
          1994,
          1995,
          1996,
          1997,
          1998,
          1999,
          2000,
          2001,
          2002,
          2003,
          2004,
          2005,
          2006,
          2007,
          2008,
          2009,
          2010,
          2011,
          2012,
          2013,
          2014,
          2015,
          2016,
          2017,
          2018,
          2019,
          2020,
          2021,
          2022,
          2023,
          2024,
          2025,
          2026,
          2027,
          2028,
          2029,
          2030
         ],
         "y": [
          10450855.879901797,
          10450539.449434936,
          10428061.541473245,
          10402750.665069653,
          10387676.78348115,
          10378717.684595846,
          10998625.824720932,
          11146914.120033545,
          11174023.148377584,
          11172579.629123194,
          11162351.39303724,
          12031340.54121852,
          12252816.511786414,
          12299323.733661816,
          12301795.95484053,
          12294335.730876118,
          13428600.955838151,
          13723957.841568718,
          13787997.303874379,
          13792620.100700589,
          13783159.531381752,
          14966621.525558628,
          15273153.000928797,
          15338323.213134756,
          15341309.050975077,
          15329432.001721404,
          16572726.200787146,
          16893164.98416462,
          16960165.14672503,
          16961802.02217504,
          16951068.173514165,
          18525545.711683474,
          18935750.320759166,
          19026352.005833562,
          19030751.26362353,
          19020807.28905839,
          21030639.83806459,
          21562148.566326592,
          21676207.127816427,
          21684895.562123913,
          21667890.147805974,
          23641347.899239648,
          24576396.12028355,
          24805857.237250764,
          24801935.29812634,
          24779262.08047681,
          25696637.815560654,
          26934173.90062681,
          28127868.22253303,
          29606333.55927261,
          31455074.153424826,
          31780164.76540084,
          39618403.09803106,
          36958463.37539982,
          38806318.19716756,
          38407720.38124249,
          39719097.53243979,
          41654457.81722665,
          40432164.56368074,
          40080019.11507301,
          42000109.80895966,
          44432934.144542746,
          46301022.98622389,
          46910157.64507844,
          47817505.48704233,
          49210885.73833437,
          53263742.36931908,
          55869363.28589996,
          56652520.24286658,
          57032282.256732695,
          57707557.07107832,
          58468021.91321406,
          60413502.596139625,
          63619400.66650781,
          66157562.66827789,
          68740726.99448481,
          69906763.33644518,
          74164226.9486685,
          75827447.42694259,
          75906033.19743767,
          95918071.74754098,
          97446742.25351928,
          98157920.69293815,
          99687588.88545951,
          101415873.27429637,
          103455448.45423959,
          116734092.16327967,
          120084300.24249952,
          123773984.02692765,
          127745350.58857332,
          135202801.13274583,
          140275707.15682364,
          147607136.51140133,
          152298085.70021996,
          161038238.36790213,
          175586456.0417436,
          181491142.10868746,
          195997588.95643508,
          200726587.9158172,
          210397970.6024579,
          224739726.31987467,
          229777524.10975918,
          238589765.91553748,
          249222255.15589046,
          285950901.9691156,
          300110860.5726808,
          318874911.1674189,
          325403999.99688023,
          330192564.1105927,
          346411522.10454464,
          376772732.8387706,
          399766710.38122815,
          410662770.8939682,
          434411602.1456845,
          466531830.4558799,
          497185824.62772256,
          516658195.88940644,
          549817975.8026042,
          569132553.8203037,
          600761274.9784667,
          618074679.1570797,
          652019609.8450072,
          714736364.0321659,
          765894715.4455719,
          737451308.9079899,
          777222680.0847533,
          794740821.0931622,
          809774752.1814154,
          816514660.5777007,
          862720462.1069232,
          963167060.4138048,
          1014782489.5642546,
          1071532095.0446736,
          1138338950.2808783,
          1163387952.0945072,
          1173742578.4740448,
          1188047099.753914,
          1236123646.877515,
          1351558969.9135687,
          1379057852.9480217,
          1480829613.6779754,
          1560091813.505397,
          1587461526.5211387,
          1575260570.2285528,
          1611929787.2711537,
          1695276509.669823,
          1758002710.8024428,
          1837137966.6103873,
          1934539327.9397154,
          2099158349.320316,
          2231644255.134604,
          2320946433.91139,
          2385775148.18778,
          2569752277.050746,
          2636568125.2977004,
          2783558139.6023555,
          2928280068.061179,
          3264482879.925017,
          3246644800.3283076,
          3336085747.604253,
          3480705364.8040624,
          3560816229.096537,
          3707426419.4462657,
          3979470576.3322277,
          3739644566.0760813,
          3631638623.600137,
          3823575881.5932193,
          4007952384.7690325,
          4003959982.5098004,
          3562651775.1731195,
          3895764088.772364,
          3583527866.320047,
          3638677104.8476524,
          4036457231.4028916,
          4150078760.292748,
          4210240088.773709,
          4157943608.53581,
          4441387453.410319,
          4493813294.315436,
          4764693820.1280985,
          4525845447.586379,
          4076065861.9690084,
          3647447442.4798093,
          3691779322.0780478,
          3958568594.568159,
          4186059891.7533174,
          4575086351.919922,
          4933209990.669476,
          4784901283.989472,
          4960364881.526429,
          5368733362.52064,
          5570651768.54642,
          5598561067.433727,
          5673848479.181535,
          5760307756.298215,
          4982715115.655719,
          5143955185.076773,
          5622179776.415288,
          5988464640.891781,
          5937125877.180362,
          6594063112.100651,
          7103408197.647905,
          7307922255.188295,
          7515252329.861184,
          7686950923.264461,
          8308411530.001458,
          8897084760.11884,
          9276743433.340952,
          9571367704.504644,
          10030038406.868608,
          10615239100.571383,
          10778247639.474064,
          11103573861.270702,
          11642690240.86764,
          12270566091.122986,
          12858550174.49169,
          13489014346.209303,
          13973233403.073097,
          14680880038.807835,
          15619587090.664278,
          16868286779.749113,
          17717429782.74692,
          18565176380.46313,
          19533653132.943417,
          19679452259.7382,
          19705136466.875614,
          20528429162.5842,
          21169431276.23405,
          21817663979.01701,
          22438324897.832462,
          22445276856.35697,
          21972752375.424805,
          21673561882.853867,
          21672353695.480618,
          22235852940.221252,
          22947697201.399014,
          23373188969.654163,
          24034219347.17761,
          24926724059.861404,
          25400187294.407787,
          25795511463.393005,
          26302454424.62394,
          25786573396.292038,
          25832367591.76641,
          25957092578.29336,
          26399355062.81928,
          27114326857.601807,
          27400466981.5724,
          27357263183.51983,
          27597574576.369602,
          28273075438.548187,
          28614520531.78,
          29201439723.014435,
          30513136872.556274,
          31956576701.038628,
          33177386877.598915,
          34340350126.847157,
          35422042768.36091,
          36178474261.306305,
          35907468555.37456,
          37356262628.16709,
          38704183715.63136,
          39464200907.38159,
          39889056510.55978,
          40174701196.706665,
          40163832818.34912,
          40073743841.29278,
          40432669083.16699,
          41130479815.40823,
          41319603694.65334,
          39610892073.060486,
          41251444232.140785,
          42841725292.974106,
          44426864750.14765,
          46029566661.566696,
          47663613461.39405,
          49338506661.278305,
          51061448537.37236,
          52838315122.8111,
          54674183797.77798,
          56573641801.953224
         ]
        },
        {
         "fill": "tonexty",
         "fillcolor": "rgba(0,100,80,0.2)",
         "line": {
          "color": "rgba(0,0,0,0)"
         },
         "mode": "lines",
         "name": "95% confidence interval",
         "type": "scatter",
         "x": [
          1750,
          1751,
          1752,
          1753,
          1754,
          1755,
          1756,
          1757,
          1758,
          1759,
          1760,
          1761,
          1762,
          1763,
          1764,
          1765,
          1766,
          1767,
          1768,
          1769,
          1770,
          1771,
          1772,
          1773,
          1774,
          1775,
          1776,
          1777,
          1778,
          1779,
          1780,
          1781,
          1782,
          1783,
          1784,
          1785,
          1786,
          1787,
          1788,
          1789,
          1790,
          1791,
          1792,
          1793,
          1794,
          1795,
          1796,
          1797,
          1798,
          1799,
          1800,
          1801,
          1802,
          1803,
          1804,
          1805,
          1806,
          1807,
          1808,
          1809,
          1810,
          1811,
          1812,
          1813,
          1814,
          1815,
          1816,
          1817,
          1818,
          1819,
          1820,
          1821,
          1822,
          1823,
          1824,
          1825,
          1826,
          1827,
          1828,
          1829,
          1830,
          1831,
          1832,
          1833,
          1834,
          1835,
          1836,
          1837,
          1838,
          1839,
          1840,
          1841,
          1842,
          1843,
          1844,
          1845,
          1846,
          1847,
          1848,
          1849,
          1850,
          1851,
          1852,
          1853,
          1854,
          1855,
          1856,
          1857,
          1858,
          1859,
          1860,
          1861,
          1862,
          1863,
          1864,
          1865,
          1866,
          1867,
          1868,
          1869,
          1870,
          1871,
          1872,
          1873,
          1874,
          1875,
          1876,
          1877,
          1878,
          1879,
          1880,
          1881,
          1882,
          1883,
          1884,
          1885,
          1886,
          1887,
          1888,
          1889,
          1890,
          1891,
          1892,
          1893,
          1894,
          1895,
          1896,
          1897,
          1898,
          1899,
          1900,
          1901,
          1902,
          1903,
          1904,
          1905,
          1906,
          1907,
          1908,
          1909,
          1910,
          1911,
          1912,
          1913,
          1914,
          1915,
          1916,
          1917,
          1918,
          1919,
          1920,
          1921,
          1922,
          1923,
          1924,
          1925,
          1926,
          1927,
          1928,
          1929,
          1930,
          1931,
          1932,
          1933,
          1934,
          1935,
          1936,
          1937,
          1938,
          1939,
          1940,
          1941,
          1942,
          1943,
          1944,
          1945,
          1946,
          1947,
          1948,
          1949,
          1950,
          1951,
          1952,
          1953,
          1954,
          1955,
          1956,
          1957,
          1958,
          1959,
          1960,
          1961,
          1962,
          1963,
          1964,
          1965,
          1966,
          1967,
          1968,
          1969,
          1970,
          1971,
          1972,
          1973,
          1974,
          1975,
          1976,
          1977,
          1978,
          1979,
          1980,
          1981,
          1982,
          1983,
          1984,
          1985,
          1986,
          1987,
          1988,
          1989,
          1990,
          1991,
          1992,
          1993,
          1994,
          1995,
          1996,
          1997,
          1998,
          1999,
          2000,
          2001,
          2002,
          2003,
          2004,
          2005,
          2006,
          2007,
          2008,
          2009,
          2010,
          2011,
          2012,
          2013,
          2014,
          2015,
          2016,
          2017,
          2018,
          2019,
          2020,
          2021,
          2022,
          2023,
          2024,
          2025,
          2026,
          2027,
          2028,
          2029,
          2030
         ],
         "y": [
          8366049.163296537,
          8366302.64178311,
          8391029.192719368,
          8412702.362460589,
          8431134.753226083,
          8445576.035719354,
          8966751.929222615,
          9100360.538293827,
          9132310.632509861,
          9138860.946567014,
          9136683.993946265,
          9853398.10743674,
          10039323.965492073,
          10081214.847998185,
          10086409.454456951,
          10082959.90982016,
          11015673.148405982,
          11260104.97462565,
          11314490.02728046,
          11319863.839390246,
          11313457.379221031,
          12286134.82704996,
          12538888.017605348,
          12593365.44142263,
          12596661.76277127,
          12587642.502115874,
          13609252.523748074,
          13873002.57541798,
          13928558.68020703,
          13930368.704832206,
          13921959.230569372,
          15215469.287836721,
          15552725.760411426,
          15627444.224052453,
          15631322.930128325,
          15623387.116614413,
          17274455.702160694,
          17711235.297397766,
          17805100.416525908,
          17812392.153087635,
          17798559.1207976,
          19419737.276739176,
          20187932.79824399,
          20376524.587558433,
          20373394.206005808,
          20354849.299569905,
          21108497.358081575,
          22125137.727431558,
          23105761.5800817,
          24320309.689508956,
          25839021.674912576,
          26106116.2992241,
          32544961.790465586,
          30359967.194008276,
          31877947.49993845,
          31550547.25505056,
          32627825.89930893,
          34217683.06172066,
          33213635.237405628,
          32924380.185269076,
          34501688.43910376,
          36500189.76205762,
          38034778.95218672,
          38535177.24457736,
          39280546.70681437,
          40425175.209232196,
          43754478.58994812,
          45894923.58713961,
          46538271.161466256,
          46850241.51215879,
          47404965.589179486,
          48029669.93911619,
          49627827.620226614,
          52261379.03296418,
          54346405.628214374,
          56468400.014136106,
          57426266.90154344,
          60923646.49077171,
          62289934.444766745,
          62354493.01941277,
          78793775.87656322,
          80049534.88384339,
          80633748.74662927,
          81890326.8203454,
          83310061.8685542,
          84985512.68429881,
          95893517.38544,
          98645613.26864947,
          101676578.05075699,
          104938936.61042492,
          111065006.37597536,
          115232245.0366281,
          121254792.21160649,
          125108264.90004574,
          132288035.61211874,
          144238955.8235857,
          149089476.59814692,
          161006083.3410498,
          164890812.76363087,
          172835560.73302844,
          184616878.7002032,
          188755277.0097548,
          195994266.7654808,
          204728534.66066185,
          234900005.6532389,
          246531982.79729536,
          261946082.07248384,
          267309530.80577937,
          271243191.1986515,
          284566573.98301643,
          309507389.0809843,
          328396245.2360773,
          337347028.9489999,
          356855974.5647353,
          383241769.3277227,
          408423097.15244806,
          424419060.4033195,
          451658815.32429403,
          467525156.20416135,
          493507192.7275491,
          507729629.90619534,
          535614362.40951926,
          587134276.5334744,
          629159312.8367953,
          605793915.8037165,
          638464892.708933,
          652855514.9925932,
          665205434.0636739,
          670742064.6862298,
          708698731.2527128,
          791212569.6342524,
          833613081.45549,
          880231163.6380364,
          935110971.9009057,
          955687968.2562623,
          964193980.2266433,
          975944711.2310556,
          1015438138.6458844,
          1110264760.4436402,
          1132854260.024755,
          1216456679.2029545,
          1281568175.8247082,
          1304051566.1474972,
          1294028850.0715294,
          1324151501.3074298,
          1392618309.5175362,
          1444145984.0210772,
          1509153199.9754593,
          1589165468.4080431,
          1724395008.8174322,
          1833228167.9732368,
          1906587203.2309024,
          1959842028.605298,
          2110973668.0314436,
          2165860863.780281,
          2286608708.7892203,
          2405493389.9670997,
          2681673817.6685653,
          2667020375.5242825,
          2740493404.901262,
          2859294040.4784617,
          2925102689.255589,
          3045538520.3889112,
          3269014556.136282,
          3072004752.0859103,
          2983281141.411926,
          3140951785.8378406,
          3292411499.1665316,
          3289131861.6245427,
          2926610534.766118,
          3200252211.7421093,
          2943759611.3896303,
          2989063040.5891843,
          3315827367.3779263,
          3409164012.2171845,
          3458584721.5171695,
          3415624746.8539186,
          3648465281.0327168,
          3691531521.566267,
          3914051669.628675,
          3717844965.351951,
          3348364657.800262,
          2996267607.3353906,
          3032684903.789205,
          3251844211.154912,
          3438721421.9868193,
          3758294876.9510026,
          4052482600.0445094,
          3930651489.187164,
          4074789520.469962,
          4410251859.751219,
          4576121714.9967575,
          4599048358.771131,
          4660894687.365988,
          4731918365.010049,
          4093149560.907563,
          4225603394.617187,
          4618450412.882818,
          4919342335.73997,
          4877169096.197802,
          5416823138.671379,
          5835234700.413618,
          6003236804.766459,
          6173552181.907701,
          6314597376.321667,
          6825108443.188498,
          7308685673.16142,
          7620563774.863674,
          7862588690.628436,
          8239372781.310922,
          8720097427.788548,
          8854004005.617428,
          9121249643.9873,
          9564117422.137383,
          10079898417.262352,
          10562909534.052746,
          11080816756.869015,
          11478588047.01517,
          12059898326.471949,
          12831017739.872608,
          13856786716.313557,
          14554331976.11531,
          15250730131.269793,
          16046304452.127226,
          16166074019.114048,
          16187172817.405052,
          16863482832.671608,
          17390046655.6329,
          17922550188.581287,
          18432404336.03993,
          18438115159.42067,
          18049950609.2202,
          17804174680.862057,
          17803182191.526115,
          18266079754.931835,
          18850838256.560696,
          19200366857.730614,
          19743383292.88769,
          20476548883.942932,
          20865484591.80637,
          21190231423.832516,
          21606669713.19968,
          21182889072.40754,
          21220507617.065872,
          21322965416.074474,
          21686270652.742603,
          22273598328.507236,
          22508653774.30391,
          22473163162.674763,
          22670571693.825493,
          23225475193.873398,
          23505961996.95082,
          23988098337.104256,
          25065617819.368362,
          26251359922.42085,
          27254218508.985184,
          28209557596.715797,
          29098135341.555683,
          29719520903.71191,
          29496897923.972885,
          30687038376.567444,
          31794314726.755962,
          32418645831.883823,
          32767651842.709927,
          33002300301.339264,
          32993372257.678448,
          32919366891.463116,
          33214213107.246162,
          33787443489.873394,
          33942803028.86389,
          32539148181.797634,
          32068570301.56771,
          31688683540.089832,
          31356855189.75411,
          31052967061.338364,
          30765915049.91134,
          30488972005.562546,
          30217809818.793495,
          29949530408.51094,
          29682142328.392513,
          29414256675.050827
         ]
        }
       ],
       "layout": {
        "legend": {
         "tracegroupgap": 0
        },
        "template": {
         "data": {
          "bar": [
           {
            "error_x": {
             "color": "#2a3f5f"
            },
            "error_y": {
             "color": "#2a3f5f"
            },
            "marker": {
             "line": {
              "color": "#E5ECF6",
              "width": 0.5
             }
            },
            "type": "bar"
           }
          ],
          "barpolar": [
           {
            "marker": {
             "line": {
              "color": "#E5ECF6",
              "width": 0.5
             }
            },
            "type": "barpolar"
           }
          ],
          "carpet": [
           {
            "aaxis": {
             "endlinecolor": "#2a3f5f",
             "gridcolor": "white",
             "linecolor": "white",
             "minorgridcolor": "white",
             "startlinecolor": "#2a3f5f"
            },
            "baxis": {
             "endlinecolor": "#2a3f5f",
             "gridcolor": "white",
             "linecolor": "white",
             "minorgridcolor": "white",
             "startlinecolor": "#2a3f5f"
            },
            "type": "carpet"
           }
          ],
          "choropleth": [
           {
            "colorbar": {
             "outlinewidth": 0,
             "ticks": ""
            },
            "type": "choropleth"
           }
          ],
          "contour": [
           {
            "colorbar": {
             "outlinewidth": 0,
             "ticks": ""
            },
            "colorscale": [
             [
              0,
              "#0d0887"
             ],
             [
              0.1111111111111111,
              "#46039f"
             ],
             [
              0.2222222222222222,
              "#7201a8"
             ],
             [
              0.3333333333333333,
              "#9c179e"
             ],
             [
              0.4444444444444444,
              "#bd3786"
             ],
             [
              0.5555555555555556,
              "#d8576b"
             ],
             [
              0.6666666666666666,
              "#ed7953"
             ],
             [
              0.7777777777777778,
              "#fb9f3a"
             ],
             [
              0.8888888888888888,
              "#fdca26"
             ],
             [
              1,
              "#f0f921"
             ]
            ],
            "type": "contour"
           }
          ],
          "contourcarpet": [
           {
            "colorbar": {
             "outlinewidth": 0,
             "ticks": ""
            },
            "type": "contourcarpet"
           }
          ],
          "heatmap": [
           {
            "colorbar": {
             "outlinewidth": 0,
             "ticks": ""
            },
            "colorscale": [
             [
              0,
              "#0d0887"
             ],
             [
              0.1111111111111111,
              "#46039f"
             ],
             [
              0.2222222222222222,
              "#7201a8"
             ],
             [
              0.3333333333333333,
              "#9c179e"
             ],
             [
              0.4444444444444444,
              "#bd3786"
             ],
             [
              0.5555555555555556,
              "#d8576b"
             ],
             [
              0.6666666666666666,
              "#ed7953"
             ],
             [
              0.7777777777777778,
              "#fb9f3a"
             ],
             [
              0.8888888888888888,
              "#fdca26"
             ],
             [
              1,
              "#f0f921"
             ]
            ],
            "type": "heatmap"
           }
          ],
          "heatmapgl": [
           {
            "colorbar": {
             "outlinewidth": 0,
             "ticks": ""
            },
            "colorscale": [
             [
              0,
              "#0d0887"
             ],
             [
              0.1111111111111111,
              "#46039f"
             ],
             [
              0.2222222222222222,
              "#7201a8"
             ],
             [
              0.3333333333333333,
              "#9c179e"
             ],
             [
              0.4444444444444444,
              "#bd3786"
             ],
             [
              0.5555555555555556,
              "#d8576b"
             ],
             [
              0.6666666666666666,
              "#ed7953"
             ],
             [
              0.7777777777777778,
              "#fb9f3a"
             ],
             [
              0.8888888888888888,
              "#fdca26"
             ],
             [
              1,
              "#f0f921"
             ]
            ],
            "type": "heatmapgl"
           }
          ],
          "histogram": [
           {
            "marker": {
             "colorbar": {
              "outlinewidth": 0,
              "ticks": ""
             }
            },
            "type": "histogram"
           }
          ],
          "histogram2d": [
           {
            "colorbar": {
             "outlinewidth": 0,
             "ticks": ""
            },
            "colorscale": [
             [
              0,
              "#0d0887"
             ],
             [
              0.1111111111111111,
              "#46039f"
             ],
             [
              0.2222222222222222,
              "#7201a8"
             ],
             [
              0.3333333333333333,
              "#9c179e"
             ],
             [
              0.4444444444444444,
              "#bd3786"
             ],
             [
              0.5555555555555556,
              "#d8576b"
             ],
             [
              0.6666666666666666,
              "#ed7953"
             ],
             [
              0.7777777777777778,
              "#fb9f3a"
             ],
             [
              0.8888888888888888,
              "#fdca26"
             ],
             [
              1,
              "#f0f921"
             ]
            ],
            "type": "histogram2d"
           }
          ],
          "histogram2dcontour": [
           {
            "colorbar": {
             "outlinewidth": 0,
             "ticks": ""
            },
            "colorscale": [
             [
              0,
              "#0d0887"
             ],
             [
              0.1111111111111111,
              "#46039f"
             ],
             [
              0.2222222222222222,
              "#7201a8"
             ],
             [
              0.3333333333333333,
              "#9c179e"
             ],
             [
              0.4444444444444444,
              "#bd3786"
             ],
             [
              0.5555555555555556,
              "#d8576b"
             ],
             [
              0.6666666666666666,
              "#ed7953"
             ],
             [
              0.7777777777777778,
              "#fb9f3a"
             ],
             [
              0.8888888888888888,
              "#fdca26"
             ],
             [
              1,
              "#f0f921"
             ]
            ],
            "type": "histogram2dcontour"
           }
          ],
          "mesh3d": [
           {
            "colorbar": {
             "outlinewidth": 0,
             "ticks": ""
            },
            "type": "mesh3d"
           }
          ],
          "parcoords": [
           {
            "line": {
             "colorbar": {
              "outlinewidth": 0,
              "ticks": ""
             }
            },
            "type": "parcoords"
           }
          ],
          "pie": [
           {
            "automargin": true,
            "type": "pie"
           }
          ],
          "scatter": [
           {
            "marker": {
             "colorbar": {
              "outlinewidth": 0,
              "ticks": ""
             }
            },
            "type": "scatter"
           }
          ],
          "scatter3d": [
           {
            "line": {
             "colorbar": {
              "outlinewidth": 0,
              "ticks": ""
             }
            },
            "marker": {
             "colorbar": {
              "outlinewidth": 0,
              "ticks": ""
             }
            },
            "type": "scatter3d"
           }
          ],
          "scattercarpet": [
           {
            "marker": {
             "colorbar": {
              "outlinewidth": 0,
              "ticks": ""
             }
            },
            "type": "scattercarpet"
           }
          ],
          "scattergeo": [
           {
            "marker": {
             "colorbar": {
              "outlinewidth": 0,
              "ticks": ""
             }
            },
            "type": "scattergeo"
           }
          ],
          "scattergl": [
           {
            "marker": {
             "colorbar": {
              "outlinewidth": 0,
              "ticks": ""
             }
            },
            "type": "scattergl"
           }
          ],
          "scattermapbox": [
           {
            "marker": {
             "colorbar": {
              "outlinewidth": 0,
              "ticks": ""
             }
            },
            "type": "scattermapbox"
           }
          ],
          "scatterpolar": [
           {
            "marker": {
             "colorbar": {
              "outlinewidth": 0,
              "ticks": ""
             }
            },
            "type": "scatterpolar"
           }
          ],
          "scatterpolargl": [
           {
            "marker": {
             "colorbar": {
              "outlinewidth": 0,
              "ticks": ""
             }
            },
            "type": "scatterpolargl"
           }
          ],
          "scatterternary": [
           {
            "marker": {
             "colorbar": {
              "outlinewidth": 0,
              "ticks": ""
             }
            },
            "type": "scatterternary"
           }
          ],
          "surface": [
           {
            "colorbar": {
             "outlinewidth": 0,
             "ticks": ""
            },
            "colorscale": [
             [
              0,
              "#0d0887"
             ],
             [
              0.1111111111111111,
              "#46039f"
             ],
             [
              0.2222222222222222,
              "#7201a8"
             ],
             [
              0.3333333333333333,
              "#9c179e"
             ],
             [
              0.4444444444444444,
              "#bd3786"
             ],
             [
              0.5555555555555556,
              "#d8576b"
             ],
             [
              0.6666666666666666,
              "#ed7953"
             ],
             [
              0.7777777777777778,
              "#fb9f3a"
             ],
             [
              0.8888888888888888,
              "#fdca26"
             ],
             [
              1,
              "#f0f921"
             ]
            ],
            "type": "surface"
           }
          ],
          "table": [
           {
            "cells": {
             "fill": {
              "color": "#EBF0F8"
             },
             "line": {
              "color": "white"
             }
            },
            "header": {
             "fill": {
              "color": "#C8D4E3"
             },
             "line": {
              "color": "white"
             }
            },
            "type": "table"
           }
          ]
         },
         "layout": {
          "annotationdefaults": {
           "arrowcolor": "#2a3f5f",
           "arrowhead": 0,
           "arrowwidth": 1
          },
          "autotypenumbers": "strict",
          "coloraxis": {
           "colorbar": {
            "outlinewidth": 0,
            "ticks": ""
           }
          },
          "colorscale": {
           "diverging": [
            [
             0,
             "#8e0152"
            ],
            [
             0.1,
             "#c51b7d"
            ],
            [
             0.2,
             "#de77ae"
            ],
            [
             0.3,
             "#f1b6da"
            ],
            [
             0.4,
             "#fde0ef"
            ],
            [
             0.5,
             "#f7f7f7"
            ],
            [
             0.6,
             "#e6f5d0"
            ],
            [
             0.7,
             "#b8e186"
            ],
            [
             0.8,
             "#7fbc41"
            ],
            [
             0.9,
             "#4d9221"
            ],
            [
             1,
             "#276419"
            ]
           ],
           "sequential": [
            [
             0,
             "#0d0887"
            ],
            [
             0.1111111111111111,
             "#46039f"
            ],
            [
             0.2222222222222222,
             "#7201a8"
            ],
            [
             0.3333333333333333,
             "#9c179e"
            ],
            [
             0.4444444444444444,
             "#bd3786"
            ],
            [
             0.5555555555555556,
             "#d8576b"
            ],
            [
             0.6666666666666666,
             "#ed7953"
            ],
            [
             0.7777777777777778,
             "#fb9f3a"
            ],
            [
             0.8888888888888888,
             "#fdca26"
            ],
            [
             1,
             "#f0f921"
            ]
           ],
           "sequentialminus": [
            [
             0,
             "#0d0887"
            ],
            [
             0.1111111111111111,
             "#46039f"
            ],
            [
             0.2222222222222222,
             "#7201a8"
            ],
            [
             0.3333333333333333,
             "#9c179e"
            ],
            [
             0.4444444444444444,
             "#bd3786"
            ],
            [
             0.5555555555555556,
             "#d8576b"
            ],
            [
             0.6666666666666666,
             "#ed7953"
            ],
            [
             0.7777777777777778,
             "#fb9f3a"
            ],
            [
             0.8888888888888888,
             "#fdca26"
            ],
            [
             1,
             "#f0f921"
            ]
           ]
          },
          "colorway": [
           "#636efa",
           "#EF553B",
           "#00cc96",
           "#ab63fa",
           "#FFA15A",
           "#19d3f3",
           "#FF6692",
           "#B6E880",
           "#FF97FF",
           "#FECB52"
          ],
          "font": {
           "color": "#2a3f5f"
          },
          "geo": {
           "bgcolor": "white",
           "lakecolor": "white",
           "landcolor": "#E5ECF6",
           "showlakes": true,
           "showland": true,
           "subunitcolor": "white"
          },
          "hoverlabel": {
           "align": "left"
          },
          "hovermode": "closest",
          "mapbox": {
           "style": "light"
          },
          "paper_bgcolor": "white",
          "plot_bgcolor": "#E5ECF6",
          "polar": {
           "angularaxis": {
            "gridcolor": "white",
            "linecolor": "white",
            "ticks": ""
           },
           "bgcolor": "#E5ECF6",
           "radialaxis": {
            "gridcolor": "white",
            "linecolor": "white",
            "ticks": ""
           }
          },
          "scene": {
           "xaxis": {
            "backgroundcolor": "#E5ECF6",
            "gridcolor": "white",
            "gridwidth": 2,
            "linecolor": "white",
            "showbackground": true,
            "ticks": "",
            "zerolinecolor": "white"
           },
           "yaxis": {
            "backgroundcolor": "#E5ECF6",
            "gridcolor": "white",
            "gridwidth": 2,
            "linecolor": "white",
            "showbackground": true,
            "ticks": "",
            "zerolinecolor": "white"
           },
           "zaxis": {
            "backgroundcolor": "#E5ECF6",
            "gridcolor": "white",
            "gridwidth": 2,
            "linecolor": "white",
            "showbackground": true,
            "ticks": "",
            "zerolinecolor": "white"
           }
          },
          "shapedefaults": {
           "line": {
            "color": "#2a3f5f"
           }
          },
          "ternary": {
           "aaxis": {
            "gridcolor": "white",
            "linecolor": "white",
            "ticks": ""
           },
           "baxis": {
            "gridcolor": "white",
            "linecolor": "white",
            "ticks": ""
           },
           "bgcolor": "#E5ECF6",
           "caxis": {
            "gridcolor": "white",
            "linecolor": "white",
            "ticks": ""
           }
          },
          "title": {
           "x": 0.05
          },
          "xaxis": {
           "automargin": true,
           "gridcolor": "white",
           "linecolor": "white",
           "ticks": "",
           "title": {
            "standoff": 15
           },
           "zerolinecolor": "white",
           "zerolinewidth": 2
          },
          "yaxis": {
           "automargin": true,
           "gridcolor": "white",
           "linecolor": "white",
           "ticks": "",
           "title": {
            "standoff": 15
           },
           "zerolinecolor": "white",
           "zerolinewidth": 2
          }
         }
        },
        "title": {
         "text": "ARIMA predictions of annual CO2 emissions"
        },
        "xaxis": {
         "anchor": "y",
         "domain": [
          0,
          1
         ],
         "range": [
          1920,
          2030
         ],
         "title": {
          "text": "Year"
         }
        },
        "yaxis": {
         "anchor": "x",
         "domain": [
          0,
          1
         ],
         "title": {
          "text": "Annual CO2 emissions"
         }
        }
       }
      },
      "text/html": [
       "<div>                            <div id=\"5a8e6e5a-425d-4ece-adda-1be77e0a5bbc\" class=\"plotly-graph-div\" style=\"height:525px; width:100%;\"></div>            <script type=\"text/javascript\">                require([\"plotly\"], function(Plotly) {                    window.PLOTLYENV=window.PLOTLYENV || {};                                    if (document.getElementById(\"5a8e6e5a-425d-4ece-adda-1be77e0a5bbc\")) {                    Plotly.newPlot(                        \"5a8e6e5a-425d-4ece-adda-1be77e0a5bbc\",                        [{\"hovertemplate\": \"Year=%{x}<br>Annual CO2 emissions=%{y}<extra></extra>\", \"legendgroup\": \"\", \"line\": {\"color\": \"#636efa\", \"dash\": \"solid\"}, \"mode\": \"lines\", \"name\": \"\", \"orientation\": \"v\", \"showlegend\": false, \"type\": \"scatter\", \"x\": [1750, 1751, 1752, 1753, 1754, 1755, 1756, 1757, 1758, 1759, 1760, 1761, 1762, 1763, 1764, 1765, 1766, 1767, 1768, 1769, 1770, 1771, 1772, 1773, 1774, 1775, 1776, 1777, 1778, 1779, 1780, 1781, 1782, 1783, 1784, 1785, 1786, 1787, 1788, 1789, 1790, 1791, 1792, 1793, 1794, 1795, 1796, 1797, 1798, 1799, 1800, 1801, 1802, 1803, 1804, 1805, 1806, 1807, 1808, 1809, 1810, 1811, 1812, 1813, 1814, 1815, 1816, 1817, 1818, 1819, 1820, 1821, 1822, 1823, 1824, 1825, 1826, 1827, 1828, 1829, 1830, 1831, 1832, 1833, 1834, 1835, 1836, 1837, 1838, 1839, 1840, 1841, 1842, 1843, 1844, 1845, 1846, 1847, 1848, 1849, 1850, 1851, 1852, 1853, 1854, 1855, 1856, 1857, 1858, 1859, 1860, 1861, 1862, 1863, 1864, 1865, 1866, 1867, 1868, 1869, 1870, 1871, 1872, 1873, 1874, 1875, 1876, 1877, 1878, 1879, 1880, 1881, 1882, 1883, 1884, 1885, 1886, 1887, 1888, 1889, 1890, 1891, 1892, 1893, 1894, 1895, 1896, 1897, 1898, 1899, 1900, 1901, 1902, 1903, 1904, 1905, 1906, 1907, 1908, 1909, 1910, 1911, 1912, 1913, 1914, 1915, 1916, 1917, 1918, 1919, 1920, 1921, 1922, 1923, 1924, 1925, 1926, 1927, 1928, 1929, 1930, 1931, 1932, 1933, 1934, 1935, 1936, 1937, 1938, 1939, 1940, 1941, 1942, 1943, 1944, 1945, 1946, 1947, 1948, 1949, 1950, 1951, 1952, 1953, 1954, 1955, 1956, 1957, 1958, 1959, 1960, 1961, 1962, 1963, 1964, 1965, 1966, 1967, 1968, 1969, 1970, 1971, 1972, 1973, 1974, 1975, 1976, 1977, 1978, 1979, 1980, 1981, 1982, 1983, 1984, 1985, 1986, 1987, 1988, 1989, 1990, 1991, 1992, 1993, 1994, 1995, 1996, 1997, 1998, 1999, 2000, 2001, 2002, 2003, 2004, 2005, 2006, 2007, 2008, 2009, 2010, 2011, 2012, 2013, 2014, 2015, 2016, 2017, 2018, 2019, 2020, 2021, 2022, 2023, 2024, 2025, 2026, 2027, 2028, 2029, 2030], \"xaxis\": \"x\", \"y\": [9350528.0, 9350528.0, 9354192.0, 9354192.0, 9357856.0, 9361520.0, 10006384.0, 10010048.0, 10013712.0, 10017376.0, 10017376.0, 10973680.0, 10977344.0, 10981008.0, 10984672.0, 10988336.0, 12259744.0, 12263408.0, 12267072.0, 12270736.0, 12274400.0, 13611760.0, 13615424.0, 13619088.0, 13622752.0, 13626416.0, 15037056.0, 15040720.0, 15044384.0, 15048048.0, 15055376.0, 16843408.0, 16847072.0, 16854400.0, 16858064.0, 16869056.0, 19151728.0, 19159056.0, 19162720.0, 19170048.0, 19177376.0, 21419744.0, 21896064.0, 21914384.0, 21881408.0, 21892400.0, 22951296.0, 24094464.0, 25094736.0, 26428432.0, 28091888.0, 27959984.0, 36782896.0, 31488416.0, 34309696.0, 33419344.0, 35046160.0, 36874496.0, 35064480.0, 35090128.0, 37380128.0, 39582192.0, 41007488.0, 41220000.0, 42128672.0, 43488016.0, 47664976.0, 49431024.0, 49643536.0, 49947648.0, 50687776.0, 51435232.0, 53465088.0, 56550176.0, 58525072.0, 60756448.0, 61419632.0, 65915360.0, 66637168.0, 66395344.0, 89123136.0, 84528480.0, 85111056.0, 86807488.0, 88485600.0, 90445840.0, 104775744.0, 104691472.0, 108044032.0, 111612768.0, 118929776.0, 122619424.0, 129504080.0, 132852976.0, 141423072.0, 155210704.0, 157793824.0, 172402192.0, 173816496.0, 183511440.0, 196896032.0, 198804976.0, 207550944.0, 217209248.0, 255138976.0, 260165984.0, 277291520.0, 279889296.0, 284171850.0, 301312559.0, 330642191.0, 347735242.0, 354057462.0, 377859938.0, 407091108.0, 432307789.0, 445970599.0, 477814912.0, 490752496.0, 521130720.0, 532536752.0, 566142960.0, 626371792.0, 665419040.0, 622997248.0, 675799152.0, 685552720.0, 699098528.0, 704381729.0, 754869509.0, 853707188.0, 882407475.0, 931924710.0, 991035684.0, 1002177745.0, 1009674571.0, 1025478884.0, 1076761678.0, 1192276070.0, 1191804432.0, 1298463581.0, 1358879690.0, 1370094534.0, 1353675035.0, 1400864597.0, 1485281339.0, 1533711001.0, 1606310640.0, 1694277167.0, 1850905966.0, 1952224654.0, 2016760928.0, 2067797613.0, 2256077250.0, 2281857535.0, 2429631367.0, 2551869513.0, 2885281242.0, 2776431591.0, 2887083061.0, 3027588864.0, 3082462274.0, 3228332151.0, 3492411249.0, 3168341359.0, 3125088543.0, 3373154069.0, 3527725678.0, 3479185579.0, 3014874203.0, 3507597636.0, 3076038222.0, 3226445037.0, 3661080742.0, 3672399351.0, 3712867713.0, 3645190242.0, 3981432883.0, 3962552527.0, 4255150726.0, 3923058343.0, 3505272053.0, 3159133411.0, 3326453782.0, 3617657544.0, 3796088336.0, 4170573685.0, 4458901333.0, 4195242758.0, 4438143987.0, 4849926545.0, 4959186226.0, 4939724859.0, 5023250640.0, 5105436673.0, 4244738093.0, 4633477283.0, 5130185429.0, 5401115478.0, 5243102933.0, 6003238189.0, 6379755941.0, 6465694232.0, 6647727815.0, 6789936494.0, 7443207067.0, 7924210548.0, 8185523970.0, 8417600054.0, 8856188671.0, 9386933671.0, 9417462637.0, 9750056664.0, 10271524394.0, 10828857574.0, 11317232919.0, 11865861396.0, 12243045540.0, 12909912521.0, 13766570654.0, 14897567094.0, 15498266676.0, 16221152268.0, 17078792097.0, 17009594414.0, 17046497217.0, 17983972847.0, 18494530823.0, 19067767178.0, 19610017729.0, 19492613515.0, 19026910179.0, 18875760275.0, 18998031557.0, 19656716874.0, 20317483523.0, 20619623658.0, 21266194534.0, 22101399490.0, 22406832518.0, 22749574360.0, 23238102148.0, 22569624280.0, 22803495349.0, 22964583359.0, 23453944453.0, 24154961206.0, 24300550431.0, 24206271270.0, 24518962288.0, 25234207250.0, 25451054498.0, 26039191477.0, 27366723291.0, 28627533033.0, 29602777196.0, 30583530081.0, 31493741589.0, 32069444008.0, 31607042410.0, 33343300453.0, 34468451046.0, 34974075146.0, 35283025443.0, 35534442952.0, 35496406339.0, 35452459298.0, 35925737687.0, 36646139785.0, 36702502903.0, 34807259099.0, null, null, null, null, null, null, null, null, null, null], \"yaxis\": \"y\"}, {\"mode\": \"lines\", \"name\": \"Original data\", \"type\": \"scatter\", \"x\": [1750, 1751, 1752, 1753, 1754, 1755, 1756, 1757, 1758, 1759, 1760, 1761, 1762, 1763, 1764, 1765, 1766, 1767, 1768, 1769, 1770, 1771, 1772, 1773, 1774, 1775, 1776, 1777, 1778, 1779, 1780, 1781, 1782, 1783, 1784, 1785, 1786, 1787, 1788, 1789, 1790, 1791, 1792, 1793, 1794, 1795, 1796, 1797, 1798, 1799, 1800, 1801, 1802, 1803, 1804, 1805, 1806, 1807, 1808, 1809, 1810, 1811, 1812, 1813, 1814, 1815, 1816, 1817, 1818, 1819, 1820, 1821, 1822, 1823, 1824, 1825, 1826, 1827, 1828, 1829, 1830, 1831, 1832, 1833, 1834, 1835, 1836, 1837, 1838, 1839, 1840, 1841, 1842, 1843, 1844, 1845, 1846, 1847, 1848, 1849, 1850, 1851, 1852, 1853, 1854, 1855, 1856, 1857, 1858, 1859, 1860, 1861, 1862, 1863, 1864, 1865, 1866, 1867, 1868, 1869, 1870, 1871, 1872, 1873, 1874, 1875, 1876, 1877, 1878, 1879, 1880, 1881, 1882, 1883, 1884, 1885, 1886, 1887, 1888, 1889, 1890, 1891, 1892, 1893, 1894, 1895, 1896, 1897, 1898, 1899, 1900, 1901, 1902, 1903, 1904, 1905, 1906, 1907, 1908, 1909, 1910, 1911, 1912, 1913, 1914, 1915, 1916, 1917, 1918, 1919, 1920, 1921, 1922, 1923, 1924, 1925, 1926, 1927, 1928, 1929, 1930, 1931, 1932, 1933, 1934, 1935, 1936, 1937, 1938, 1939, 1940, 1941, 1942, 1943, 1944, 1945, 1946, 1947, 1948, 1949, 1950, 1951, 1952, 1953, 1954, 1955, 1956, 1957, 1958, 1959, 1960, 1961, 1962, 1963, 1964, 1965, 1966, 1967, 1968, 1969, 1970, 1971, 1972, 1973, 1974, 1975, 1976, 1977, 1978, 1979, 1980, 1981, 1982, 1983, 1984, 1985, 1986, 1987, 1988, 1989, 1990, 1991, 1992, 1993, 1994, 1995, 1996, 1997, 1998, 1999, 2000, 2001, 2002, 2003, 2004, 2005, 2006, 2007, 2008, 2009, 2010, 2011, 2012, 2013, 2014, 2015, 2016, 2017, 2018, 2019, 2020, 2021, 2022, 2023, 2024, 2025, 2026, 2027, 2028, 2029, 2030], \"y\": [9350528.0, 9350528.0, 9354192.0, 9354192.0, 9357856.0, 9361520.0, 10006384.0, 10010048.0, 10013712.0, 10017376.0, 10017376.0, 10973680.0, 10977344.0, 10981008.0, 10984672.0, 10988336.0, 12259744.0, 12263408.0, 12267072.0, 12270736.0, 12274400.0, 13611760.0, 13615424.0, 13619088.0, 13622752.0, 13626416.0, 15037056.0, 15040720.0, 15044384.0, 15048048.0, 15055376.0, 16843408.0, 16847072.0, 16854400.0, 16858064.0, 16869056.0, 19151728.0, 19159056.0, 19162720.0, 19170048.0, 19177376.0, 21419744.0, 21896064.0, 21914384.0, 21881408.0, 21892400.0, 22951296.0, 24094464.0, 25094736.0, 26428432.0, 28091888.0, 27959984.0, 36782896.0, 31488416.0, 34309696.0, 33419344.0, 35046160.0, 36874496.0, 35064480.0, 35090128.0, 37380128.0, 39582192.0, 41007488.0, 41220000.0, 42128672.0, 43488016.0, 47664976.0, 49431024.0, 49643536.0, 49947648.0, 50687776.0, 51435232.0, 53465088.0, 56550176.0, 58525072.0, 60756448.0, 61419632.0, 65915360.0, 66637168.0, 66395344.0, 89123136.0, 84528480.0, 85111056.0, 86807488.0, 88485600.0, 90445840.0, 104775744.0, 104691472.0, 108044032.0, 111612768.0, 118929776.0, 122619424.0, 129504080.0, 132852976.0, 141423072.0, 155210704.0, 157793824.0, 172402192.0, 173816496.0, 183511440.0, 196896032.0, 198804976.0, 207550944.0, 217209248.0, 255138976.0, 260165984.0, 277291520.0, 279889296.0, 284171850.0, 301312559.0, 330642191.0, 347735242.0, 354057462.0, 377859938.0, 407091108.0, 432307789.0, 445970599.0, 477814912.0, 490752496.0, 521130720.0, 532536752.0, 566142960.0, 626371792.0, 665419040.0, 622997248.0, 675799152.0, 685552720.0, 699098528.0, 704381729.0, 754869509.0, 853707188.0, 882407475.0, 931924710.0, 991035684.0, 1002177745.0, 1009674571.0, 1025478884.0, 1076761678.0, 1192276070.0, 1191804432.0, 1298463581.0, 1358879690.0, 1370094534.0, 1353675035.0, 1400864597.0, 1485281339.0, 1533711001.0, 1606310640.0, 1694277167.0, 1850905966.0, 1952224654.0, 2016760928.0, 2067797613.0, 2256077250.0, 2281857535.0, 2429631367.0, 2551869513.0, 2885281242.0, 2776431591.0, 2887083061.0, 3027588864.0, 3082462274.0, 3228332151.0, 3492411249.0, 3168341359.0, 3125088543.0, 3373154069.0, 3527725678.0, 3479185579.0, 3014874203.0, 3507597636.0, 3076038222.0, 3226445037.0, 3661080742.0, 3672399351.0, 3712867713.0, 3645190242.0, 3981432883.0, 3962552527.0, 4255150726.0, 3923058343.0, 3505272053.0, 3159133411.0, 3326453782.0, 3617657544.0, 3796088336.0, 4170573685.0, 4458901333.0, 4195242758.0, 4438143987.0, 4849926545.0, 4959186226.0, 4939724859.0, 5023250640.0, 5105436673.0, 4244738093.0, 4633477283.0, 5130185429.0, 5401115478.0, 5243102933.0, 6003238189.0, 6379755941.0, 6465694232.0, 6647727815.0, 6789936494.0, 7443207067.0, 7924210548.0, 8185523970.0, 8417600054.0, 8856188671.0, 9386933671.0, 9417462637.0, 9750056664.0, 10271524394.0, 10828857574.0, 11317232919.0, 11865861396.0, 12243045540.0, 12909912521.0, 13766570654.0, 14897567094.0, 15498266676.0, 16221152268.0, 17078792097.0, 17009594414.0, 17046497217.0, 17983972847.0, 18494530823.0, 19067767178.0, 19610017729.0, 19492613515.0, 19026910179.0, 18875760275.0, 18998031557.0, 19656716874.0, 20317483523.0, 20619623658.0, 21266194534.0, 22101399490.0, 22406832518.0, 22749574360.0, 23238102148.0, 22569624280.0, 22803495349.0, 22964583359.0, 23453944453.0, 24154961206.0, 24300550431.0, 24206271270.0, 24518962288.0, 25234207250.0, 25451054498.0, 26039191477.0, 27366723291.0, 28627533033.0, 29602777196.0, 30583530081.0, 31493741589.0, 32069444008.0, 31607042410.0, 33343300453.0, 34468451046.0, 34974075146.0, 35283025443.0, 35534442952.0, 35496406339.0, 35452459298.0, 35925737687.0, 36646139785.0, 36702502903.0, 34807259099.0, null, null, null, null, null, null, null, null, null, null]}, {\"mode\": \"lines\", \"name\": \"Predictions\", \"type\": \"scatter\", \"x\": [1750, 1751, 1752, 1753, 1754, 1755, 1756, 1757, 1758, 1759, 1760, 1761, 1762, 1763, 1764, 1765, 1766, 1767, 1768, 1769, 1770, 1771, 1772, 1773, 1774, 1775, 1776, 1777, 1778, 1779, 1780, 1781, 1782, 1783, 1784, 1785, 1786, 1787, 1788, 1789, 1790, 1791, 1792, 1793, 1794, 1795, 1796, 1797, 1798, 1799, 1800, 1801, 1802, 1803, 1804, 1805, 1806, 1807, 1808, 1809, 1810, 1811, 1812, 1813, 1814, 1815, 1816, 1817, 1818, 1819, 1820, 1821, 1822, 1823, 1824, 1825, 1826, 1827, 1828, 1829, 1830, 1831, 1832, 1833, 1834, 1835, 1836, 1837, 1838, 1839, 1840, 1841, 1842, 1843, 1844, 1845, 1846, 1847, 1848, 1849, 1850, 1851, 1852, 1853, 1854, 1855, 1856, 1857, 1858, 1859, 1860, 1861, 1862, 1863, 1864, 1865, 1866, 1867, 1868, 1869, 1870, 1871, 1872, 1873, 1874, 1875, 1876, 1877, 1878, 1879, 1880, 1881, 1882, 1883, 1884, 1885, 1886, 1887, 1888, 1889, 1890, 1891, 1892, 1893, 1894, 1895, 1896, 1897, 1898, 1899, 1900, 1901, 1902, 1903, 1904, 1905, 1906, 1907, 1908, 1909, 1910, 1911, 1912, 1913, 1914, 1915, 1916, 1917, 1918, 1919, 1920, 1921, 1922, 1923, 1924, 1925, 1926, 1927, 1928, 1929, 1930, 1931, 1932, 1933, 1934, 1935, 1936, 1937, 1938, 1939, 1940, 1941, 1942, 1943, 1944, 1945, 1946, 1947, 1948, 1949, 1950, 1951, 1952, 1953, 1954, 1955, 1956, 1957, 1958, 1959, 1960, 1961, 1962, 1963, 1964, 1965, 1966, 1967, 1968, 1969, 1970, 1971, 1972, 1973, 1974, 1975, 1976, 1977, 1978, 1979, 1980, 1981, 1982, 1983, 1984, 1985, 1986, 1987, 1988, 1989, 1990, 1991, 1992, 1993, 1994, 1995, 1996, 1997, 1998, 1999, 2000, 2001, 2002, 2003, 2004, 2005, 2006, 2007, 2008, 2009, 2010, 2011, 2012, 2013, 2014, 2015, 2016, 2017, 2018, 2019, 2020, 2021, 2022, 2023, 2024, 2025, 2026, 2027, 2028, 2029, 2030], \"y\": [1.0, 9350528.011282844, 9350528.102939753, 9354259.394413656, 9354958.31610809, 9358413.47315279, 9362384.811495377, 9930858.438856838, 10071789.184732946, 10101715.220983015, 10104684.638572553, 10098855.247381613, 10888047.94803777, 11090987.08193073, 11135175.124088887, 11139162.940980071, 11133880.468744643, 12162445.43543301, 12431138.562633779, 12490162.44853751, 12495222.348096397, 12487401.167148093, 13560307.14875004, 13838654.38380478, 13898241.236993326, 13901412.917875454, 13891055.02826058, 15018069.645378806, 15308785.75629944, 15369796.858519688, 15371537.20573407, 15362033.720385667, 16789129.572927095, 17161076.067845806, 17243353.930090066, 17247487.312784057, 17238603.06253034, 19060242.81772776, 19542064.54742329, 19645534.97770387, 19653494.944953196, 19638157.3427517, 21426823.494657896, 22274349.222801294, 22482374.427766845, 22478870.187368806, 22458364.709004357, 23289856.40662778, 24411519.9675473, 25493446.54819753, 26833471.6526284, 28509092.2836264, 28803761.514324103, 35907929.69560741, 33497130.25944305, 35171945.83976288, 34810696.586640716, 35999274.981117554, 37753397.67090737, 36645588.625056215, 36326433.72500961, 38066713.846047595, 40271708.77875459, 41964856.42226292, 42516952.37695387, 43339332.686223015, 44602227.278171584, 48275534.95424866, 50637142.08827866, 51346960.46547431, 51691161.69827812, 52303200.25763318, 52992450.35365588, 54755738.44607823, 57661404.87433842, 59961869.01810385, 62303120.86233797, 63359959.35590342, 67218711.27061307, 68726172.08413583, 68797399.78473708, 86935303.80569136, 88320815.17592548, 88965392.79206233, 90351808.13775954, 91918239.0874362, 93766808.23653752, 105801903.0846469, 108838363.8307651, 112182508.20679246, 115781955.62215558, 122541013.41941866, 127138840.09137957, 133783678.62575838, 138035318.84830415, 145956953.28461027, 159142725.4894958, 164494435.72408193, 177642348.9547597, 181928475.57408243, 190694130.02546, 203692775.50544882, 208258781.8411344, 216245754.2435538, 225882507.2972474, 259171504.00669828, 272005377.73357654, 289012168.69107205, 294929806.1598554, 299269919.63680965, 313969966.7699639, 341487839.9267463, 362328423.7533314, 372204064.5412729, 393728809.77384204, 422840967.92010653, 450624205.2472862, 468272982.4034866, 498327337.7961574, 515833099.0986433, 544499779.9026611, 560191777.9678799, 590957754.5016539, 647801063.6053262, 694168418.2351347, 668388746.2681785, 704435515.1830871, 720313076.4052619, 733939074.8002468, 740047788.5126494, 781926401.2174871, 872966141.8732549, 919747768.7565933, 971182754.633069, 1031733125.4495075, 1054436279.8344021, 1063821191.9774734, 1076786090.0374906, 1120360252.3837886, 1224985018.6661637, 1249908622.0731332, 1342149423.2461987, 1413988691.4516582, 1438795221.6555307, 1427736889.0155761, 1460972021.5723722, 1536513295.439118, 1593365166.7786374, 1665089379.3146584, 1753369070.4580991, 1902571465.2242088, 2022650021.483798, 2103589021.2396178, 2162346504.661185, 2329094113.645468, 2389652635.2741804, 2522876985.3950205, 2654045656.670882, 2958762962.3412204, 2942595424.886942, 3023660197.4253902, 3154736138.9259906, 3227344593.884456, 3360224690.6912546, 3606791820.9602966, 3389425597.073636, 3291534447.367892, 3465496716.7170596, 3632606298.475722, 3628987786.028307, 3229008240.4547787, 3530924474.060475, 3247929278.657744, 3297913772.4837766, 3658441656.6533136, 3761422491.220169, 3815949691.0928793, 3768550793.7850585, 4025450027.435673, 4072966170.740801, 4318478644.377185, 4101998502.1048055, 3694340925.6703944, 3305862765.052501, 3346042949.244262, 3587847316.8051763, 3794033977.64068, 4146627979.217462, 4471213218.976901, 4336793672.464346, 4495825045.189272, 4865949680.850087, 5048958360.368044, 5074253944.045472, 5142490664.4093, 5220853001.199838, 4516082172.389436, 4662222055.181315, 5095660753.002168, 5427642916.959515, 5381112045.703966, 5976526888.041767, 6438171635.341638, 6623532882.738507, 6811446426.318088, 6967065388.810355, 7530326001.103645, 8063869785.604389, 8407973296.628774, 8675005905.893349, 9090721943.006308, 9621118395.293394, 9768861129.806276, 10063720441.720453, 10552348391.388102, 11121423457.490667, 11654342634.067091, 12225763624.458088, 12664635404.095451, 13306010694.838406, 14156807516.166862, 15288566060.18351, 16058186535.895367, 16826541380.149021, 17704319959.644283, 17836464949.27033, 17859743821.787197, 18605934880.16536, 19186906930.689075, 19774432423.2463, 20336968238.660347, 20343269143.935284, 19914996739.26771, 19643825536.76355, 19642730496.54339, 20153457847.848763, 20798637655.00287, 21184281976.324394, 21783406637.08651, 22592327983.81584, 23021451227.506523, 23379753155.35693, 23839220738.089092, 23371652141.240456, 23413157694.935654, 23526202144.60449, 23927046598.988132, 24575061045.175014, 24834404050.47923, 24795246302.617695, 25013052452.855145, 25625292432.52674, 25934761078.15512, 26466715090.10313, 27655571361.256893, 28963832565.242695, 30070313458.94516, 31124364809.49742, 32104756572.01187, 32790348001.710747, 32544722071.115456, 33857836092.634384, 35079523917.76386, 35768365244.37079, 36153432977.68836, 36412326943.08738, 36402476392.011505, 36320824277.89914, 36646136050.381516, 37278596573.29503, 37450008937.760414, 35901318733.13999, 36371346406.19737, 36845595057.21842, 37324077543.928276, 37806806495.514915, 38293794310.89403, 38785053157.00851, 39280594967.164505, 39780431439.4039, 40284574034.91239]}, {\"line\": {\"color\": \"rgba(0,0,0,0)\"}, \"mode\": \"lines\", \"showlegend\": false, \"type\": \"scatter\", \"x\": [1750, 1751, 1752, 1753, 1754, 1755, 1756, 1757, 1758, 1759, 1760, 1761, 1762, 1763, 1764, 1765, 1766, 1767, 1768, 1769, 1770, 1771, 1772, 1773, 1774, 1775, 1776, 1777, 1778, 1779, 1780, 1781, 1782, 1783, 1784, 1785, 1786, 1787, 1788, 1789, 1790, 1791, 1792, 1793, 1794, 1795, 1796, 1797, 1798, 1799, 1800, 1801, 1802, 1803, 1804, 1805, 1806, 1807, 1808, 1809, 1810, 1811, 1812, 1813, 1814, 1815, 1816, 1817, 1818, 1819, 1820, 1821, 1822, 1823, 1824, 1825, 1826, 1827, 1828, 1829, 1830, 1831, 1832, 1833, 1834, 1835, 1836, 1837, 1838, 1839, 1840, 1841, 1842, 1843, 1844, 1845, 1846, 1847, 1848, 1849, 1850, 1851, 1852, 1853, 1854, 1855, 1856, 1857, 1858, 1859, 1860, 1861, 1862, 1863, 1864, 1865, 1866, 1867, 1868, 1869, 1870, 1871, 1872, 1873, 1874, 1875, 1876, 1877, 1878, 1879, 1880, 1881, 1882, 1883, 1884, 1885, 1886, 1887, 1888, 1889, 1890, 1891, 1892, 1893, 1894, 1895, 1896, 1897, 1898, 1899, 1900, 1901, 1902, 1903, 1904, 1905, 1906, 1907, 1908, 1909, 1910, 1911, 1912, 1913, 1914, 1915, 1916, 1917, 1918, 1919, 1920, 1921, 1922, 1923, 1924, 1925, 1926, 1927, 1928, 1929, 1930, 1931, 1932, 1933, 1934, 1935, 1936, 1937, 1938, 1939, 1940, 1941, 1942, 1943, 1944, 1945, 1946, 1947, 1948, 1949, 1950, 1951, 1952, 1953, 1954, 1955, 1956, 1957, 1958, 1959, 1960, 1961, 1962, 1963, 1964, 1965, 1966, 1967, 1968, 1969, 1970, 1971, 1972, 1973, 1974, 1975, 1976, 1977, 1978, 1979, 1980, 1981, 1982, 1983, 1984, 1985, 1986, 1987, 1988, 1989, 1990, 1991, 1992, 1993, 1994, 1995, 1996, 1997, 1998, 1999, 2000, 2001, 2002, 2003, 2004, 2005, 2006, 2007, 2008, 2009, 2010, 2011, 2012, 2013, 2014, 2015, 2016, 2017, 2018, 2019, 2020, 2021, 2022, 2023, 2024, 2025, 2026, 2027, 2028, 2029, 2030], \"y\": [10450855.879901797, 10450539.449434936, 10428061.541473245, 10402750.665069653, 10387676.78348115, 10378717.684595846, 10998625.824720932, 11146914.120033545, 11174023.148377584, 11172579.629123194, 11162351.39303724, 12031340.54121852, 12252816.511786414, 12299323.733661816, 12301795.95484053, 12294335.730876118, 13428600.955838151, 13723957.841568718, 13787997.303874379, 13792620.100700589, 13783159.531381752, 14966621.525558628, 15273153.000928797, 15338323.213134756, 15341309.050975077, 15329432.001721404, 16572726.200787146, 16893164.98416462, 16960165.14672503, 16961802.02217504, 16951068.173514165, 18525545.711683474, 18935750.320759166, 19026352.005833562, 19030751.26362353, 19020807.28905839, 21030639.83806459, 21562148.566326592, 21676207.127816427, 21684895.562123913, 21667890.147805974, 23641347.899239648, 24576396.12028355, 24805857.237250764, 24801935.29812634, 24779262.08047681, 25696637.815560654, 26934173.90062681, 28127868.22253303, 29606333.55927261, 31455074.153424826, 31780164.76540084, 39618403.09803106, 36958463.37539982, 38806318.19716756, 38407720.38124249, 39719097.53243979, 41654457.81722665, 40432164.56368074, 40080019.11507301, 42000109.80895966, 44432934.144542746, 46301022.98622389, 46910157.64507844, 47817505.48704233, 49210885.73833437, 53263742.36931908, 55869363.28589996, 56652520.24286658, 57032282.256732695, 57707557.07107832, 58468021.91321406, 60413502.596139625, 63619400.66650781, 66157562.66827789, 68740726.99448481, 69906763.33644518, 74164226.9486685, 75827447.42694259, 75906033.19743767, 95918071.74754098, 97446742.25351928, 98157920.69293815, 99687588.88545951, 101415873.27429637, 103455448.45423959, 116734092.16327967, 120084300.24249952, 123773984.02692765, 127745350.58857332, 135202801.13274583, 140275707.15682364, 147607136.51140133, 152298085.70021996, 161038238.36790213, 175586456.0417436, 181491142.10868746, 195997588.95643508, 200726587.9158172, 210397970.6024579, 224739726.31987467, 229777524.10975918, 238589765.91553748, 249222255.15589046, 285950901.9691156, 300110860.5726808, 318874911.1674189, 325403999.99688023, 330192564.1105927, 346411522.10454464, 376772732.8387706, 399766710.38122815, 410662770.8939682, 434411602.1456845, 466531830.4558799, 497185824.62772256, 516658195.88940644, 549817975.8026042, 569132553.8203037, 600761274.9784667, 618074679.1570797, 652019609.8450072, 714736364.0321659, 765894715.4455719, 737451308.9079899, 777222680.0847533, 794740821.0931622, 809774752.1814154, 816514660.5777007, 862720462.1069232, 963167060.4138048, 1014782489.5642546, 1071532095.0446736, 1138338950.2808783, 1163387952.0945072, 1173742578.4740448, 1188047099.753914, 1236123646.877515, 1351558969.9135687, 1379057852.9480217, 1480829613.6779754, 1560091813.505397, 1587461526.5211387, 1575260570.2285528, 1611929787.2711537, 1695276509.669823, 1758002710.8024428, 1837137966.6103873, 1934539327.9397154, 2099158349.320316, 2231644255.134604, 2320946433.91139, 2385775148.18778, 2569752277.050746, 2636568125.2977004, 2783558139.6023555, 2928280068.061179, 3264482879.925017, 3246644800.3283076, 3336085747.604253, 3480705364.8040624, 3560816229.096537, 3707426419.4462657, 3979470576.3322277, 3739644566.0760813, 3631638623.600137, 3823575881.5932193, 4007952384.7690325, 4003959982.5098004, 3562651775.1731195, 3895764088.772364, 3583527866.320047, 3638677104.8476524, 4036457231.4028916, 4150078760.292748, 4210240088.773709, 4157943608.53581, 4441387453.410319, 4493813294.315436, 4764693820.1280985, 4525845447.586379, 4076065861.9690084, 3647447442.4798093, 3691779322.0780478, 3958568594.568159, 4186059891.7533174, 4575086351.919922, 4933209990.669476, 4784901283.989472, 4960364881.526429, 5368733362.52064, 5570651768.54642, 5598561067.433727, 5673848479.181535, 5760307756.298215, 4982715115.655719, 5143955185.076773, 5622179776.415288, 5988464640.891781, 5937125877.180362, 6594063112.100651, 7103408197.647905, 7307922255.188295, 7515252329.861184, 7686950923.264461, 8308411530.001458, 8897084760.11884, 9276743433.340952, 9571367704.504644, 10030038406.868608, 10615239100.571383, 10778247639.474064, 11103573861.270702, 11642690240.86764, 12270566091.122986, 12858550174.49169, 13489014346.209303, 13973233403.073097, 14680880038.807835, 15619587090.664278, 16868286779.749113, 17717429782.74692, 18565176380.46313, 19533653132.943417, 19679452259.7382, 19705136466.875614, 20528429162.5842, 21169431276.23405, 21817663979.01701, 22438324897.832462, 22445276856.35697, 21972752375.424805, 21673561882.853867, 21672353695.480618, 22235852940.221252, 22947697201.399014, 23373188969.654163, 24034219347.17761, 24926724059.861404, 25400187294.407787, 25795511463.393005, 26302454424.62394, 25786573396.292038, 25832367591.76641, 25957092578.29336, 26399355062.81928, 27114326857.601807, 27400466981.5724, 27357263183.51983, 27597574576.369602, 28273075438.548187, 28614520531.78, 29201439723.014435, 30513136872.556274, 31956576701.038628, 33177386877.598915, 34340350126.847157, 35422042768.36091, 36178474261.306305, 35907468555.37456, 37356262628.16709, 38704183715.63136, 39464200907.38159, 39889056510.55978, 40174701196.706665, 40163832818.34912, 40073743841.29278, 40432669083.16699, 41130479815.40823, 41319603694.65334, 39610892073.060486, 41251444232.140785, 42841725292.974106, 44426864750.14765, 46029566661.566696, 47663613461.39405, 49338506661.278305, 51061448537.37236, 52838315122.8111, 54674183797.77798, 56573641801.953224]}, {\"fill\": \"tonexty\", \"fillcolor\": \"rgba(0,100,80,0.2)\", \"line\": {\"color\": \"rgba(0,0,0,0)\"}, \"mode\": \"lines\", \"name\": \"95% confidence interval\", \"type\": \"scatter\", \"x\": [1750, 1751, 1752, 1753, 1754, 1755, 1756, 1757, 1758, 1759, 1760, 1761, 1762, 1763, 1764, 1765, 1766, 1767, 1768, 1769, 1770, 1771, 1772, 1773, 1774, 1775, 1776, 1777, 1778, 1779, 1780, 1781, 1782, 1783, 1784, 1785, 1786, 1787, 1788, 1789, 1790, 1791, 1792, 1793, 1794, 1795, 1796, 1797, 1798, 1799, 1800, 1801, 1802, 1803, 1804, 1805, 1806, 1807, 1808, 1809, 1810, 1811, 1812, 1813, 1814, 1815, 1816, 1817, 1818, 1819, 1820, 1821, 1822, 1823, 1824, 1825, 1826, 1827, 1828, 1829, 1830, 1831, 1832, 1833, 1834, 1835, 1836, 1837, 1838, 1839, 1840, 1841, 1842, 1843, 1844, 1845, 1846, 1847, 1848, 1849, 1850, 1851, 1852, 1853, 1854, 1855, 1856, 1857, 1858, 1859, 1860, 1861, 1862, 1863, 1864, 1865, 1866, 1867, 1868, 1869, 1870, 1871, 1872, 1873, 1874, 1875, 1876, 1877, 1878, 1879, 1880, 1881, 1882, 1883, 1884, 1885, 1886, 1887, 1888, 1889, 1890, 1891, 1892, 1893, 1894, 1895, 1896, 1897, 1898, 1899, 1900, 1901, 1902, 1903, 1904, 1905, 1906, 1907, 1908, 1909, 1910, 1911, 1912, 1913, 1914, 1915, 1916, 1917, 1918, 1919, 1920, 1921, 1922, 1923, 1924, 1925, 1926, 1927, 1928, 1929, 1930, 1931, 1932, 1933, 1934, 1935, 1936, 1937, 1938, 1939, 1940, 1941, 1942, 1943, 1944, 1945, 1946, 1947, 1948, 1949, 1950, 1951, 1952, 1953, 1954, 1955, 1956, 1957, 1958, 1959, 1960, 1961, 1962, 1963, 1964, 1965, 1966, 1967, 1968, 1969, 1970, 1971, 1972, 1973, 1974, 1975, 1976, 1977, 1978, 1979, 1980, 1981, 1982, 1983, 1984, 1985, 1986, 1987, 1988, 1989, 1990, 1991, 1992, 1993, 1994, 1995, 1996, 1997, 1998, 1999, 2000, 2001, 2002, 2003, 2004, 2005, 2006, 2007, 2008, 2009, 2010, 2011, 2012, 2013, 2014, 2015, 2016, 2017, 2018, 2019, 2020, 2021, 2022, 2023, 2024, 2025, 2026, 2027, 2028, 2029, 2030], \"y\": [8366049.163296537, 8366302.64178311, 8391029.192719368, 8412702.362460589, 8431134.753226083, 8445576.035719354, 8966751.929222615, 9100360.538293827, 9132310.632509861, 9138860.946567014, 9136683.993946265, 9853398.10743674, 10039323.965492073, 10081214.847998185, 10086409.454456951, 10082959.90982016, 11015673.148405982, 11260104.97462565, 11314490.02728046, 11319863.839390246, 11313457.379221031, 12286134.82704996, 12538888.017605348, 12593365.44142263, 12596661.76277127, 12587642.502115874, 13609252.523748074, 13873002.57541798, 13928558.68020703, 13930368.704832206, 13921959.230569372, 15215469.287836721, 15552725.760411426, 15627444.224052453, 15631322.930128325, 15623387.116614413, 17274455.702160694, 17711235.297397766, 17805100.416525908, 17812392.153087635, 17798559.1207976, 19419737.276739176, 20187932.79824399, 20376524.587558433, 20373394.206005808, 20354849.299569905, 21108497.358081575, 22125137.727431558, 23105761.5800817, 24320309.689508956, 25839021.674912576, 26106116.2992241, 32544961.790465586, 30359967.194008276, 31877947.49993845, 31550547.25505056, 32627825.89930893, 34217683.06172066, 33213635.237405628, 32924380.185269076, 34501688.43910376, 36500189.76205762, 38034778.95218672, 38535177.24457736, 39280546.70681437, 40425175.209232196, 43754478.58994812, 45894923.58713961, 46538271.161466256, 46850241.51215879, 47404965.589179486, 48029669.93911619, 49627827.620226614, 52261379.03296418, 54346405.628214374, 56468400.014136106, 57426266.90154344, 60923646.49077171, 62289934.444766745, 62354493.01941277, 78793775.87656322, 80049534.88384339, 80633748.74662927, 81890326.8203454, 83310061.8685542, 84985512.68429881, 95893517.38544, 98645613.26864947, 101676578.05075699, 104938936.61042492, 111065006.37597536, 115232245.0366281, 121254792.21160649, 125108264.90004574, 132288035.61211874, 144238955.8235857, 149089476.59814692, 161006083.3410498, 164890812.76363087, 172835560.73302844, 184616878.7002032, 188755277.0097548, 195994266.7654808, 204728534.66066185, 234900005.6532389, 246531982.79729536, 261946082.07248384, 267309530.80577937, 271243191.1986515, 284566573.98301643, 309507389.0809843, 328396245.2360773, 337347028.9489999, 356855974.5647353, 383241769.3277227, 408423097.15244806, 424419060.4033195, 451658815.32429403, 467525156.20416135, 493507192.7275491, 507729629.90619534, 535614362.40951926, 587134276.5334744, 629159312.8367953, 605793915.8037165, 638464892.708933, 652855514.9925932, 665205434.0636739, 670742064.6862298, 708698731.2527128, 791212569.6342524, 833613081.45549, 880231163.6380364, 935110971.9009057, 955687968.2562623, 964193980.2266433, 975944711.2310556, 1015438138.6458844, 1110264760.4436402, 1132854260.024755, 1216456679.2029545, 1281568175.8247082, 1304051566.1474972, 1294028850.0715294, 1324151501.3074298, 1392618309.5175362, 1444145984.0210772, 1509153199.9754593, 1589165468.4080431, 1724395008.8174322, 1833228167.9732368, 1906587203.2309024, 1959842028.605298, 2110973668.0314436, 2165860863.780281, 2286608708.7892203, 2405493389.9670997, 2681673817.6685653, 2667020375.5242825, 2740493404.901262, 2859294040.4784617, 2925102689.255589, 3045538520.3889112, 3269014556.136282, 3072004752.0859103, 2983281141.411926, 3140951785.8378406, 3292411499.1665316, 3289131861.6245427, 2926610534.766118, 3200252211.7421093, 2943759611.3896303, 2989063040.5891843, 3315827367.3779263, 3409164012.2171845, 3458584721.5171695, 3415624746.8539186, 3648465281.0327168, 3691531521.566267, 3914051669.628675, 3717844965.351951, 3348364657.800262, 2996267607.3353906, 3032684903.789205, 3251844211.154912, 3438721421.9868193, 3758294876.9510026, 4052482600.0445094, 3930651489.187164, 4074789520.469962, 4410251859.751219, 4576121714.9967575, 4599048358.771131, 4660894687.365988, 4731918365.010049, 4093149560.907563, 4225603394.617187, 4618450412.882818, 4919342335.73997, 4877169096.197802, 5416823138.671379, 5835234700.413618, 6003236804.766459, 6173552181.907701, 6314597376.321667, 6825108443.188498, 7308685673.16142, 7620563774.863674, 7862588690.628436, 8239372781.310922, 8720097427.788548, 8854004005.617428, 9121249643.9873, 9564117422.137383, 10079898417.262352, 10562909534.052746, 11080816756.869015, 11478588047.01517, 12059898326.471949, 12831017739.872608, 13856786716.313557, 14554331976.11531, 15250730131.269793, 16046304452.127226, 16166074019.114048, 16187172817.405052, 16863482832.671608, 17390046655.6329, 17922550188.581287, 18432404336.03993, 18438115159.42067, 18049950609.2202, 17804174680.862057, 17803182191.526115, 18266079754.931835, 18850838256.560696, 19200366857.730614, 19743383292.88769, 20476548883.942932, 20865484591.80637, 21190231423.832516, 21606669713.19968, 21182889072.40754, 21220507617.065872, 21322965416.074474, 21686270652.742603, 22273598328.507236, 22508653774.30391, 22473163162.674763, 22670571693.825493, 23225475193.873398, 23505961996.95082, 23988098337.104256, 25065617819.368362, 26251359922.42085, 27254218508.985184, 28209557596.715797, 29098135341.555683, 29719520903.71191, 29496897923.972885, 30687038376.567444, 31794314726.755962, 32418645831.883823, 32767651842.709927, 33002300301.339264, 32993372257.678448, 32919366891.463116, 33214213107.246162, 33787443489.873394, 33942803028.86389, 32539148181.797634, 32068570301.56771, 31688683540.089832, 31356855189.75411, 31052967061.338364, 30765915049.91134, 30488972005.562546, 30217809818.793495, 29949530408.51094, 29682142328.392513, 29414256675.050827]}],                        {\"legend\": {\"tracegroupgap\": 0}, \"template\": {\"data\": {\"bar\": [{\"error_x\": {\"color\": \"#2a3f5f\"}, \"error_y\": {\"color\": \"#2a3f5f\"}, \"marker\": {\"line\": {\"color\": \"#E5ECF6\", \"width\": 0.5}}, \"type\": \"bar\"}], \"barpolar\": [{\"marker\": {\"line\": {\"color\": \"#E5ECF6\", \"width\": 0.5}}, \"type\": \"barpolar\"}], \"carpet\": [{\"aaxis\": {\"endlinecolor\": \"#2a3f5f\", \"gridcolor\": \"white\", \"linecolor\": \"white\", \"minorgridcolor\": \"white\", \"startlinecolor\": \"#2a3f5f\"}, \"baxis\": {\"endlinecolor\": \"#2a3f5f\", \"gridcolor\": \"white\", \"linecolor\": \"white\", \"minorgridcolor\": \"white\", \"startlinecolor\": \"#2a3f5f\"}, \"type\": \"carpet\"}], \"choropleth\": [{\"colorbar\": {\"outlinewidth\": 0, \"ticks\": \"\"}, \"type\": \"choropleth\"}], \"contour\": [{\"colorbar\": {\"outlinewidth\": 0, \"ticks\": \"\"}, \"colorscale\": [[0.0, \"#0d0887\"], [0.1111111111111111, \"#46039f\"], [0.2222222222222222, \"#7201a8\"], [0.3333333333333333, \"#9c179e\"], [0.4444444444444444, \"#bd3786\"], [0.5555555555555556, \"#d8576b\"], [0.6666666666666666, \"#ed7953\"], [0.7777777777777778, \"#fb9f3a\"], [0.8888888888888888, \"#fdca26\"], [1.0, \"#f0f921\"]], \"type\": \"contour\"}], \"contourcarpet\": [{\"colorbar\": {\"outlinewidth\": 0, \"ticks\": \"\"}, \"type\": \"contourcarpet\"}], \"heatmap\": [{\"colorbar\": {\"outlinewidth\": 0, \"ticks\": \"\"}, \"colorscale\": [[0.0, \"#0d0887\"], [0.1111111111111111, \"#46039f\"], [0.2222222222222222, \"#7201a8\"], [0.3333333333333333, \"#9c179e\"], [0.4444444444444444, \"#bd3786\"], [0.5555555555555556, \"#d8576b\"], [0.6666666666666666, \"#ed7953\"], [0.7777777777777778, \"#fb9f3a\"], [0.8888888888888888, \"#fdca26\"], [1.0, \"#f0f921\"]], \"type\": \"heatmap\"}], \"heatmapgl\": [{\"colorbar\": {\"outlinewidth\": 0, \"ticks\": \"\"}, \"colorscale\": [[0.0, \"#0d0887\"], [0.1111111111111111, \"#46039f\"], [0.2222222222222222, \"#7201a8\"], [0.3333333333333333, \"#9c179e\"], [0.4444444444444444, \"#bd3786\"], [0.5555555555555556, \"#d8576b\"], [0.6666666666666666, \"#ed7953\"], [0.7777777777777778, \"#fb9f3a\"], [0.8888888888888888, \"#fdca26\"], [1.0, \"#f0f921\"]], \"type\": \"heatmapgl\"}], \"histogram\": [{\"marker\": {\"colorbar\": {\"outlinewidth\": 0, \"ticks\": \"\"}}, \"type\": \"histogram\"}], \"histogram2d\": [{\"colorbar\": {\"outlinewidth\": 0, \"ticks\": \"\"}, \"colorscale\": [[0.0, \"#0d0887\"], [0.1111111111111111, \"#46039f\"], [0.2222222222222222, \"#7201a8\"], [0.3333333333333333, \"#9c179e\"], [0.4444444444444444, \"#bd3786\"], [0.5555555555555556, \"#d8576b\"], [0.6666666666666666, \"#ed7953\"], [0.7777777777777778, \"#fb9f3a\"], [0.8888888888888888, \"#fdca26\"], [1.0, \"#f0f921\"]], \"type\": \"histogram2d\"}], \"histogram2dcontour\": [{\"colorbar\": {\"outlinewidth\": 0, \"ticks\": \"\"}, \"colorscale\": [[0.0, \"#0d0887\"], [0.1111111111111111, \"#46039f\"], [0.2222222222222222, \"#7201a8\"], [0.3333333333333333, \"#9c179e\"], [0.4444444444444444, \"#bd3786\"], [0.5555555555555556, \"#d8576b\"], [0.6666666666666666, \"#ed7953\"], [0.7777777777777778, \"#fb9f3a\"], [0.8888888888888888, \"#fdca26\"], [1.0, \"#f0f921\"]], \"type\": \"histogram2dcontour\"}], \"mesh3d\": [{\"colorbar\": {\"outlinewidth\": 0, \"ticks\": \"\"}, \"type\": \"mesh3d\"}], \"parcoords\": [{\"line\": {\"colorbar\": {\"outlinewidth\": 0, \"ticks\": \"\"}}, \"type\": \"parcoords\"}], \"pie\": [{\"automargin\": true, \"type\": \"pie\"}], \"scatter\": [{\"marker\": {\"colorbar\": {\"outlinewidth\": 0, \"ticks\": \"\"}}, \"type\": \"scatter\"}], \"scatter3d\": [{\"line\": {\"colorbar\": {\"outlinewidth\": 0, \"ticks\": \"\"}}, \"marker\": {\"colorbar\": {\"outlinewidth\": 0, \"ticks\": \"\"}}, \"type\": \"scatter3d\"}], \"scattercarpet\": [{\"marker\": {\"colorbar\": {\"outlinewidth\": 0, \"ticks\": \"\"}}, \"type\": \"scattercarpet\"}], \"scattergeo\": [{\"marker\": {\"colorbar\": {\"outlinewidth\": 0, \"ticks\": \"\"}}, \"type\": \"scattergeo\"}], \"scattergl\": [{\"marker\": {\"colorbar\": {\"outlinewidth\": 0, \"ticks\": \"\"}}, \"type\": \"scattergl\"}], \"scattermapbox\": [{\"marker\": {\"colorbar\": {\"outlinewidth\": 0, \"ticks\": \"\"}}, \"type\": \"scattermapbox\"}], \"scatterpolar\": [{\"marker\": {\"colorbar\": {\"outlinewidth\": 0, \"ticks\": \"\"}}, \"type\": \"scatterpolar\"}], \"scatterpolargl\": [{\"marker\": {\"colorbar\": {\"outlinewidth\": 0, \"ticks\": \"\"}}, \"type\": \"scatterpolargl\"}], \"scatterternary\": [{\"marker\": {\"colorbar\": {\"outlinewidth\": 0, \"ticks\": \"\"}}, \"type\": \"scatterternary\"}], \"surface\": [{\"colorbar\": {\"outlinewidth\": 0, \"ticks\": \"\"}, \"colorscale\": [[0.0, \"#0d0887\"], [0.1111111111111111, \"#46039f\"], [0.2222222222222222, \"#7201a8\"], [0.3333333333333333, \"#9c179e\"], [0.4444444444444444, \"#bd3786\"], [0.5555555555555556, \"#d8576b\"], [0.6666666666666666, \"#ed7953\"], [0.7777777777777778, \"#fb9f3a\"], [0.8888888888888888, \"#fdca26\"], [1.0, \"#f0f921\"]], \"type\": \"surface\"}], \"table\": [{\"cells\": {\"fill\": {\"color\": \"#EBF0F8\"}, \"line\": {\"color\": \"white\"}}, \"header\": {\"fill\": {\"color\": \"#C8D4E3\"}, \"line\": {\"color\": \"white\"}}, \"type\": \"table\"}]}, \"layout\": {\"annotationdefaults\": {\"arrowcolor\": \"#2a3f5f\", \"arrowhead\": 0, \"arrowwidth\": 1}, \"autotypenumbers\": \"strict\", \"coloraxis\": {\"colorbar\": {\"outlinewidth\": 0, \"ticks\": \"\"}}, \"colorscale\": {\"diverging\": [[0, \"#8e0152\"], [0.1, \"#c51b7d\"], [0.2, \"#de77ae\"], [0.3, \"#f1b6da\"], [0.4, \"#fde0ef\"], [0.5, \"#f7f7f7\"], [0.6, \"#e6f5d0\"], [0.7, \"#b8e186\"], [0.8, \"#7fbc41\"], [0.9, \"#4d9221\"], [1, \"#276419\"]], \"sequential\": [[0.0, \"#0d0887\"], [0.1111111111111111, \"#46039f\"], [0.2222222222222222, \"#7201a8\"], [0.3333333333333333, \"#9c179e\"], [0.4444444444444444, \"#bd3786\"], [0.5555555555555556, \"#d8576b\"], [0.6666666666666666, \"#ed7953\"], [0.7777777777777778, \"#fb9f3a\"], [0.8888888888888888, \"#fdca26\"], [1.0, \"#f0f921\"]], \"sequentialminus\": [[0.0, \"#0d0887\"], [0.1111111111111111, \"#46039f\"], [0.2222222222222222, \"#7201a8\"], [0.3333333333333333, \"#9c179e\"], [0.4444444444444444, \"#bd3786\"], [0.5555555555555556, \"#d8576b\"], [0.6666666666666666, \"#ed7953\"], [0.7777777777777778, \"#fb9f3a\"], [0.8888888888888888, \"#fdca26\"], [1.0, \"#f0f921\"]]}, \"colorway\": [\"#636efa\", \"#EF553B\", \"#00cc96\", \"#ab63fa\", \"#FFA15A\", \"#19d3f3\", \"#FF6692\", \"#B6E880\", \"#FF97FF\", \"#FECB52\"], \"font\": {\"color\": \"#2a3f5f\"}, \"geo\": {\"bgcolor\": \"white\", \"lakecolor\": \"white\", \"landcolor\": \"#E5ECF6\", \"showlakes\": true, \"showland\": true, \"subunitcolor\": \"white\"}, \"hoverlabel\": {\"align\": \"left\"}, \"hovermode\": \"closest\", \"mapbox\": {\"style\": \"light\"}, \"paper_bgcolor\": \"white\", \"plot_bgcolor\": \"#E5ECF6\", \"polar\": {\"angularaxis\": {\"gridcolor\": \"white\", \"linecolor\": \"white\", \"ticks\": \"\"}, \"bgcolor\": \"#E5ECF6\", \"radialaxis\": {\"gridcolor\": \"white\", \"linecolor\": \"white\", \"ticks\": \"\"}}, \"scene\": {\"xaxis\": {\"backgroundcolor\": \"#E5ECF6\", \"gridcolor\": \"white\", \"gridwidth\": 2, \"linecolor\": \"white\", \"showbackground\": true, \"ticks\": \"\", \"zerolinecolor\": \"white\"}, \"yaxis\": {\"backgroundcolor\": \"#E5ECF6\", \"gridcolor\": \"white\", \"gridwidth\": 2, \"linecolor\": \"white\", \"showbackground\": true, \"ticks\": \"\", \"zerolinecolor\": \"white\"}, \"zaxis\": {\"backgroundcolor\": \"#E5ECF6\", \"gridcolor\": \"white\", \"gridwidth\": 2, \"linecolor\": \"white\", \"showbackground\": true, \"ticks\": \"\", \"zerolinecolor\": \"white\"}}, \"shapedefaults\": {\"line\": {\"color\": \"#2a3f5f\"}}, \"ternary\": {\"aaxis\": {\"gridcolor\": \"white\", \"linecolor\": \"white\", \"ticks\": \"\"}, \"baxis\": {\"gridcolor\": \"white\", \"linecolor\": \"white\", \"ticks\": \"\"}, \"bgcolor\": \"#E5ECF6\", \"caxis\": {\"gridcolor\": \"white\", \"linecolor\": \"white\", \"ticks\": \"\"}}, \"title\": {\"x\": 0.05}, \"xaxis\": {\"automargin\": true, \"gridcolor\": \"white\", \"linecolor\": \"white\", \"ticks\": \"\", \"title\": {\"standoff\": 15}, \"zerolinecolor\": \"white\", \"zerolinewidth\": 2}, \"yaxis\": {\"automargin\": true, \"gridcolor\": \"white\", \"linecolor\": \"white\", \"ticks\": \"\", \"title\": {\"standoff\": 15}, \"zerolinecolor\": \"white\", \"zerolinewidth\": 2}}}, \"title\": {\"text\": \"ARIMA predictions of annual CO2 emissions\"}, \"xaxis\": {\"anchor\": \"y\", \"domain\": [0.0, 1.0], \"range\": [1920, 2030], \"title\": {\"text\": \"Year\"}}, \"yaxis\": {\"anchor\": \"x\", \"domain\": [0.0, 1.0], \"title\": {\"text\": \"Annual CO2 emissions\"}}},                        {\"responsive\": true}                    ).then(function(){\n",
       "                            \n",
       "var gd = document.getElementById('5a8e6e5a-425d-4ece-adda-1be77e0a5bbc');\n",
       "var x = new MutationObserver(function (mutations, observer) {{\n",
       "        var display = window.getComputedStyle(gd).display;\n",
       "        if (!display || display === 'none') {{\n",
       "            console.log([gd, 'removed!']);\n",
       "            Plotly.purge(gd);\n",
       "            observer.disconnect();\n",
       "        }}\n",
       "}});\n",
       "\n",
       "// Listen for the removal of the full notebook cells\n",
       "var notebookContainer = gd.closest('#notebook-container');\n",
       "if (notebookContainer) {{\n",
       "    x.observe(notebookContainer, {childList: true});\n",
       "}}\n",
       "\n",
       "// Listen for the clearing of the current output cell\n",
       "var outputEl = gd.closest('.output');\n",
       "if (outputEl) {{\n",
       "    x.observe(outputEl, {childList: true});\n",
       "}}\n",
       "\n",
       "                        })                };                });            </script>        </div>"
      ]
     },
     "metadata": {},
     "output_type": "display_data"
    }
   ],
   "source": [
    "# Plot \n",
    "fig = px.line(df3, x='Year', y='Annual CO2 emissions', range_x = [1920,2030], title=\"ARIMA predictions of annual CO2 emissions\")\n",
    "fig.add_scatter(x=df3['Year'], y=df3['Annual CO2 emissions'], mode='lines', name = 'Original data')\n",
    "fig.add_scatter(x=df3['Year'], y=np.exp(df3['Predictions']), mode='lines', name = 'Predictions')\n",
    "fig.add_traces([go.Scatter(x = df3['Year'], y = np.exp(df3['CI_upper']),\n",
    "                           mode = 'lines', line_color = 'rgba(0,0,0,0)',\n",
    "                           showlegend = False),\n",
    "                go.Scatter(x = df3['Year'], y = np.exp(df3['CI_lower']),\n",
    "                           mode = 'lines', line_color = 'rgba(0,0,0,0)',\n",
    "                           name = '95% confidence interval',\n",
    "                           fill='tonexty', fillcolor = 'rgba(0,100,80,0.2)')])\n",
    "fig.show()"
   ]
  },
  {
   "cell_type": "markdown",
   "id": "8a00df27",
   "metadata": {},
   "source": [
    "### How about the global temperature?"
   ]
  },
  {
   "cell_type": "markdown",
   "id": "6e9d834a",
   "metadata": {},
   "source": [
    "Well, we have just seen that assuming status quo and that CO2 emissions can be modeled by an ARIMA, the CO2 emission will increase further. We have also seen that the average global temperature and cumulative CO2 emissions have an approximately linear relationship.\n",
    "\n",
    "Now, how would the global temperature increase in 2030 if we assume the future CO2 emissions from the ARIMA to be true?\n",
    "\n",
    "This is investigated by inputting the ARIMA predictions into a least squares fit of the global temperature and cumulative CO2 emissions."
   ]
  },
  {
   "cell_type": "code",
   "execution_count": 5,
   "id": "31fccb3e",
   "metadata": {
    "tags": [
     "remove-input"
    ]
   },
   "outputs": [],
   "source": [
    "# Loading the data & pre-processing\n",
    "df = pd.read_csv('../data/GlobalLandTemperaturesByCity.csv')\n",
    "df['dt'] = pd.DatetimeIndex(df['dt'])\n",
    "df['Year'] = pd.DatetimeIndex(df['dt']).year\n",
    "df = df[df['Year'] != 1743]\n",
    "df = df[df['Year'] != 2013]\n",
    "\n",
    "# For each country average all AverageTemperature values and add iso_alpha to countries\n",
    "df_avg = pd.DataFrame({'AverageTemperature': df.groupby('Country')['AverageTemperature'].mean(), 'Country': df.groupby('Country')['Country'].first()})\n",
    "df_avg = df_avg.reset_index(drop=True)\n",
    "#print('Average country temperature df: ', df_avg)\n",
    "\n",
    "df_avg_city = pd.DataFrame({'AverageTemperature': df.groupby('City')['AverageTemperature'].mean(), 'City': df.groupby('City')['City'].first()})\n",
    "df_avg_city = df_avg_city.reset_index(drop=True)\n",
    "#print('\\n \\n Average city temperature df: ', df_avg_city)\n",
    "\n",
    "# For each Country for each Year average all AverageTemperature values\n",
    "D1 = df.groupby(['Year', 'Country'])['AverageTemperature'].mean().reset_index()\n",
    "meantemp = D1.groupby('Year')['AverageTemperature'].mean().reset_index() # Rough - er ren average.\n",
    "#meantemp1900 = meantemp[156:] # 1900-2012\n",
    "#meantemp1900 = pd.read_csv('')\n",
    "meantemp1900 = pd.read_csv('../data/meantemprelative1900df.csv')\n",
    "meantemp1900 = meantemp1900.drop(columns = {'Unnamed: 0'})\n",
    "meantemp1900\n",
    "\n",
    "df4 = pd.read_csv('../data/annual-co-emissions-by-region.csv')\n",
    "df4 = df4.rename(columns={'Annual CO2 emissions (zero filled)': \"Annual CO2 emissions (tons)\"})\n",
    "df4 = df4.loc[df4['Entity'] == 'World']\n",
    "df4 = df4.sort_values('Year')\n",
    "meantemp1900co2 = pd.merge(meantemp1900, df4, left_on=\"Year\", right_on=\"Year\", how='inner')\n",
    "meantemp1900co2 = meantemp1900co2.rename(columns={'AverageTemperature': \"Average Temperature (C)\"})"
   ]
  },
  {
   "cell_type": "code",
   "execution_count": 6,
   "id": "85dff83b",
   "metadata": {
    "tags": [
     "remove-input"
    ]
   },
   "outputs": [],
   "source": [
    "y = 2020\n",
    "for i in range(10):\n",
    "    y = y + 1\n",
    "    df4 = df4.append({'Entity': 'World', 'Code': 'OWID_WRL','Year': y, 'Annual CO2 emissions (tons)': np.exp(np.array(df3[df3.Year == y]['Predictions'])[0])}, ignore_index=True)\n",
    "    \n",
    "df4['Annual CO2 emissions (tons)'] = np.cumsum(df4['Annual CO2 emissions (tons)'])\n",
    "df4 = df4.rename(columns={\"Annual CO2 emissions (tons)\": \"Cumulative CO2 emissions (tons)\"})"
   ]
  },
  {
   "cell_type": "code",
   "execution_count": 7,
   "id": "5f3f2e6a",
   "metadata": {
    "tags": [
     "remove-input"
    ]
   },
   "outputs": [],
   "source": [
    "# Predicting with the linear model\n",
    "co2_predict = np.zeros(18)\n",
    "c = 0\n",
    "for i in range(2013,2031):\n",
    "    co2_predict[c] = df4[df4.Year == i]['Cumulative CO2 emissions (tons)'].values[0]\n",
    "    c += 1"
   ]
  },
  {
   "cell_type": "code",
   "execution_count": 8,
   "id": "f67bc91e",
   "metadata": {
    "tags": [
     "remove-input"
    ]
   },
   "outputs": [],
   "source": [
    "def linear_fit(x):\n",
    "    return 9.40088e-13 * x + 15.1500"
   ]
  },
  {
   "cell_type": "code",
   "execution_count": 9,
   "id": "4e25dc5d",
   "metadata": {
    "tags": [
     "remove-input"
    ]
   },
   "outputs": [],
   "source": [
    "pred_temp = linear_fit(co2_predict)"
   ]
  },
  {
   "cell_type": "code",
   "execution_count": 10,
   "id": "8019d0bd",
   "metadata": {
    "tags": [
     "remove-input"
    ]
   },
   "outputs": [],
   "source": [
    "# Adding predicted values to dataframe\n",
    "index = 113\n",
    "year = 2014\n",
    "df_pred = pd.DataFrame({'Cumulative CO2 emissions (tons)': co2_predict[0], 'Average Temperature (C)': pred_temp[0], 'Entity': 'World', 'Code': 'OWID_WRL', 'Year': year-1}, index=[0])\n",
    "\n",
    "for i in range(1,18):\n",
    "    df_pred = df_pred.append({'Cumulative CO2 emissions (tons)': co2_predict[i], 'Average Temperature (C)': pred_temp[i], 'Entity': 'World', 'Code': 'OWID_WRL', 'Year': year}, ignore_index=True)\n",
    "    year += 1\n",
    "    index += 1\n"
   ]
  },
  {
   "cell_type": "code",
   "execution_count": 11,
   "id": "eb81f3c5",
   "metadata": {
    "tags": [
     "remove-input"
    ]
   },
   "outputs": [],
   "source": [
    "meantemp1900co2 = meantemp1900co2.rename(columns={\"Annual CO2 emissions (tons)\": \"Cumulative CO2 emissions (tons)\"})\n",
    "meantemp1900co2[\"Cumulative CO2 emissions (tons)\"] = np.cumsum(meantemp1900co2[\"Cumulative CO2 emissions (tons)\"])\n",
    "df_predictions = pd.concat([meantemp1900co2, df_pred], ignore_index=True)"
   ]
  },
  {
   "cell_type": "code",
   "execution_count": 12,
   "id": "9dcfeb44",
   "metadata": {
    "tags": [
     "remove-input"
    ]
   },
   "outputs": [],
   "source": [
    "df_predictions2 = df_predictions.copy()\n",
    "df_predictions2 = df_predictions2.rename(columns={\"Average Temperature (C)\": \"temp\", \"Cumulative CO2 emissions (tons)\": \"CO2\"})\n",
    "model = smf.ols('temp ~ CO2', df_predictions2)\n",
    "results = model.fit()\n",
    "alpha = .05\n",
    "predictions = results.get_prediction(df_predictions2).summary_frame(alpha)"
   ]
  },
  {
   "cell_type": "code",
   "execution_count": 13,
   "id": "0e2283b5",
   "metadata": {
    "tags": [
     "remove-input"
    ]
   },
   "outputs": [
    {
     "data": {
      "application/vnd.plotly.v1+json": {
       "config": {
        "plotlyServerURL": "https://plot.ly"
       },
       "data": [
        {
         "hovertemplate": "Cumulative CO2 emissions (tons)=%{x}<br>Average Temperature (C)=%{y}<br>Year=%{marker.color}<extra></extra>",
         "legendgroup": "",
         "marker": {
          "color": [
           1900,
           1901,
           1902,
           1903,
           1904,
           1905,
           1906,
           1907,
           1908,
           1909,
           1910,
           1911,
           1912,
           1913,
           1914,
           1915,
           1916,
           1917,
           1918,
           1919,
           1920,
           1921,
           1922,
           1923,
           1924,
           1925,
           1926,
           1927,
           1928,
           1929,
           1930,
           1931,
           1932,
           1933,
           1934,
           1935,
           1936,
           1937,
           1938,
           1939,
           1940,
           1941,
           1942,
           1943,
           1944,
           1945,
           1946,
           1947,
           1948,
           1949,
           1950,
           1951,
           1952,
           1953,
           1954,
           1955,
           1956,
           1957,
           1958,
           1959,
           1960,
           1961,
           1962,
           1963,
           1964,
           1965,
           1966,
           1967,
           1968,
           1969,
           1970,
           1971,
           1972,
           1973,
           1974,
           1975,
           1976,
           1977,
           1978,
           1979,
           1980,
           1981,
           1982,
           1983,
           1984,
           1985,
           1986,
           1987,
           1988,
           1989,
           1990,
           1991,
           1992,
           1993,
           1994,
           1995,
           1996,
           1997,
           1998,
           1999,
           2000,
           2001,
           2002,
           2003,
           2004,
           2005,
           2006,
           2007,
           2008,
           2009,
           2010,
           2011,
           2012,
           2013,
           2014,
           2015,
           2016,
           2017,
           2018,
           2019,
           2020,
           2021,
           2022,
           2023,
           2024,
           2025,
           2026,
           2027,
           2028,
           2029,
           2030
          ],
          "coloraxis": "coloraxis",
          "symbol": "circle"
         },
         "mode": "markers",
         "name": "",
         "orientation": "v",
         "showlegend": false,
         "type": "scatter",
         "x": [
          1952224654,
          3968985582,
          6036783195,
          8292860445,
          10574717980,
          13004349347,
          15556218860,
          18441500102,
          21217931693,
          24105014754,
          27132603618,
          30215065892,
          33443398043,
          36935809292,
          40104150651,
          43229239194,
          46602393263,
          50130118941,
          53609304520,
          56624178723,
          60131776359,
          63207814581,
          66434259618,
          70095340360,
          73767739711,
          77480607424,
          81125797666,
          85107230549,
          89069783076,
          93324933802,
          97247992145,
          100753264198,
          103912397609,
          107238851391,
          110856508935,
          114652597271,
          118823170956,
          123282072289,
          127477315047,
          131915459034,
          136765385579,
          141724571805,
          146664296664,
          151687547304,
          156792983977,
          161037722070,
          165671199353,
          170801384782,
          176202500260,
          181445603193,
          187448841382,
          193828597323,
          200294291555,
          206942019370,
          213731955864,
          221175162931,
          229099373479,
          237284897449,
          245702497503,
          254558686174,
          263945619845,
          273363082482,
          283113139146,
          293384663540,
          304213521114,
          315530754033,
          327396615429,
          339639660969,
          352549573490,
          366316144144,
          381213711238,
          396711977914,
          412933130182,
          430011922279,
          447021516693,
          464068013910,
          482051986757,
          500546517580,
          519614284758,
          539224302487,
          558716916002,
          577743826181,
          596619586456,
          615617618013,
          635274334887,
          655591818410,
          676211442068,
          697477636602,
          719579036092,
          741985868610,
          764735442970,
          787973545118,
          810543169398,
          833346664747,
          856311248106,
          879765192559,
          903920153765,
          928220704196,
          952426975466,
          976945937754,
          1002180145004,
          1027631199502,
          1053670390979,
          1081037114270,
          1109664647303,
          1139267424499,
          1169850954580,
          1201344696169,
          1233414140177,
          1265021182587,
          1298364483040,
          1332832934086,
          1367807009232,
          1445959228990,
          1481493671942,
          1516990078281,
          1552442537579,
          1588368275266,
          1625014415051,
          1661716917954,
          1696524177053,
          1732425495786.14,
          1768796842192.3372,
          1805642437249.5557,
          1842966514793.484,
          1880773321288.9988,
          1919067115599.8928,
          1957852168756.9014,
          1997132763724.066,
          2036913195163.4697,
          2077197769198.382
         ],
         "xaxis": "x",
         "y": [
          15.21033142,
          15.23497469,
          15.06079995,
          15.04605066,
          14.75833601,
          14.99998028,
          15.19175546,
          14.64558338,
          14.83083448,
          14.9631074,
          15.03020391,
          14.88966188,
          14.86864879,
          15.22747148,
          15.37998702,
          15.36273172,
          14.99764387,
          14.72026751,
          14.97347661,
          15.15837593,
          15.08478682,
          15.37490154,
          15.26266942,
          15.18985865,
          15.09079978,
          15.34484678,
          15.30175313,
          15.24959659,
          15.24020057,
          14.94365756,
          15.39038162,
          15.38828067,
          15.47193958,
          15.06342509,
          15.36199666,
          15.29214273,
          15.37462803,
          15.43543815,
          15.62870387,
          15.51975724,
          15.33353664,
          15.37988686,
          15.29593556,
          15.35312779,
          15.54474865,
          15.19287247,
          15.53890021,
          15.43082372,
          15.49868219,
          15.4931057,
          15.22838555,
          15.40061008,
          15.48700281,
          15.60186805,
          15.27302389,
          15.37474352,
          14.89115076,
          15.48078111,
          15.58471487,
          15.50395281,
          15.43902658,
          15.72302917,
          15.54071436,
          15.50310514,
          15.26100959,
          15.31278099,
          15.53594101,
          15.42776971,
          15.2668506,
          15.19166083,
          15.46743251,
          15.37818794,
          15.36020054,
          15.74273422,
          15.36763288,
          15.65225962,
          15.02691772,
          15.67077576,
          15.39626614,
          15.61537387,
          15.52344613,
          15.85748555,
          15.60108881,
          15.96540278,
          15.47184728,
          15.37451266,
          15.63094257,
          15.76220079,
          15.87216939,
          15.83675126,
          16.17501546,
          15.94954207,
          15.67622444,
          15.60012037,
          15.88346865,
          16.1609722,
          15.60254001,
          15.97193551,
          16.3882896,
          16.23599663,
          16.07910077,
          16.28246648,
          16.37835434,
          16.18615597,
          16.2246839,
          16.31765387,
          16.32318586,
          16.45278096,
          16.25992405,
          16.24834128,
          16.40050416,
          16.12791246,
          16.33555644,
          16.50932891966275,
          16.542734423068612,
          16.57610416871103,
          16.609432600267567,
          16.643205955158265,
          16.677656551416465,
          16.71216013396554,
          16.7448820205574,
          16.7786324194826,
          16.81282468578291,
          16.84746278754906,
          16.882550704959176,
          16.918092430063933,
          16.954091966570072,
          16.990553329622337,
          17.02748054558383,
          17.064877651814836,
          17.10274869645017
         ],
         "yaxis": "y"
        },
        {
         "hovertemplate": "<b>OLS trendline</b><br>Average Temperature (C) = 9.55021e-13 * Cumulative CO2 emissions (tons) + 15.1248<br>R<sup>2</sup>=0.904896<br><br>Cumulative CO2 emissions (tons)=%{x}<br>Average Temperature (C)=%{y} <b>(trend)</b><extra></extra>",
         "legendgroup": "",
         "line": {
          "color": "black"
         },
         "marker": {
          "symbol": "circle"
         },
         "mode": "lines",
         "name": "",
         "showlegend": false,
         "type": "scatter",
         "x": [
          1952224654,
          3968985582,
          6036783195,
          8292860445,
          10574717980,
          13004349347,
          15556218860,
          18441500102,
          21217931693,
          24105014754,
          27132603618,
          30215065892,
          33443398043,
          36935809292,
          40104150651,
          43229239194,
          46602393263,
          50130118941,
          53609304520,
          56624178723,
          60131776359,
          63207814581,
          66434259618,
          70095340360,
          73767739711,
          77480607424,
          81125797666,
          85107230549,
          89069783076,
          93324933802,
          97247992145,
          100753264198,
          103912397609,
          107238851391,
          110856508935,
          114652597271,
          118823170956,
          123282072289,
          127477315047,
          131915459034,
          136765385579,
          141724571805,
          146664296664,
          151687547304,
          156792983977,
          161037722070,
          165671199353,
          170801384782,
          176202500260,
          181445603193,
          187448841382,
          193828597323,
          200294291555,
          206942019370,
          213731955864,
          221175162931,
          229099373479,
          237284897449,
          245702497503,
          254558686174,
          263945619845,
          273363082482,
          283113139146,
          293384663540,
          304213521114,
          315530754033,
          327396615429,
          339639660969,
          352549573490,
          366316144144,
          381213711238,
          396711977914,
          412933130182,
          430011922279,
          447021516693,
          464068013910,
          482051986757,
          500546517580,
          519614284758,
          539224302487,
          558716916002,
          577743826181,
          596619586456,
          615617618013,
          635274334887,
          655591818410,
          676211442068,
          697477636602,
          719579036092,
          741985868610,
          764735442970,
          787973545118,
          810543169398,
          833346664747,
          856311248106,
          879765192559,
          903920153765,
          928220704196,
          952426975466,
          976945937754,
          1002180145004,
          1027631199502,
          1053670390979,
          1081037114270,
          1109664647303,
          1139267424499,
          1169850954580,
          1201344696169,
          1233414140177,
          1265021182587,
          1298364483040,
          1332832934086,
          1367807009232,
          1445959228990,
          1481493671942,
          1516990078281,
          1552442537579,
          1588368275266,
          1625014415051,
          1661716917954,
          1696524177053,
          1732425495786.14,
          1768796842192.3372,
          1805642437249.5557,
          1842966514793.484,
          1880773321288.9988,
          1919067115599.8928,
          1957852168756.9014,
          1997132763724.066,
          2036913195163.4697,
          2077197769198.382
         ],
         "xaxis": "x",
         "y": [
          15.1266567004567,
          15.1285827489174,
          15.130557538469432,
          15.132712138974755,
          15.134891360186257,
          15.137211708468254,
          15.139648796711677,
          15.142404300062466,
          15.145055849741878,
          15.147813073867134,
          15.150704483944644,
          15.15364829926533,
          15.156731423340046,
          15.160066748423393,
          15.163092580049122,
          15.16607710433965,
          15.169298536345845,
          15.172667587440378,
          15.175990281734924,
          15.17886954904781,
          15.182219377445307,
          15.185157057663268,
          15.188238379505027,
          15.191734787447947,
          15.195242004896913,
          15.198787870469836,
          15.202269102656107,
          15.206071453529344,
          15.209855773271517,
          15.213919530354511,
          15.217666132332898,
          15.221013739750457,
          15.224030777595118,
          15.227207609859896,
          15.230662547749276,
          15.234287890740966,
          15.238270874997905,
          15.242529218131,
          15.246535761863642,
          15.250774281301346,
          15.255406061611458,
          15.26014218718009,
          15.264859726740122,
          15.26965703515113,
          15.274532832926027,
          15.278586645728822,
          15.283011712510271,
          15.287911145859784,
          15.29306932301804,
          15.298076594922804,
          15.30380981174222,
          15.309902610813847,
          15.316077482733474,
          15.322426200495444,
          15.32891073049152,
          15.336019147416422,
          15.343586932629012,
          15.351404277572366,
          15.35944325998308,
          15.367901103607796,
          15.376865819701171,
          15.385859691589445,
          15.395171197662735,
          15.404980716219672,
          15.415322499507909,
          15.42613069136665,
          15.43746283478502,
          15.449155196873768,
          15.461484430742612,
          15.474631790872982,
          15.488859276030604,
          15.503660441731713,
          15.519151978146773,
          15.535462578363372,
          15.55170709335937,
          15.567986851296626,
          15.585161917879063,
          15.602824577904094,
          15.621034690521965,
          15.639762663648021,
          15.65837851331784,
          15.676549606655367,
          15.69457634870371,
          15.712719862359046,
          15.731492434135887,
          15.750896051749407,
          15.770588219450275,
          15.790897875730558,
          15.812005170043957,
          15.833404159225726,
          15.855130473966037,
          15.877323342863077,
          15.898877801549567,
          15.920655611951272,
          15.942587264739247,
          15.964986267508442,
          15.98805475579736,
          16.01126228481184,
          16.034379775274694,
          16.05779589213671,
          16.081895082752766,
          16.106201366982354,
          16.131069334209347,
          16.157205121816727,
          16.184545008843678,
          16.21281627424715,
          16.24202417897076,
          16.272101354538304,
          16.302728337840886,
          16.332913718039357,
          16.36475726063312,
          16.397675345349164,
          16.43107631155402,
          16.505713300239915,
          16.53964942930676,
          16.573549232620316,
          16.60740706559941,
          16.64171688924332,
          16.67671471181297,
          16.711766362327793,
          16.7450080157524,
          16.779294518789566,
          16.814029907990488,
          16.84921821447655,
          16.884863481648537,
          16.920969764968362,
          16.957541131739163,
          16.994581660883764,
          17.03209544272154,
          17.070086578743737,
          17.10855918138727
         ],
         "yaxis": "y"
        },
        {
         "line": {
          "color": "rgba(0,0,0,0)"
         },
         "mode": "lines",
         "showlegend": false,
         "type": "scatter",
         "x": [
          1952224654,
          3968985582,
          6036783195,
          8292860445,
          10574717980,
          13004349347,
          15556218860,
          18441500102,
          21217931693,
          24105014754,
          27132603618,
          30215065892,
          33443398043,
          36935809292,
          40104150651,
          43229239194,
          46602393263,
          50130118941,
          53609304520,
          56624178723,
          60131776359,
          63207814581,
          66434259618,
          70095340360,
          73767739711,
          77480607424,
          81125797666,
          85107230549,
          89069783076,
          93324933802,
          97247992145,
          100753264198,
          103912397609,
          107238851391,
          110856508935,
          114652597271,
          118823170956,
          123282072289,
          127477315047,
          131915459034,
          136765385579,
          141724571805,
          146664296664,
          151687547304,
          156792983977,
          161037722070,
          165671199353,
          170801384782,
          176202500260,
          181445603193,
          187448841382,
          193828597323,
          200294291555,
          206942019370,
          213731955864,
          221175162931,
          229099373479,
          237284897449,
          245702497503,
          254558686174,
          263945619845,
          273363082482,
          283113139146,
          293384663540,
          304213521114,
          315530754033,
          327396615429,
          339639660969,
          352549573490,
          366316144144,
          381213711238,
          396711977914,
          412933130182,
          430011922279,
          447021516693,
          464068013910,
          482051986757,
          500546517580,
          519614284758,
          539224302487,
          558716916002,
          577743826181,
          596619586456,
          615617618013,
          635274334887,
          655591818410,
          676211442068,
          697477636602,
          719579036092,
          741985868610,
          764735442970,
          787973545118,
          810543169398,
          833346664747,
          856311248106,
          879765192559,
          903920153765,
          928220704196,
          952426975466,
          976945937754,
          1002180145004,
          1027631199502,
          1053670390979,
          1081037114270,
          1109664647303,
          1139267424499,
          1169850954580,
          1201344696169,
          1233414140177,
          1265021182587,
          1298364483040,
          1332832934086,
          1367807009232,
          1445959228990,
          1481493671942,
          1516990078281,
          1552442537579,
          1588368275266,
          1625014415051,
          1661716917954,
          1696524177053,
          1732425495786.14,
          1768796842192.3372,
          1805642437249.5557,
          1842966514793.484,
          1880773321288.9988,
          1919067115599.8928,
          1957852168756.9014,
          1997132763724.066,
          2036913195163.4697,
          2077197769198.382
         ],
         "y": [
          15.17131363478251,
          15.173163848341112,
          15.175061025746373,
          15.177131111984226,
          15.179225029001497,
          15.181454744273482,
          15.183796858082257,
          15.186445249590717,
          15.188994002119712,
          15.191644619100577,
          15.194424550254203,
          15.19725520153923,
          15.200220172025931,
          15.203428103248589,
          15.206338747299444,
          15.209210018342297,
          15.212309613756489,
          15.215551700552522,
          15.218749637485704,
          15.221521169327103,
          15.22474609390499,
          15.227574629605874,
          15.230541866698596,
          15.233909317309243,
          15.237287712979738,
          15.240703886178403,
          15.244058331926377,
          15.247722820552063,
          15.251370580051397,
          15.255288420586828,
          15.258901168207696,
          15.26212972853506,
          15.265039925556378,
          15.268104723832923,
          15.271438366704274,
          15.27493704994673,
          15.278781615759312,
          15.282892832496442,
          15.286761770912822,
          15.290855593928205,
          15.29533029386923,
          15.299906937950807,
          15.304466779086543,
          15.309104921245819,
          15.313820202251465,
          15.31774153223497,
          15.322023003303123,
          15.326764703435595,
          15.331758260739777,
          15.336607162706118,
          15.342160806771643,
          15.348064855178409,
          15.354050657773287,
          15.360207352621737,
          15.366498269811766,
          15.373397416204485,
          15.380745878359715,
          15.388340492902719,
          15.39615455784972,
          15.404380367482235,
          15.413104395302772,
          15.421862333593541,
          15.430935534261483,
          15.44050069397417,
          15.450592449337364,
          15.461147840212213,
          15.472224464089141,
          15.483663643021467,
          15.495737665945535,
          15.508626484018974,
          15.522590370297015,
          15.537135577744591,
          15.552379633125156,
          15.56845274216051,
          15.584484754973197,
          15.60057607736279,
          15.617579433721069,
          15.635094975573342,
          15.653185121525116,
          15.671823673402303,
          15.690385043902086,
          15.708536212350314,
          15.726575709841823,
          15.744764730134852,
          15.763618735456014,
          15.783142959549052,
          15.802994973497746,
          15.823508417905899,
          15.844868609435444,
          15.86656578771896,
          15.888636755758274,
          15.911223936057706,
          15.933200858750006,
          15.955443578492106,
          15.977880568059229,
          16.00083251417268,
          16.0245076073678,
          16.048361568444275,
          16.072157206283304,
          16.096293201468487,
          16.121166001760855,
          16.146284239871875,
          16.172013897851706,
          16.19908696590943,
          16.227439761190144,
          16.256790928342475,
          16.287146711188857,
          16.318437585538582,
          16.35033094577485,
          16.38179223434915,
          16.415009347404244,
          16.449374753715627,
          16.484270433369193,
          16.562332037627584,
          16.597859595679513,
          16.633368159788205,
          16.668850260081427,
          16.70482248942556,
          16.741531802585524,
          16.778312295832276,
          16.813206111167805,
          16.849208613683768,
          16.885693917595432,
          16.92266586598895,
          16.960128337137977,
          16.998085243195717,
          17.036540528900254,
          17.075498170301387,
          17.11496217351539,
          17.154936573512295,
          17.195425432938993
         ]
        },
        {
         "fill": "tonexty",
         "fillcolor": "rgba(0,100,80,0.2)",
         "line": {
          "color": "rgba(0,0,0,0)"
         },
         "mode": "lines",
         "name": "95% confidence interval",
         "type": "scatter",
         "x": [
          1952224654,
          3968985582,
          6036783195,
          8292860445,
          10574717980,
          13004349347,
          15556218860,
          18441500102,
          21217931693,
          24105014754,
          27132603618,
          30215065892,
          33443398043,
          36935809292,
          40104150651,
          43229239194,
          46602393263,
          50130118941,
          53609304520,
          56624178723,
          60131776359,
          63207814581,
          66434259618,
          70095340360,
          73767739711,
          77480607424,
          81125797666,
          85107230549,
          89069783076,
          93324933802,
          97247992145,
          100753264198,
          103912397609,
          107238851391,
          110856508935,
          114652597271,
          118823170956,
          123282072289,
          127477315047,
          131915459034,
          136765385579,
          141724571805,
          146664296664,
          151687547304,
          156792983977,
          161037722070,
          165671199353,
          170801384782,
          176202500260,
          181445603193,
          187448841382,
          193828597323,
          200294291555,
          206942019370,
          213731955864,
          221175162931,
          229099373479,
          237284897449,
          245702497503,
          254558686174,
          263945619845,
          273363082482,
          283113139146,
          293384663540,
          304213521114,
          315530754033,
          327396615429,
          339639660969,
          352549573490,
          366316144144,
          381213711238,
          396711977914,
          412933130182,
          430011922279,
          447021516693,
          464068013910,
          482051986757,
          500546517580,
          519614284758,
          539224302487,
          558716916002,
          577743826181,
          596619586456,
          615617618013,
          635274334887,
          655591818410,
          676211442068,
          697477636602,
          719579036092,
          741985868610,
          764735442970,
          787973545118,
          810543169398,
          833346664747,
          856311248106,
          879765192559,
          903920153765,
          928220704196,
          952426975466,
          976945937754,
          1002180145004,
          1027631199502,
          1053670390979,
          1081037114270,
          1109664647303,
          1139267424499,
          1169850954580,
          1201344696169,
          1233414140177,
          1265021182587,
          1298364483040,
          1332832934086,
          1367807009232,
          1445959228990,
          1481493671942,
          1516990078281,
          1552442537579,
          1588368275266,
          1625014415051,
          1661716917954,
          1696524177053,
          1732425495786.14,
          1768796842192.3372,
          1805642437249.5557,
          1842966514793.484,
          1880773321288.9988,
          1919067115599.8928,
          1957852168756.9014,
          1997132763724.066,
          2036913195163.4697,
          2077197769198.382
         ],
         "y": [
          15.081999766130895,
          15.084001649493697,
          15.086054051192498,
          15.088293165965291,
          15.090557691371025,
          15.092968672663032,
          15.095500735341105,
          15.098363350534223,
          15.101117697364051,
          15.103981528633698,
          15.106984417635092,
          15.110041396991436,
          15.113242674654169,
          15.116705393598204,
          15.119846412798807,
          15.122944190337009,
          15.12628745893521,
          15.12978347432824,
          15.13323092598415,
          15.136217928768525,
          15.13969266098563,
          15.14273948572067,
          15.145934892311464,
          15.149560257586659,
          15.153196296814096,
          15.156871854761276,
          15.160479873385844,
          15.164420086506631,
          15.168340966491645,
          15.172550640122202,
          15.176431096458106,
          15.179897750965862,
          15.183021629633865,
          15.186310495886875,
          15.189886728794285,
          15.193638731535207,
          15.197760134236505,
          15.202165603765566,
          15.20630975281447,
          15.210692968674495,
          15.215481829353694,
          15.22037743640938,
          15.225252674393708,
          15.23020914905645,
          15.235245463600597,
          15.239431759222681,
          15.244000421717427,
          15.24905758828398,
          15.25438038529631,
          15.259546027139498,
          15.265458816712803,
          15.271740366449292,
          15.278104307693669,
          15.284645048369159,
          15.291323191171282,
          15.298640878628367,
          15.306427986898317,
          15.31446806224202,
          15.322731962116446,
          15.331421839733364,
          15.340627244099577,
          15.349857049585356,
          15.359406861063995,
          15.36946073846518,
          15.38005254967846,
          15.391113542521094,
          15.402701205480906,
          15.414646750726076,
          15.427231195539695,
          15.440637097726997,
          15.4551281817642,
          15.470185305718841,
          15.485924323168398,
          15.502472414566242,
          15.518929431745551,
          15.535397625230468,
          15.552744402037064,
          15.570554180234854,
          15.58888425951882,
          15.607701653893747,
          15.626371982733602,
          15.644563000960428,
          15.662576987565606,
          15.680674994583248,
          15.699366132815769,
          15.71864914394977,
          15.73818146540281,
          15.758287333555224,
          15.779141730652476,
          15.800242530732499,
          15.821624192173807,
          15.843422749668456,
          15.864554744349135,
          15.885867645410444,
          15.907293961419272,
          15.929140020844212,
          15.951601904226928,
          15.97416300117941,
          15.996602344266089,
          16.01929858280494,
          16.042624163744684,
          16.06611849409284,
          16.090124770566995,
          16.11532327772403,
          16.14165025649722,
          16.16884162015183,
          16.196901646752668,
          16.225765123538032,
          16.25512572990693,
          16.284035201729573,
          16.314505173862003,
          16.3459759369827,
          16.377882189738852,
          16.449094562852252,
          16.481439262934014,
          16.513730305452434,
          16.5459638711174,
          16.578611289061087,
          16.611897621040423,
          16.64522042882332,
          16.676809920337003,
          16.70938042389537,
          16.74236589838555,
          16.77577056296416,
          16.809598626159104,
          16.843854286741013,
          16.87854173457808,
          16.913665151466148,
          16.9492287119277,
          16.985236583975187,
          17.021692929835556
         ]
        }
       ],
       "layout": {
        "coloraxis": {
         "colorbar": {
          "title": {
           "text": "Year"
          }
         },
         "colorscale": [
          [
           0,
           "rgb(23, 28, 66)"
          ],
          [
           0.09090909090909091,
           "rgb(41, 58, 143)"
          ],
          [
           0.18181818181818182,
           "rgb(11, 102, 189)"
          ],
          [
           0.2727272727272727,
           "rgb(69, 144, 185)"
          ],
          [
           0.36363636363636365,
           "rgb(142, 181, 194)"
          ],
          [
           0.45454545454545453,
           "rgb(210, 216, 219)"
          ],
          [
           0.5454545454545454,
           "rgb(230, 210, 204)"
          ],
          [
           0.6363636363636364,
           "rgb(213, 157, 137)"
          ],
          [
           0.7272727272727273,
           "rgb(196, 101, 72)"
          ],
          [
           0.8181818181818182,
           "rgb(172, 43, 36)"
          ],
          [
           0.9090909090909091,
           "rgb(120, 14, 40)"
          ],
          [
           1,
           "rgb(60, 9, 17)"
          ]
         ]
        },
        "legend": {
         "tracegroupgap": 0
        },
        "template": {
         "data": {
          "bar": [
           {
            "error_x": {
             "color": "#2a3f5f"
            },
            "error_y": {
             "color": "#2a3f5f"
            },
            "marker": {
             "line": {
              "color": "#E5ECF6",
              "width": 0.5
             }
            },
            "type": "bar"
           }
          ],
          "barpolar": [
           {
            "marker": {
             "line": {
              "color": "#E5ECF6",
              "width": 0.5
             }
            },
            "type": "barpolar"
           }
          ],
          "carpet": [
           {
            "aaxis": {
             "endlinecolor": "#2a3f5f",
             "gridcolor": "white",
             "linecolor": "white",
             "minorgridcolor": "white",
             "startlinecolor": "#2a3f5f"
            },
            "baxis": {
             "endlinecolor": "#2a3f5f",
             "gridcolor": "white",
             "linecolor": "white",
             "minorgridcolor": "white",
             "startlinecolor": "#2a3f5f"
            },
            "type": "carpet"
           }
          ],
          "choropleth": [
           {
            "colorbar": {
             "outlinewidth": 0,
             "ticks": ""
            },
            "type": "choropleth"
           }
          ],
          "contour": [
           {
            "colorbar": {
             "outlinewidth": 0,
             "ticks": ""
            },
            "colorscale": [
             [
              0,
              "#0d0887"
             ],
             [
              0.1111111111111111,
              "#46039f"
             ],
             [
              0.2222222222222222,
              "#7201a8"
             ],
             [
              0.3333333333333333,
              "#9c179e"
             ],
             [
              0.4444444444444444,
              "#bd3786"
             ],
             [
              0.5555555555555556,
              "#d8576b"
             ],
             [
              0.6666666666666666,
              "#ed7953"
             ],
             [
              0.7777777777777778,
              "#fb9f3a"
             ],
             [
              0.8888888888888888,
              "#fdca26"
             ],
             [
              1,
              "#f0f921"
             ]
            ],
            "type": "contour"
           }
          ],
          "contourcarpet": [
           {
            "colorbar": {
             "outlinewidth": 0,
             "ticks": ""
            },
            "type": "contourcarpet"
           }
          ],
          "heatmap": [
           {
            "colorbar": {
             "outlinewidth": 0,
             "ticks": ""
            },
            "colorscale": [
             [
              0,
              "#0d0887"
             ],
             [
              0.1111111111111111,
              "#46039f"
             ],
             [
              0.2222222222222222,
              "#7201a8"
             ],
             [
              0.3333333333333333,
              "#9c179e"
             ],
             [
              0.4444444444444444,
              "#bd3786"
             ],
             [
              0.5555555555555556,
              "#d8576b"
             ],
             [
              0.6666666666666666,
              "#ed7953"
             ],
             [
              0.7777777777777778,
              "#fb9f3a"
             ],
             [
              0.8888888888888888,
              "#fdca26"
             ],
             [
              1,
              "#f0f921"
             ]
            ],
            "type": "heatmap"
           }
          ],
          "heatmapgl": [
           {
            "colorbar": {
             "outlinewidth": 0,
             "ticks": ""
            },
            "colorscale": [
             [
              0,
              "#0d0887"
             ],
             [
              0.1111111111111111,
              "#46039f"
             ],
             [
              0.2222222222222222,
              "#7201a8"
             ],
             [
              0.3333333333333333,
              "#9c179e"
             ],
             [
              0.4444444444444444,
              "#bd3786"
             ],
             [
              0.5555555555555556,
              "#d8576b"
             ],
             [
              0.6666666666666666,
              "#ed7953"
             ],
             [
              0.7777777777777778,
              "#fb9f3a"
             ],
             [
              0.8888888888888888,
              "#fdca26"
             ],
             [
              1,
              "#f0f921"
             ]
            ],
            "type": "heatmapgl"
           }
          ],
          "histogram": [
           {
            "marker": {
             "colorbar": {
              "outlinewidth": 0,
              "ticks": ""
             }
            },
            "type": "histogram"
           }
          ],
          "histogram2d": [
           {
            "colorbar": {
             "outlinewidth": 0,
             "ticks": ""
            },
            "colorscale": [
             [
              0,
              "#0d0887"
             ],
             [
              0.1111111111111111,
              "#46039f"
             ],
             [
              0.2222222222222222,
              "#7201a8"
             ],
             [
              0.3333333333333333,
              "#9c179e"
             ],
             [
              0.4444444444444444,
              "#bd3786"
             ],
             [
              0.5555555555555556,
              "#d8576b"
             ],
             [
              0.6666666666666666,
              "#ed7953"
             ],
             [
              0.7777777777777778,
              "#fb9f3a"
             ],
             [
              0.8888888888888888,
              "#fdca26"
             ],
             [
              1,
              "#f0f921"
             ]
            ],
            "type": "histogram2d"
           }
          ],
          "histogram2dcontour": [
           {
            "colorbar": {
             "outlinewidth": 0,
             "ticks": ""
            },
            "colorscale": [
             [
              0,
              "#0d0887"
             ],
             [
              0.1111111111111111,
              "#46039f"
             ],
             [
              0.2222222222222222,
              "#7201a8"
             ],
             [
              0.3333333333333333,
              "#9c179e"
             ],
             [
              0.4444444444444444,
              "#bd3786"
             ],
             [
              0.5555555555555556,
              "#d8576b"
             ],
             [
              0.6666666666666666,
              "#ed7953"
             ],
             [
              0.7777777777777778,
              "#fb9f3a"
             ],
             [
              0.8888888888888888,
              "#fdca26"
             ],
             [
              1,
              "#f0f921"
             ]
            ],
            "type": "histogram2dcontour"
           }
          ],
          "mesh3d": [
           {
            "colorbar": {
             "outlinewidth": 0,
             "ticks": ""
            },
            "type": "mesh3d"
           }
          ],
          "parcoords": [
           {
            "line": {
             "colorbar": {
              "outlinewidth": 0,
              "ticks": ""
             }
            },
            "type": "parcoords"
           }
          ],
          "pie": [
           {
            "automargin": true,
            "type": "pie"
           }
          ],
          "scatter": [
           {
            "marker": {
             "colorbar": {
              "outlinewidth": 0,
              "ticks": ""
             }
            },
            "type": "scatter"
           }
          ],
          "scatter3d": [
           {
            "line": {
             "colorbar": {
              "outlinewidth": 0,
              "ticks": ""
             }
            },
            "marker": {
             "colorbar": {
              "outlinewidth": 0,
              "ticks": ""
             }
            },
            "type": "scatter3d"
           }
          ],
          "scattercarpet": [
           {
            "marker": {
             "colorbar": {
              "outlinewidth": 0,
              "ticks": ""
             }
            },
            "type": "scattercarpet"
           }
          ],
          "scattergeo": [
           {
            "marker": {
             "colorbar": {
              "outlinewidth": 0,
              "ticks": ""
             }
            },
            "type": "scattergeo"
           }
          ],
          "scattergl": [
           {
            "marker": {
             "colorbar": {
              "outlinewidth": 0,
              "ticks": ""
             }
            },
            "type": "scattergl"
           }
          ],
          "scattermapbox": [
           {
            "marker": {
             "colorbar": {
              "outlinewidth": 0,
              "ticks": ""
             }
            },
            "type": "scattermapbox"
           }
          ],
          "scatterpolar": [
           {
            "marker": {
             "colorbar": {
              "outlinewidth": 0,
              "ticks": ""
             }
            },
            "type": "scatterpolar"
           }
          ],
          "scatterpolargl": [
           {
            "marker": {
             "colorbar": {
              "outlinewidth": 0,
              "ticks": ""
             }
            },
            "type": "scatterpolargl"
           }
          ],
          "scatterternary": [
           {
            "marker": {
             "colorbar": {
              "outlinewidth": 0,
              "ticks": ""
             }
            },
            "type": "scatterternary"
           }
          ],
          "surface": [
           {
            "colorbar": {
             "outlinewidth": 0,
             "ticks": ""
            },
            "colorscale": [
             [
              0,
              "#0d0887"
             ],
             [
              0.1111111111111111,
              "#46039f"
             ],
             [
              0.2222222222222222,
              "#7201a8"
             ],
             [
              0.3333333333333333,
              "#9c179e"
             ],
             [
              0.4444444444444444,
              "#bd3786"
             ],
             [
              0.5555555555555556,
              "#d8576b"
             ],
             [
              0.6666666666666666,
              "#ed7953"
             ],
             [
              0.7777777777777778,
              "#fb9f3a"
             ],
             [
              0.8888888888888888,
              "#fdca26"
             ],
             [
              1,
              "#f0f921"
             ]
            ],
            "type": "surface"
           }
          ],
          "table": [
           {
            "cells": {
             "fill": {
              "color": "#EBF0F8"
             },
             "line": {
              "color": "white"
             }
            },
            "header": {
             "fill": {
              "color": "#C8D4E3"
             },
             "line": {
              "color": "white"
             }
            },
            "type": "table"
           }
          ]
         },
         "layout": {
          "annotationdefaults": {
           "arrowcolor": "#2a3f5f",
           "arrowhead": 0,
           "arrowwidth": 1
          },
          "autotypenumbers": "strict",
          "coloraxis": {
           "colorbar": {
            "outlinewidth": 0,
            "ticks": ""
           }
          },
          "colorscale": {
           "diverging": [
            [
             0,
             "#8e0152"
            ],
            [
             0.1,
             "#c51b7d"
            ],
            [
             0.2,
             "#de77ae"
            ],
            [
             0.3,
             "#f1b6da"
            ],
            [
             0.4,
             "#fde0ef"
            ],
            [
             0.5,
             "#f7f7f7"
            ],
            [
             0.6,
             "#e6f5d0"
            ],
            [
             0.7,
             "#b8e186"
            ],
            [
             0.8,
             "#7fbc41"
            ],
            [
             0.9,
             "#4d9221"
            ],
            [
             1,
             "#276419"
            ]
           ],
           "sequential": [
            [
             0,
             "#0d0887"
            ],
            [
             0.1111111111111111,
             "#46039f"
            ],
            [
             0.2222222222222222,
             "#7201a8"
            ],
            [
             0.3333333333333333,
             "#9c179e"
            ],
            [
             0.4444444444444444,
             "#bd3786"
            ],
            [
             0.5555555555555556,
             "#d8576b"
            ],
            [
             0.6666666666666666,
             "#ed7953"
            ],
            [
             0.7777777777777778,
             "#fb9f3a"
            ],
            [
             0.8888888888888888,
             "#fdca26"
            ],
            [
             1,
             "#f0f921"
            ]
           ],
           "sequentialminus": [
            [
             0,
             "#0d0887"
            ],
            [
             0.1111111111111111,
             "#46039f"
            ],
            [
             0.2222222222222222,
             "#7201a8"
            ],
            [
             0.3333333333333333,
             "#9c179e"
            ],
            [
             0.4444444444444444,
             "#bd3786"
            ],
            [
             0.5555555555555556,
             "#d8576b"
            ],
            [
             0.6666666666666666,
             "#ed7953"
            ],
            [
             0.7777777777777778,
             "#fb9f3a"
            ],
            [
             0.8888888888888888,
             "#fdca26"
            ],
            [
             1,
             "#f0f921"
            ]
           ]
          },
          "colorway": [
           "#636efa",
           "#EF553B",
           "#00cc96",
           "#ab63fa",
           "#FFA15A",
           "#19d3f3",
           "#FF6692",
           "#B6E880",
           "#FF97FF",
           "#FECB52"
          ],
          "font": {
           "color": "#2a3f5f"
          },
          "geo": {
           "bgcolor": "white",
           "lakecolor": "white",
           "landcolor": "#E5ECF6",
           "showlakes": true,
           "showland": true,
           "subunitcolor": "white"
          },
          "hoverlabel": {
           "align": "left"
          },
          "hovermode": "closest",
          "mapbox": {
           "style": "light"
          },
          "paper_bgcolor": "white",
          "plot_bgcolor": "#E5ECF6",
          "polar": {
           "angularaxis": {
            "gridcolor": "white",
            "linecolor": "white",
            "ticks": ""
           },
           "bgcolor": "#E5ECF6",
           "radialaxis": {
            "gridcolor": "white",
            "linecolor": "white",
            "ticks": ""
           }
          },
          "scene": {
           "xaxis": {
            "backgroundcolor": "#E5ECF6",
            "gridcolor": "white",
            "gridwidth": 2,
            "linecolor": "white",
            "showbackground": true,
            "ticks": "",
            "zerolinecolor": "white"
           },
           "yaxis": {
            "backgroundcolor": "#E5ECF6",
            "gridcolor": "white",
            "gridwidth": 2,
            "linecolor": "white",
            "showbackground": true,
            "ticks": "",
            "zerolinecolor": "white"
           },
           "zaxis": {
            "backgroundcolor": "#E5ECF6",
            "gridcolor": "white",
            "gridwidth": 2,
            "linecolor": "white",
            "showbackground": true,
            "ticks": "",
            "zerolinecolor": "white"
           }
          },
          "shapedefaults": {
           "line": {
            "color": "#2a3f5f"
           }
          },
          "ternary": {
           "aaxis": {
            "gridcolor": "white",
            "linecolor": "white",
            "ticks": ""
           },
           "baxis": {
            "gridcolor": "white",
            "linecolor": "white",
            "ticks": ""
           },
           "bgcolor": "#E5ECF6",
           "caxis": {
            "gridcolor": "white",
            "linecolor": "white",
            "ticks": ""
           }
          },
          "title": {
           "x": 0.05
          },
          "xaxis": {
           "automargin": true,
           "gridcolor": "white",
           "linecolor": "white",
           "ticks": "",
           "title": {
            "standoff": 15
           },
           "zerolinecolor": "white",
           "zerolinewidth": 2
          },
          "yaxis": {
           "automargin": true,
           "gridcolor": "white",
           "linecolor": "white",
           "ticks": "",
           "title": {
            "standoff": 15
           },
           "zerolinecolor": "white",
           "zerolinewidth": 2
          }
         }
        },
        "title": {
         "text": "Global temperature vs. cumulated CO2"
        },
        "xaxis": {
         "anchor": "y",
         "domain": [
          0,
          1
         ],
         "title": {
          "text": "Cumulative CO2 emissions (tons)"
         }
        },
        "yaxis": {
         "anchor": "x",
         "domain": [
          0,
          1
         ],
         "title": {
          "text": "Average Temperature (C)"
         }
        }
       }
      },
      "text/html": [
       "<div>                            <div id=\"3fbf446e-927b-4b15-8960-b2bbfe4e901e\" class=\"plotly-graph-div\" style=\"height:525px; width:100%;\"></div>            <script type=\"text/javascript\">                require([\"plotly\"], function(Plotly) {                    window.PLOTLYENV=window.PLOTLYENV || {};                                    if (document.getElementById(\"3fbf446e-927b-4b15-8960-b2bbfe4e901e\")) {                    Plotly.newPlot(                        \"3fbf446e-927b-4b15-8960-b2bbfe4e901e\",                        [{\"hovertemplate\": \"Cumulative CO2 emissions (tons)=%{x}<br>Average Temperature (C)=%{y}<br>Year=%{marker.color}<extra></extra>\", \"legendgroup\": \"\", \"marker\": {\"color\": [1900, 1901, 1902, 1903, 1904, 1905, 1906, 1907, 1908, 1909, 1910, 1911, 1912, 1913, 1914, 1915, 1916, 1917, 1918, 1919, 1920, 1921, 1922, 1923, 1924, 1925, 1926, 1927, 1928, 1929, 1930, 1931, 1932, 1933, 1934, 1935, 1936, 1937, 1938, 1939, 1940, 1941, 1942, 1943, 1944, 1945, 1946, 1947, 1948, 1949, 1950, 1951, 1952, 1953, 1954, 1955, 1956, 1957, 1958, 1959, 1960, 1961, 1962, 1963, 1964, 1965, 1966, 1967, 1968, 1969, 1970, 1971, 1972, 1973, 1974, 1975, 1976, 1977, 1978, 1979, 1980, 1981, 1982, 1983, 1984, 1985, 1986, 1987, 1988, 1989, 1990, 1991, 1992, 1993, 1994, 1995, 1996, 1997, 1998, 1999, 2000, 2001, 2002, 2003, 2004, 2005, 2006, 2007, 2008, 2009, 2010, 2011, 2012, 2013, 2014, 2015, 2016, 2017, 2018, 2019, 2020, 2021, 2022, 2023, 2024, 2025, 2026, 2027, 2028, 2029, 2030], \"coloraxis\": \"coloraxis\", \"symbol\": \"circle\"}, \"mode\": \"markers\", \"name\": \"\", \"orientation\": \"v\", \"showlegend\": false, \"type\": \"scatter\", \"x\": [1952224654.0, 3968985582.0, 6036783195.0, 8292860445.0, 10574717980.0, 13004349347.0, 15556218860.0, 18441500102.0, 21217931693.0, 24105014754.0, 27132603618.0, 30215065892.0, 33443398043.0, 36935809292.0, 40104150651.0, 43229239194.0, 46602393263.0, 50130118941.0, 53609304520.0, 56624178723.0, 60131776359.0, 63207814581.0, 66434259618.0, 70095340360.0, 73767739711.0, 77480607424.0, 81125797666.0, 85107230549.0, 89069783076.0, 93324933802.0, 97247992145.0, 100753264198.0, 103912397609.0, 107238851391.0, 110856508935.0, 114652597271.0, 118823170956.0, 123282072289.0, 127477315047.0, 131915459034.0, 136765385579.0, 141724571805.0, 146664296664.0, 151687547304.0, 156792983977.0, 161037722070.0, 165671199353.0, 170801384782.0, 176202500260.0, 181445603193.0, 187448841382.0, 193828597323.0, 200294291555.0, 206942019370.0, 213731955864.0, 221175162931.0, 229099373479.0, 237284897449.0, 245702497503.0, 254558686174.0, 263945619845.0, 273363082482.0, 283113139146.0, 293384663540.0, 304213521114.0, 315530754033.0, 327396615429.0, 339639660969.0, 352549573490.0, 366316144144.0, 381213711238.0, 396711977914.0, 412933130182.0, 430011922279.0, 447021516693.0, 464068013910.0, 482051986757.0, 500546517580.0, 519614284758.0, 539224302487.0, 558716916002.0, 577743826181.0, 596619586456.0, 615617618013.0, 635274334887.0, 655591818410.0, 676211442068.0, 697477636602.0, 719579036092.0, 741985868610.0, 764735442970.0, 787973545118.0, 810543169398.0, 833346664747.0, 856311248106.0, 879765192559.0, 903920153765.0, 928220704196.0, 952426975466.0, 976945937754.0, 1002180145004.0, 1027631199502.0, 1053670390979.0, 1081037114270.0, 1109664647303.0, 1139267424499.0, 1169850954580.0, 1201344696169.0, 1233414140177.0, 1265021182587.0, 1298364483040.0, 1332832934086.0, 1367807009232.0, 1445959228990.0, 1481493671942.0, 1516990078281.0, 1552442537579.0, 1588368275266.0, 1625014415051.0, 1661716917954.0, 1696524177053.0, 1732425495786.14, 1768796842192.3372, 1805642437249.5557, 1842966514793.484, 1880773321288.9988, 1919067115599.8928, 1957852168756.9014, 1997132763724.066, 2036913195163.4697, 2077197769198.382], \"xaxis\": \"x\", \"y\": [15.21033142, 15.23497469, 15.06079995, 15.04605066, 14.75833601, 14.99998028, 15.19175546, 14.64558338, 14.83083448, 14.9631074, 15.03020391, 14.88966188, 14.86864879, 15.22747148, 15.37998702, 15.36273172, 14.99764387, 14.72026751, 14.97347661, 15.15837593, 15.08478682, 15.37490154, 15.26266942, 15.18985865, 15.09079978, 15.34484678, 15.30175313, 15.24959659, 15.24020057, 14.94365756, 15.39038162, 15.38828067, 15.47193958, 15.06342509, 15.36199666, 15.29214273, 15.37462803, 15.43543815, 15.62870387, 15.51975724, 15.33353664, 15.37988686, 15.29593556, 15.35312779, 15.54474865, 15.19287247, 15.53890021, 15.43082372, 15.49868219, 15.4931057, 15.22838555, 15.40061008, 15.48700281, 15.60186805, 15.27302389, 15.37474352, 14.89115076, 15.48078111, 15.58471487, 15.50395281, 15.43902658, 15.72302917, 15.54071436, 15.50310514, 15.26100959, 15.31278099, 15.53594101, 15.42776971, 15.2668506, 15.19166083, 15.46743251, 15.37818794, 15.36020054, 15.74273422, 15.36763288, 15.65225962, 15.02691772, 15.67077576, 15.39626614, 15.61537387, 15.52344613, 15.85748555, 15.60108881, 15.96540278, 15.47184728, 15.37451266, 15.63094257, 15.76220079, 15.87216939, 15.83675126, 16.17501546, 15.94954207, 15.67622444, 15.60012037, 15.88346865, 16.1609722, 15.60254001, 15.97193551, 16.3882896, 16.23599663, 16.07910077, 16.28246648, 16.37835434, 16.18615597, 16.2246839, 16.31765387, 16.32318586, 16.45278096, 16.25992405, 16.24834128, 16.40050416, 16.12791246, 16.33555644, 16.50932891966275, 16.542734423068612, 16.57610416871103, 16.609432600267567, 16.643205955158265, 16.677656551416465, 16.71216013396554, 16.7448820205574, 16.7786324194826, 16.81282468578291, 16.84746278754906, 16.882550704959176, 16.918092430063933, 16.954091966570072, 16.990553329622337, 17.02748054558383, 17.064877651814836, 17.10274869645017], \"yaxis\": \"y\"}, {\"hovertemplate\": \"<b>OLS trendline</b><br>Average Temperature (C) = 9.55021e-13 * Cumulative CO2 emissions (tons) + 15.1248<br>R<sup>2</sup>=0.904896<br><br>Cumulative CO2 emissions (tons)=%{x}<br>Average Temperature (C)=%{y} <b>(trend)</b><extra></extra>\", \"legendgroup\": \"\", \"line\": {\"color\": \"black\"}, \"marker\": {\"symbol\": \"circle\"}, \"mode\": \"lines\", \"name\": \"\", \"showlegend\": false, \"type\": \"scatter\", \"x\": [1952224654.0, 3968985582.0, 6036783195.0, 8292860445.0, 10574717980.0, 13004349347.0, 15556218860.0, 18441500102.0, 21217931693.0, 24105014754.0, 27132603618.0, 30215065892.0, 33443398043.0, 36935809292.0, 40104150651.0, 43229239194.0, 46602393263.0, 50130118941.0, 53609304520.0, 56624178723.0, 60131776359.0, 63207814581.0, 66434259618.0, 70095340360.0, 73767739711.0, 77480607424.0, 81125797666.0, 85107230549.0, 89069783076.0, 93324933802.0, 97247992145.0, 100753264198.0, 103912397609.0, 107238851391.0, 110856508935.0, 114652597271.0, 118823170956.0, 123282072289.0, 127477315047.0, 131915459034.0, 136765385579.0, 141724571805.0, 146664296664.0, 151687547304.0, 156792983977.0, 161037722070.0, 165671199353.0, 170801384782.0, 176202500260.0, 181445603193.0, 187448841382.0, 193828597323.0, 200294291555.0, 206942019370.0, 213731955864.0, 221175162931.0, 229099373479.0, 237284897449.0, 245702497503.0, 254558686174.0, 263945619845.0, 273363082482.0, 283113139146.0, 293384663540.0, 304213521114.0, 315530754033.0, 327396615429.0, 339639660969.0, 352549573490.0, 366316144144.0, 381213711238.0, 396711977914.0, 412933130182.0, 430011922279.0, 447021516693.0, 464068013910.0, 482051986757.0, 500546517580.0, 519614284758.0, 539224302487.0, 558716916002.0, 577743826181.0, 596619586456.0, 615617618013.0, 635274334887.0, 655591818410.0, 676211442068.0, 697477636602.0, 719579036092.0, 741985868610.0, 764735442970.0, 787973545118.0, 810543169398.0, 833346664747.0, 856311248106.0, 879765192559.0, 903920153765.0, 928220704196.0, 952426975466.0, 976945937754.0, 1002180145004.0, 1027631199502.0, 1053670390979.0, 1081037114270.0, 1109664647303.0, 1139267424499.0, 1169850954580.0, 1201344696169.0, 1233414140177.0, 1265021182587.0, 1298364483040.0, 1332832934086.0, 1367807009232.0, 1445959228990.0, 1481493671942.0, 1516990078281.0, 1552442537579.0, 1588368275266.0, 1625014415051.0, 1661716917954.0, 1696524177053.0, 1732425495786.14, 1768796842192.3372, 1805642437249.5557, 1842966514793.484, 1880773321288.9988, 1919067115599.8928, 1957852168756.9014, 1997132763724.066, 2036913195163.4697, 2077197769198.382], \"xaxis\": \"x\", \"y\": [15.1266567004567, 15.1285827489174, 15.130557538469432, 15.132712138974755, 15.134891360186257, 15.137211708468254, 15.139648796711677, 15.142404300062466, 15.145055849741878, 15.147813073867134, 15.150704483944644, 15.15364829926533, 15.156731423340046, 15.160066748423393, 15.163092580049122, 15.16607710433965, 15.169298536345845, 15.172667587440378, 15.175990281734924, 15.17886954904781, 15.182219377445307, 15.185157057663268, 15.188238379505027, 15.191734787447947, 15.195242004896913, 15.198787870469836, 15.202269102656107, 15.206071453529344, 15.209855773271517, 15.213919530354511, 15.217666132332898, 15.221013739750457, 15.224030777595118, 15.227207609859896, 15.230662547749276, 15.234287890740966, 15.238270874997905, 15.242529218131, 15.246535761863642, 15.250774281301346, 15.255406061611458, 15.26014218718009, 15.264859726740122, 15.26965703515113, 15.274532832926027, 15.278586645728822, 15.283011712510271, 15.287911145859784, 15.29306932301804, 15.298076594922804, 15.30380981174222, 15.309902610813847, 15.316077482733474, 15.322426200495444, 15.32891073049152, 15.336019147416422, 15.343586932629012, 15.351404277572366, 15.35944325998308, 15.367901103607796, 15.376865819701171, 15.385859691589445, 15.395171197662735, 15.404980716219672, 15.415322499507909, 15.42613069136665, 15.43746283478502, 15.449155196873768, 15.461484430742612, 15.474631790872982, 15.488859276030604, 15.503660441731713, 15.519151978146773, 15.535462578363372, 15.55170709335937, 15.567986851296626, 15.585161917879063, 15.602824577904094, 15.621034690521965, 15.639762663648021, 15.65837851331784, 15.676549606655367, 15.69457634870371, 15.712719862359046, 15.731492434135887, 15.750896051749407, 15.770588219450275, 15.790897875730558, 15.812005170043957, 15.833404159225726, 15.855130473966037, 15.877323342863077, 15.898877801549567, 15.920655611951272, 15.942587264739247, 15.964986267508442, 15.98805475579736, 16.01126228481184, 16.034379775274694, 16.05779589213671, 16.081895082752766, 16.106201366982354, 16.131069334209347, 16.157205121816727, 16.184545008843678, 16.21281627424715, 16.24202417897076, 16.272101354538304, 16.302728337840886, 16.332913718039357, 16.36475726063312, 16.397675345349164, 16.43107631155402, 16.505713300239915, 16.53964942930676, 16.573549232620316, 16.60740706559941, 16.64171688924332, 16.67671471181297, 16.711766362327793, 16.7450080157524, 16.779294518789566, 16.814029907990488, 16.84921821447655, 16.884863481648537, 16.920969764968362, 16.957541131739163, 16.994581660883764, 17.03209544272154, 17.070086578743737, 17.10855918138727], \"yaxis\": \"y\"}, {\"line\": {\"color\": \"rgba(0,0,0,0)\"}, \"mode\": \"lines\", \"showlegend\": false, \"type\": \"scatter\", \"x\": [1952224654.0, 3968985582.0, 6036783195.0, 8292860445.0, 10574717980.0, 13004349347.0, 15556218860.0, 18441500102.0, 21217931693.0, 24105014754.0, 27132603618.0, 30215065892.0, 33443398043.0, 36935809292.0, 40104150651.0, 43229239194.0, 46602393263.0, 50130118941.0, 53609304520.0, 56624178723.0, 60131776359.0, 63207814581.0, 66434259618.0, 70095340360.0, 73767739711.0, 77480607424.0, 81125797666.0, 85107230549.0, 89069783076.0, 93324933802.0, 97247992145.0, 100753264198.0, 103912397609.0, 107238851391.0, 110856508935.0, 114652597271.0, 118823170956.0, 123282072289.0, 127477315047.0, 131915459034.0, 136765385579.0, 141724571805.0, 146664296664.0, 151687547304.0, 156792983977.0, 161037722070.0, 165671199353.0, 170801384782.0, 176202500260.0, 181445603193.0, 187448841382.0, 193828597323.0, 200294291555.0, 206942019370.0, 213731955864.0, 221175162931.0, 229099373479.0, 237284897449.0, 245702497503.0, 254558686174.0, 263945619845.0, 273363082482.0, 283113139146.0, 293384663540.0, 304213521114.0, 315530754033.0, 327396615429.0, 339639660969.0, 352549573490.0, 366316144144.0, 381213711238.0, 396711977914.0, 412933130182.0, 430011922279.0, 447021516693.0, 464068013910.0, 482051986757.0, 500546517580.0, 519614284758.0, 539224302487.0, 558716916002.0, 577743826181.0, 596619586456.0, 615617618013.0, 635274334887.0, 655591818410.0, 676211442068.0, 697477636602.0, 719579036092.0, 741985868610.0, 764735442970.0, 787973545118.0, 810543169398.0, 833346664747.0, 856311248106.0, 879765192559.0, 903920153765.0, 928220704196.0, 952426975466.0, 976945937754.0, 1002180145004.0, 1027631199502.0, 1053670390979.0, 1081037114270.0, 1109664647303.0, 1139267424499.0, 1169850954580.0, 1201344696169.0, 1233414140177.0, 1265021182587.0, 1298364483040.0, 1332832934086.0, 1367807009232.0, 1445959228990.0, 1481493671942.0, 1516990078281.0, 1552442537579.0, 1588368275266.0, 1625014415051.0, 1661716917954.0, 1696524177053.0, 1732425495786.14, 1768796842192.3372, 1805642437249.5557, 1842966514793.484, 1880773321288.9988, 1919067115599.8928, 1957852168756.9014, 1997132763724.066, 2036913195163.4697, 2077197769198.382], \"y\": [15.17131363478251, 15.173163848341112, 15.175061025746373, 15.177131111984226, 15.179225029001497, 15.181454744273482, 15.183796858082257, 15.186445249590717, 15.188994002119712, 15.191644619100577, 15.194424550254203, 15.19725520153923, 15.200220172025931, 15.203428103248589, 15.206338747299444, 15.209210018342297, 15.212309613756489, 15.215551700552522, 15.218749637485704, 15.221521169327103, 15.22474609390499, 15.227574629605874, 15.230541866698596, 15.233909317309243, 15.237287712979738, 15.240703886178403, 15.244058331926377, 15.247722820552063, 15.251370580051397, 15.255288420586828, 15.258901168207696, 15.26212972853506, 15.265039925556378, 15.268104723832923, 15.271438366704274, 15.27493704994673, 15.278781615759312, 15.282892832496442, 15.286761770912822, 15.290855593928205, 15.29533029386923, 15.299906937950807, 15.304466779086543, 15.309104921245819, 15.313820202251465, 15.31774153223497, 15.322023003303123, 15.326764703435595, 15.331758260739777, 15.336607162706118, 15.342160806771643, 15.348064855178409, 15.354050657773287, 15.360207352621737, 15.366498269811766, 15.373397416204485, 15.380745878359715, 15.388340492902719, 15.39615455784972, 15.404380367482235, 15.413104395302772, 15.421862333593541, 15.430935534261483, 15.44050069397417, 15.450592449337364, 15.461147840212213, 15.472224464089141, 15.483663643021467, 15.495737665945535, 15.508626484018974, 15.522590370297015, 15.537135577744591, 15.552379633125156, 15.56845274216051, 15.584484754973197, 15.60057607736279, 15.617579433721069, 15.635094975573342, 15.653185121525116, 15.671823673402303, 15.690385043902086, 15.708536212350314, 15.726575709841823, 15.744764730134852, 15.763618735456014, 15.783142959549052, 15.802994973497746, 15.823508417905899, 15.844868609435444, 15.86656578771896, 15.888636755758274, 15.911223936057706, 15.933200858750006, 15.955443578492106, 15.977880568059229, 16.00083251417268, 16.0245076073678, 16.048361568444275, 16.072157206283304, 16.096293201468487, 16.121166001760855, 16.146284239871875, 16.172013897851706, 16.19908696590943, 16.227439761190144, 16.256790928342475, 16.287146711188857, 16.318437585538582, 16.35033094577485, 16.38179223434915, 16.415009347404244, 16.449374753715627, 16.484270433369193, 16.562332037627584, 16.597859595679513, 16.633368159788205, 16.668850260081427, 16.70482248942556, 16.741531802585524, 16.778312295832276, 16.813206111167805, 16.849208613683768, 16.885693917595432, 16.92266586598895, 16.960128337137977, 16.998085243195717, 17.036540528900254, 17.075498170301387, 17.11496217351539, 17.154936573512295, 17.195425432938993]}, {\"fill\": \"tonexty\", \"fillcolor\": \"rgba(0,100,80,0.2)\", \"line\": {\"color\": \"rgba(0,0,0,0)\"}, \"mode\": \"lines\", \"name\": \"95% confidence interval\", \"type\": \"scatter\", \"x\": [1952224654.0, 3968985582.0, 6036783195.0, 8292860445.0, 10574717980.0, 13004349347.0, 15556218860.0, 18441500102.0, 21217931693.0, 24105014754.0, 27132603618.0, 30215065892.0, 33443398043.0, 36935809292.0, 40104150651.0, 43229239194.0, 46602393263.0, 50130118941.0, 53609304520.0, 56624178723.0, 60131776359.0, 63207814581.0, 66434259618.0, 70095340360.0, 73767739711.0, 77480607424.0, 81125797666.0, 85107230549.0, 89069783076.0, 93324933802.0, 97247992145.0, 100753264198.0, 103912397609.0, 107238851391.0, 110856508935.0, 114652597271.0, 118823170956.0, 123282072289.0, 127477315047.0, 131915459034.0, 136765385579.0, 141724571805.0, 146664296664.0, 151687547304.0, 156792983977.0, 161037722070.0, 165671199353.0, 170801384782.0, 176202500260.0, 181445603193.0, 187448841382.0, 193828597323.0, 200294291555.0, 206942019370.0, 213731955864.0, 221175162931.0, 229099373479.0, 237284897449.0, 245702497503.0, 254558686174.0, 263945619845.0, 273363082482.0, 283113139146.0, 293384663540.0, 304213521114.0, 315530754033.0, 327396615429.0, 339639660969.0, 352549573490.0, 366316144144.0, 381213711238.0, 396711977914.0, 412933130182.0, 430011922279.0, 447021516693.0, 464068013910.0, 482051986757.0, 500546517580.0, 519614284758.0, 539224302487.0, 558716916002.0, 577743826181.0, 596619586456.0, 615617618013.0, 635274334887.0, 655591818410.0, 676211442068.0, 697477636602.0, 719579036092.0, 741985868610.0, 764735442970.0, 787973545118.0, 810543169398.0, 833346664747.0, 856311248106.0, 879765192559.0, 903920153765.0, 928220704196.0, 952426975466.0, 976945937754.0, 1002180145004.0, 1027631199502.0, 1053670390979.0, 1081037114270.0, 1109664647303.0, 1139267424499.0, 1169850954580.0, 1201344696169.0, 1233414140177.0, 1265021182587.0, 1298364483040.0, 1332832934086.0, 1367807009232.0, 1445959228990.0, 1481493671942.0, 1516990078281.0, 1552442537579.0, 1588368275266.0, 1625014415051.0, 1661716917954.0, 1696524177053.0, 1732425495786.14, 1768796842192.3372, 1805642437249.5557, 1842966514793.484, 1880773321288.9988, 1919067115599.8928, 1957852168756.9014, 1997132763724.066, 2036913195163.4697, 2077197769198.382], \"y\": [15.081999766130895, 15.084001649493697, 15.086054051192498, 15.088293165965291, 15.090557691371025, 15.092968672663032, 15.095500735341105, 15.098363350534223, 15.101117697364051, 15.103981528633698, 15.106984417635092, 15.110041396991436, 15.113242674654169, 15.116705393598204, 15.119846412798807, 15.122944190337009, 15.12628745893521, 15.12978347432824, 15.13323092598415, 15.136217928768525, 15.13969266098563, 15.14273948572067, 15.145934892311464, 15.149560257586659, 15.153196296814096, 15.156871854761276, 15.160479873385844, 15.164420086506631, 15.168340966491645, 15.172550640122202, 15.176431096458106, 15.179897750965862, 15.183021629633865, 15.186310495886875, 15.189886728794285, 15.193638731535207, 15.197760134236505, 15.202165603765566, 15.20630975281447, 15.210692968674495, 15.215481829353694, 15.22037743640938, 15.225252674393708, 15.23020914905645, 15.235245463600597, 15.239431759222681, 15.244000421717427, 15.24905758828398, 15.25438038529631, 15.259546027139498, 15.265458816712803, 15.271740366449292, 15.278104307693669, 15.284645048369159, 15.291323191171282, 15.298640878628367, 15.306427986898317, 15.31446806224202, 15.322731962116446, 15.331421839733364, 15.340627244099577, 15.349857049585356, 15.359406861063995, 15.36946073846518, 15.38005254967846, 15.391113542521094, 15.402701205480906, 15.414646750726076, 15.427231195539695, 15.440637097726997, 15.4551281817642, 15.470185305718841, 15.485924323168398, 15.502472414566242, 15.518929431745551, 15.535397625230468, 15.552744402037064, 15.570554180234854, 15.58888425951882, 15.607701653893747, 15.626371982733602, 15.644563000960428, 15.662576987565606, 15.680674994583248, 15.699366132815769, 15.71864914394977, 15.73818146540281, 15.758287333555224, 15.779141730652476, 15.800242530732499, 15.821624192173807, 15.843422749668456, 15.864554744349135, 15.885867645410444, 15.907293961419272, 15.929140020844212, 15.951601904226928, 15.97416300117941, 15.996602344266089, 16.01929858280494, 16.042624163744684, 16.06611849409284, 16.090124770566995, 16.11532327772403, 16.14165025649722, 16.16884162015183, 16.196901646752668, 16.225765123538032, 16.25512572990693, 16.284035201729573, 16.314505173862003, 16.3459759369827, 16.377882189738852, 16.449094562852252, 16.481439262934014, 16.513730305452434, 16.5459638711174, 16.578611289061087, 16.611897621040423, 16.64522042882332, 16.676809920337003, 16.70938042389537, 16.74236589838555, 16.77577056296416, 16.809598626159104, 16.843854286741013, 16.87854173457808, 16.913665151466148, 16.9492287119277, 16.985236583975187, 17.021692929835556]}],                        {\"coloraxis\": {\"colorbar\": {\"title\": {\"text\": \"Year\"}}, \"colorscale\": [[0.0, \"rgb(23, 28, 66)\"], [0.09090909090909091, \"rgb(41, 58, 143)\"], [0.18181818181818182, \"rgb(11, 102, 189)\"], [0.2727272727272727, \"rgb(69, 144, 185)\"], [0.36363636363636365, \"rgb(142, 181, 194)\"], [0.45454545454545453, \"rgb(210, 216, 219)\"], [0.5454545454545454, \"rgb(230, 210, 204)\"], [0.6363636363636364, \"rgb(213, 157, 137)\"], [0.7272727272727273, \"rgb(196, 101, 72)\"], [0.8181818181818182, \"rgb(172, 43, 36)\"], [0.9090909090909091, \"rgb(120, 14, 40)\"], [1.0, \"rgb(60, 9, 17)\"]]}, \"legend\": {\"tracegroupgap\": 0}, \"template\": {\"data\": {\"bar\": [{\"error_x\": {\"color\": \"#2a3f5f\"}, \"error_y\": {\"color\": \"#2a3f5f\"}, \"marker\": {\"line\": {\"color\": \"#E5ECF6\", \"width\": 0.5}}, \"type\": \"bar\"}], \"barpolar\": [{\"marker\": {\"line\": {\"color\": \"#E5ECF6\", \"width\": 0.5}}, \"type\": \"barpolar\"}], \"carpet\": [{\"aaxis\": {\"endlinecolor\": \"#2a3f5f\", \"gridcolor\": \"white\", \"linecolor\": \"white\", \"minorgridcolor\": \"white\", \"startlinecolor\": \"#2a3f5f\"}, \"baxis\": {\"endlinecolor\": \"#2a3f5f\", \"gridcolor\": \"white\", \"linecolor\": \"white\", \"minorgridcolor\": \"white\", \"startlinecolor\": \"#2a3f5f\"}, \"type\": \"carpet\"}], \"choropleth\": [{\"colorbar\": {\"outlinewidth\": 0, \"ticks\": \"\"}, \"type\": \"choropleth\"}], \"contour\": [{\"colorbar\": {\"outlinewidth\": 0, \"ticks\": \"\"}, \"colorscale\": [[0.0, \"#0d0887\"], [0.1111111111111111, \"#46039f\"], [0.2222222222222222, \"#7201a8\"], [0.3333333333333333, \"#9c179e\"], [0.4444444444444444, \"#bd3786\"], [0.5555555555555556, \"#d8576b\"], [0.6666666666666666, \"#ed7953\"], [0.7777777777777778, \"#fb9f3a\"], [0.8888888888888888, \"#fdca26\"], [1.0, \"#f0f921\"]], \"type\": \"contour\"}], \"contourcarpet\": [{\"colorbar\": {\"outlinewidth\": 0, \"ticks\": \"\"}, \"type\": \"contourcarpet\"}], \"heatmap\": [{\"colorbar\": {\"outlinewidth\": 0, \"ticks\": \"\"}, \"colorscale\": [[0.0, \"#0d0887\"], [0.1111111111111111, \"#46039f\"], [0.2222222222222222, \"#7201a8\"], [0.3333333333333333, \"#9c179e\"], [0.4444444444444444, \"#bd3786\"], [0.5555555555555556, \"#d8576b\"], [0.6666666666666666, \"#ed7953\"], [0.7777777777777778, \"#fb9f3a\"], [0.8888888888888888, \"#fdca26\"], [1.0, \"#f0f921\"]], \"type\": \"heatmap\"}], \"heatmapgl\": [{\"colorbar\": {\"outlinewidth\": 0, \"ticks\": \"\"}, \"colorscale\": [[0.0, \"#0d0887\"], [0.1111111111111111, \"#46039f\"], [0.2222222222222222, \"#7201a8\"], [0.3333333333333333, \"#9c179e\"], [0.4444444444444444, \"#bd3786\"], [0.5555555555555556, \"#d8576b\"], [0.6666666666666666, \"#ed7953\"], [0.7777777777777778, \"#fb9f3a\"], [0.8888888888888888, \"#fdca26\"], [1.0, \"#f0f921\"]], \"type\": \"heatmapgl\"}], \"histogram\": [{\"marker\": {\"colorbar\": {\"outlinewidth\": 0, \"ticks\": \"\"}}, \"type\": \"histogram\"}], \"histogram2d\": [{\"colorbar\": {\"outlinewidth\": 0, \"ticks\": \"\"}, \"colorscale\": [[0.0, \"#0d0887\"], [0.1111111111111111, \"#46039f\"], [0.2222222222222222, \"#7201a8\"], [0.3333333333333333, \"#9c179e\"], [0.4444444444444444, \"#bd3786\"], [0.5555555555555556, \"#d8576b\"], [0.6666666666666666, \"#ed7953\"], [0.7777777777777778, \"#fb9f3a\"], [0.8888888888888888, \"#fdca26\"], [1.0, \"#f0f921\"]], \"type\": \"histogram2d\"}], \"histogram2dcontour\": [{\"colorbar\": {\"outlinewidth\": 0, \"ticks\": \"\"}, \"colorscale\": [[0.0, \"#0d0887\"], [0.1111111111111111, \"#46039f\"], [0.2222222222222222, \"#7201a8\"], [0.3333333333333333, \"#9c179e\"], [0.4444444444444444, \"#bd3786\"], [0.5555555555555556, \"#d8576b\"], [0.6666666666666666, \"#ed7953\"], [0.7777777777777778, \"#fb9f3a\"], [0.8888888888888888, \"#fdca26\"], [1.0, \"#f0f921\"]], \"type\": \"histogram2dcontour\"}], \"mesh3d\": [{\"colorbar\": {\"outlinewidth\": 0, \"ticks\": \"\"}, \"type\": \"mesh3d\"}], \"parcoords\": [{\"line\": {\"colorbar\": {\"outlinewidth\": 0, \"ticks\": \"\"}}, \"type\": \"parcoords\"}], \"pie\": [{\"automargin\": true, \"type\": \"pie\"}], \"scatter\": [{\"marker\": {\"colorbar\": {\"outlinewidth\": 0, \"ticks\": \"\"}}, \"type\": \"scatter\"}], \"scatter3d\": [{\"line\": {\"colorbar\": {\"outlinewidth\": 0, \"ticks\": \"\"}}, \"marker\": {\"colorbar\": {\"outlinewidth\": 0, \"ticks\": \"\"}}, \"type\": \"scatter3d\"}], \"scattercarpet\": [{\"marker\": {\"colorbar\": {\"outlinewidth\": 0, \"ticks\": \"\"}}, \"type\": \"scattercarpet\"}], \"scattergeo\": [{\"marker\": {\"colorbar\": {\"outlinewidth\": 0, \"ticks\": \"\"}}, \"type\": \"scattergeo\"}], \"scattergl\": [{\"marker\": {\"colorbar\": {\"outlinewidth\": 0, \"ticks\": \"\"}}, \"type\": \"scattergl\"}], \"scattermapbox\": [{\"marker\": {\"colorbar\": {\"outlinewidth\": 0, \"ticks\": \"\"}}, \"type\": \"scattermapbox\"}], \"scatterpolar\": [{\"marker\": {\"colorbar\": {\"outlinewidth\": 0, \"ticks\": \"\"}}, \"type\": \"scatterpolar\"}], \"scatterpolargl\": [{\"marker\": {\"colorbar\": {\"outlinewidth\": 0, \"ticks\": \"\"}}, \"type\": \"scatterpolargl\"}], \"scatterternary\": [{\"marker\": {\"colorbar\": {\"outlinewidth\": 0, \"ticks\": \"\"}}, \"type\": \"scatterternary\"}], \"surface\": [{\"colorbar\": {\"outlinewidth\": 0, \"ticks\": \"\"}, \"colorscale\": [[0.0, \"#0d0887\"], [0.1111111111111111, \"#46039f\"], [0.2222222222222222, \"#7201a8\"], [0.3333333333333333, \"#9c179e\"], [0.4444444444444444, \"#bd3786\"], [0.5555555555555556, \"#d8576b\"], [0.6666666666666666, \"#ed7953\"], [0.7777777777777778, \"#fb9f3a\"], [0.8888888888888888, \"#fdca26\"], [1.0, \"#f0f921\"]], \"type\": \"surface\"}], \"table\": [{\"cells\": {\"fill\": {\"color\": \"#EBF0F8\"}, \"line\": {\"color\": \"white\"}}, \"header\": {\"fill\": {\"color\": \"#C8D4E3\"}, \"line\": {\"color\": \"white\"}}, \"type\": \"table\"}]}, \"layout\": {\"annotationdefaults\": {\"arrowcolor\": \"#2a3f5f\", \"arrowhead\": 0, \"arrowwidth\": 1}, \"autotypenumbers\": \"strict\", \"coloraxis\": {\"colorbar\": {\"outlinewidth\": 0, \"ticks\": \"\"}}, \"colorscale\": {\"diverging\": [[0, \"#8e0152\"], [0.1, \"#c51b7d\"], [0.2, \"#de77ae\"], [0.3, \"#f1b6da\"], [0.4, \"#fde0ef\"], [0.5, \"#f7f7f7\"], [0.6, \"#e6f5d0\"], [0.7, \"#b8e186\"], [0.8, \"#7fbc41\"], [0.9, \"#4d9221\"], [1, \"#276419\"]], \"sequential\": [[0.0, \"#0d0887\"], [0.1111111111111111, \"#46039f\"], [0.2222222222222222, \"#7201a8\"], [0.3333333333333333, \"#9c179e\"], [0.4444444444444444, \"#bd3786\"], [0.5555555555555556, \"#d8576b\"], [0.6666666666666666, \"#ed7953\"], [0.7777777777777778, \"#fb9f3a\"], [0.8888888888888888, \"#fdca26\"], [1.0, \"#f0f921\"]], \"sequentialminus\": [[0.0, \"#0d0887\"], [0.1111111111111111, \"#46039f\"], [0.2222222222222222, \"#7201a8\"], [0.3333333333333333, \"#9c179e\"], [0.4444444444444444, \"#bd3786\"], [0.5555555555555556, \"#d8576b\"], [0.6666666666666666, \"#ed7953\"], [0.7777777777777778, \"#fb9f3a\"], [0.8888888888888888, \"#fdca26\"], [1.0, \"#f0f921\"]]}, \"colorway\": [\"#636efa\", \"#EF553B\", \"#00cc96\", \"#ab63fa\", \"#FFA15A\", \"#19d3f3\", \"#FF6692\", \"#B6E880\", \"#FF97FF\", \"#FECB52\"], \"font\": {\"color\": \"#2a3f5f\"}, \"geo\": {\"bgcolor\": \"white\", \"lakecolor\": \"white\", \"landcolor\": \"#E5ECF6\", \"showlakes\": true, \"showland\": true, \"subunitcolor\": \"white\"}, \"hoverlabel\": {\"align\": \"left\"}, \"hovermode\": \"closest\", \"mapbox\": {\"style\": \"light\"}, \"paper_bgcolor\": \"white\", \"plot_bgcolor\": \"#E5ECF6\", \"polar\": {\"angularaxis\": {\"gridcolor\": \"white\", \"linecolor\": \"white\", \"ticks\": \"\"}, \"bgcolor\": \"#E5ECF6\", \"radialaxis\": {\"gridcolor\": \"white\", \"linecolor\": \"white\", \"ticks\": \"\"}}, \"scene\": {\"xaxis\": {\"backgroundcolor\": \"#E5ECF6\", \"gridcolor\": \"white\", \"gridwidth\": 2, \"linecolor\": \"white\", \"showbackground\": true, \"ticks\": \"\", \"zerolinecolor\": \"white\"}, \"yaxis\": {\"backgroundcolor\": \"#E5ECF6\", \"gridcolor\": \"white\", \"gridwidth\": 2, \"linecolor\": \"white\", \"showbackground\": true, \"ticks\": \"\", \"zerolinecolor\": \"white\"}, \"zaxis\": {\"backgroundcolor\": \"#E5ECF6\", \"gridcolor\": \"white\", \"gridwidth\": 2, \"linecolor\": \"white\", \"showbackground\": true, \"ticks\": \"\", \"zerolinecolor\": \"white\"}}, \"shapedefaults\": {\"line\": {\"color\": \"#2a3f5f\"}}, \"ternary\": {\"aaxis\": {\"gridcolor\": \"white\", \"linecolor\": \"white\", \"ticks\": \"\"}, \"baxis\": {\"gridcolor\": \"white\", \"linecolor\": \"white\", \"ticks\": \"\"}, \"bgcolor\": \"#E5ECF6\", \"caxis\": {\"gridcolor\": \"white\", \"linecolor\": \"white\", \"ticks\": \"\"}}, \"title\": {\"x\": 0.05}, \"xaxis\": {\"automargin\": true, \"gridcolor\": \"white\", \"linecolor\": \"white\", \"ticks\": \"\", \"title\": {\"standoff\": 15}, \"zerolinecolor\": \"white\", \"zerolinewidth\": 2}, \"yaxis\": {\"automargin\": true, \"gridcolor\": \"white\", \"linecolor\": \"white\", \"ticks\": \"\", \"title\": {\"standoff\": 15}, \"zerolinecolor\": \"white\", \"zerolinewidth\": 2}}}, \"title\": {\"text\": \"Global temperature vs. cumulated CO2\"}, \"xaxis\": {\"anchor\": \"y\", \"domain\": [0.0, 1.0], \"title\": {\"text\": \"Cumulative CO2 emissions (tons)\"}}, \"yaxis\": {\"anchor\": \"x\", \"domain\": [0.0, 1.0], \"title\": {\"text\": \"Average Temperature (C)\"}}},                        {\"responsive\": true}                    ).then(function(){\n",
       "                            \n",
       "var gd = document.getElementById('3fbf446e-927b-4b15-8960-b2bbfe4e901e');\n",
       "var x = new MutationObserver(function (mutations, observer) {{\n",
       "        var display = window.getComputedStyle(gd).display;\n",
       "        if (!display || display === 'none') {{\n",
       "            console.log([gd, 'removed!']);\n",
       "            Plotly.purge(gd);\n",
       "            observer.disconnect();\n",
       "        }}\n",
       "}});\n",
       "\n",
       "// Listen for the removal of the full notebook cells\n",
       "var notebookContainer = gd.closest('#notebook-container');\n",
       "if (notebookContainer) {{\n",
       "    x.observe(notebookContainer, {childList: true});\n",
       "}}\n",
       "\n",
       "// Listen for the clearing of the current output cell\n",
       "var outputEl = gd.closest('.output');\n",
       "if (outputEl) {{\n",
       "    x.observe(outputEl, {childList: true});\n",
       "}}\n",
       "\n",
       "                        })                };                });            </script>        </div>"
      ]
     },
     "metadata": {},
     "output_type": "display_data"
    }
   ],
   "source": [
    "fig = px.scatter(df_predictions, x=\"Cumulative CO2 emissions (tons)\", y=\"Average Temperature (C)\",\n",
    "    color=\"Year\", color_continuous_scale=\"balance\",\n",
    "    trendline=\"ols\", trendline_color_override=\"black\", title=\"Global temperature vs. cumulated CO2\")\n",
    "\n",
    "ci_upper = predictions['mean_ci_upper']\n",
    "ci_lower = predictions['mean_ci_lower']\n",
    "\n",
    "fig.add_traces([go.Scatter(x = df_predictions[\"Cumulative CO2 emissions (tons)\"], y = ci_upper,\n",
    "                           mode = 'lines', line_color = 'rgba(0,0,0,0)',\n",
    "                           showlegend = False),\n",
    "                go.Scatter(x = df_predictions[\"Cumulative CO2 emissions (tons)\"], y = ci_lower,\n",
    "                           mode = 'lines', line_color = 'rgba(0,0,0,0)',\n",
    "                           name = '95% confidence interval',\n",
    "                           fill='tonexty', fillcolor = 'rgba(0,100,80,0.2)')])\n",
    "\n",
    "fig.show()"
   ]
  },
  {
   "cell_type": "markdown",
   "id": "9af33dab",
   "metadata": {},
   "source": [
    "The last 10 data points in the plot above are based on inputs of cumulative CO2 emissions from the ARIMA model. Based on the ARIMA predictions of CO2 and the linear fit to average global temperature we predict the average global temperature to be 17.10 degrees celsius which is an increase of 0.76 degrees from 2012, which is the last measurement in the data set.\n",
    "\n",
    "While an increase of 0.76 degrees doesn't seem like a major difference, it is important to remember that increased CO2 emissions more extreme temperatures both warm and cold. Thus, averaging over countries and years will naturally eliminate our ability to see these effects. "
   ]
  },
  {
   "cell_type": "markdown",
   "id": "e1cc1796",
   "metadata": {},
   "source": [
    "SOMETHING CONCLUDING HERE"
   ]
  },
  {
   "cell_type": "markdown",
   "id": "a60636e1",
   "metadata": {},
   "source": [
    "sources: http://web.mit.edu/jlcohen/www/papers/AML-WhitePaper.pdf"
   ]
  }
 ],
 "metadata": {
  "celltoolbar": "Edit Metadata",
  "kernelspec": {
   "display_name": "Python 3 (ipykernel)",
   "language": "python",
   "name": "python3"
  },
  "language_info": {
   "codemirror_mode": {
    "name": "ipython",
    "version": 3
   },
   "file_extension": ".py",
   "mimetype": "text/x-python",
   "name": "python",
   "nbconvert_exporter": "python",
   "pygments_lexer": "ipython3",
   "version": "3.7.10"
  },
  "varInspector": {
   "cols": {
    "lenName": 16,
    "lenType": 16,
    "lenVar": 40
   },
   "kernels_config": {
    "python": {
     "delete_cmd_postfix": "",
     "delete_cmd_prefix": "del ",
     "library": "var_list.py",
     "varRefreshCmd": "print(var_dic_list())"
    },
    "r": {
     "delete_cmd_postfix": ") ",
     "delete_cmd_prefix": "rm(",
     "library": "var_list.r",
     "varRefreshCmd": "cat(var_dic_list()) "
    }
   },
   "types_to_exclude": [
    "module",
    "function",
    "builtin_function_or_method",
    "instance",
    "_Feature"
   ],
   "window_display": false
  }
 },
 "nbformat": 4,
 "nbformat_minor": 5
}
