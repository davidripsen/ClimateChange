{
 "cells": [
  {
   "cell_type": "code",
   "execution_count": 1,
   "id": "2d76f4d6",
   "metadata": {
    "tags": [
     "remove-input"
    ]
   },
   "outputs": [],
   "source": [
    "# Imports\n",
    "import numpy as np\n",
    "import matplotlib.pyplot as plt\n",
    "import pandas as pd\n",
    "import seaborn as sns\n",
    "import plotly.express as px\n",
    "import plotly.graph_objects as go\n",
    "from sklearn.linear_model import LinearRegression\n",
    "from statsmodels.tsa.arima.model import ARIMA\n",
    "from statsmodels.graphics.tsaplots import plot_pacf, plot_acf\n",
    "from statsmodels.tsa.stattools import adfuller\n",
    "import statsmodels.formula.api as smf\n",
    "from itertools import product\n",
    "from tqdm import tqdm_notebook\n",
    "import warnings\n",
    "warnings.filterwarnings(\"ignore\")\n",
    "sns.set_theme()"
   ]
  },
  {
   "cell_type": "markdown",
   "id": "cae1815b",
   "metadata": {},
   "source": [
    "## 4. **CO2 emissions in the future**"
   ]
  },
  {
   "cell_type": "markdown",
   "id": "b5ef8e3c",
   "metadata": {},
   "source": [
    "Up until now we have looked at the current levels of CO2 emissions. Now it is difficult to predict how ambitious the climate actions of different countries will be. One unpleasent scenario we *can* to some extent predict the implications of is: Status Quo.\n",
    "\n",
    "So if we assume status quo regarding factors that contribute to the rise in CO2 emissions what does the future then look like?\n",
    "\n",
    "We investigate this by considering the CO2 emissions data as a time series. As seen from the plot of CO2 emissions below the data seems to have an exponentially increasing trend and an increasing variance over time."
   ]
  },
  {
   "cell_type": "code",
   "execution_count": 2,
   "id": "f293cbc5",
   "metadata": {
    "tags": [
     "remove-input"
    ]
   },
   "outputs": [],
   "source": [
    "df3 = pd.read_csv('data/annual-co-emissions-by-region.csv')\n",
    "df3 = df3.rename(columns={'Annual CO2 emissions (zero filled)': \"Annual CO2 emissions\"})\n",
    "df3 = df3.loc[df3['Entity'] == 'World']\n",
    "df3 = df3.sort_values('Year')\n",
    "diff1 = np.diff(np.log(df3['Annual CO2 emissions'])) \n",
    "df3['Log transformed first order differenced CO2 emissions'] = np.pad(diff1, (0, 1), 'constant')\n",
    "df3['Log transformed CO2 emissions'] = np.log(df3['Annual CO2 emissions'])\n",
    "model_arima = ARIMA(df3['Log transformed CO2 emissions'], order=(1,1,2))\n",
    "model_fit = model_arima.fit()\n",
    "y = 2020\n",
    "for i in range(10):\n",
    "    y = y + 1\n",
    "    df3 = df3.append({'Entity': 'World', 'Code': 'OWID_WRL','Year': y, 'Annual CO2 emissions': float(\"NAN\"), 'Log transformed first order differenced CO2 emissions': float(\"NAN\"),'Log transformed CO2 emissions': float(\"NAN\")}, ignore_index=True)\n",
    "preds = model_fit.get_prediction(0,281)  # 95% conf\n",
    "preds_ci = preds.conf_int()\n",
    "preds_mu = preds.predicted_mean\n",
    "df3['Predictions'] = preds_mu\n",
    "df3['CI_lower'] = preds_ci[1:]['lower Log transformed CO2 emissions'].reset_index(drop=True)\n",
    "df3['CI_upper'] = preds_ci[1:]['upper Log transformed CO2 emissions'].reset_index(drop=True)"
   ]
  },
  {
   "cell_type": "code",
   "execution_count": 3,
   "id": "cce73de1",
   "metadata": {
    "tags": [
     "remove-input"
    ]
   },
   "outputs": [
    {
     "data": {
      "application/vnd.plotly.v1+json": {
       "config": {
        "plotlyServerURL": "https://plot.ly"
       },
       "data": [
        {
         "hovertemplate": "Year=%{x}<br>Annual CO2 emissions=%{y}<extra></extra>",
         "legendgroup": "",
         "line": {
          "color": "#636efa",
          "dash": "solid"
         },
         "marker": {
          "symbol": "circle"
         },
         "mode": "lines",
         "name": "",
         "orientation": "v",
         "showlegend": false,
         "type": "scatter",
         "x": [
          1750,
          1751,
          1752,
          1753,
          1754,
          1755,
          1756,
          1757,
          1758,
          1759,
          1760,
          1761,
          1762,
          1763,
          1764,
          1765,
          1766,
          1767,
          1768,
          1769,
          1770,
          1771,
          1772,
          1773,
          1774,
          1775,
          1776,
          1777,
          1778,
          1779,
          1780,
          1781,
          1782,
          1783,
          1784,
          1785,
          1786,
          1787,
          1788,
          1789,
          1790,
          1791,
          1792,
          1793,
          1794,
          1795,
          1796,
          1797,
          1798,
          1799,
          1800,
          1801,
          1802,
          1803,
          1804,
          1805,
          1806,
          1807,
          1808,
          1809,
          1810,
          1811,
          1812,
          1813,
          1814,
          1815,
          1816,
          1817,
          1818,
          1819,
          1820,
          1821,
          1822,
          1823,
          1824,
          1825,
          1826,
          1827,
          1828,
          1829,
          1830,
          1831,
          1832,
          1833,
          1834,
          1835,
          1836,
          1837,
          1838,
          1839,
          1840,
          1841,
          1842,
          1843,
          1844,
          1845,
          1846,
          1847,
          1848,
          1849,
          1850,
          1851,
          1852,
          1853,
          1854,
          1855,
          1856,
          1857,
          1858,
          1859,
          1860,
          1861,
          1862,
          1863,
          1864,
          1865,
          1866,
          1867,
          1868,
          1869,
          1870,
          1871,
          1872,
          1873,
          1874,
          1875,
          1876,
          1877,
          1878,
          1879,
          1880,
          1881,
          1882,
          1883,
          1884,
          1885,
          1886,
          1887,
          1888,
          1889,
          1890,
          1891,
          1892,
          1893,
          1894,
          1895,
          1896,
          1897,
          1898,
          1899,
          1900,
          1901,
          1902,
          1903,
          1904,
          1905,
          1906,
          1907,
          1908,
          1909,
          1910,
          1911,
          1912,
          1913,
          1914,
          1915,
          1916,
          1917,
          1918,
          1919,
          1920,
          1921,
          1922,
          1923,
          1924,
          1925,
          1926,
          1927,
          1928,
          1929,
          1930,
          1931,
          1932,
          1933,
          1934,
          1935,
          1936,
          1937,
          1938,
          1939,
          1940,
          1941,
          1942,
          1943,
          1944,
          1945,
          1946,
          1947,
          1948,
          1949,
          1950,
          1951,
          1952,
          1953,
          1954,
          1955,
          1956,
          1957,
          1958,
          1959,
          1960,
          1961,
          1962,
          1963,
          1964,
          1965,
          1966,
          1967,
          1968,
          1969,
          1970,
          1971,
          1972,
          1973,
          1974,
          1975,
          1976,
          1977,
          1978,
          1979,
          1980,
          1981,
          1982,
          1983,
          1984,
          1985,
          1986,
          1987,
          1988,
          1989,
          1990,
          1991,
          1992,
          1993,
          1994,
          1995,
          1996,
          1997,
          1998,
          1999,
          2000,
          2001,
          2002,
          2003,
          2004,
          2005,
          2006,
          2007,
          2008,
          2009,
          2010,
          2011,
          2012,
          2013,
          2014,
          2015,
          2016,
          2017,
          2018,
          2019,
          2020,
          2021,
          2022,
          2023,
          2024,
          2025,
          2026,
          2027,
          2028,
          2029,
          2030
         ],
         "xaxis": "x",
         "y": [
          9350528,
          9350528,
          9354192,
          9354192,
          9357856,
          9361520,
          10006384,
          10010048,
          10013712,
          10017376,
          10017376,
          10973680,
          10977344,
          10981008,
          10984672,
          10988336,
          12259744,
          12263408,
          12267072,
          12270736,
          12274400,
          13611760,
          13615424,
          13619088,
          13622752,
          13626416,
          15037056,
          15040720,
          15044384,
          15048048,
          15055376,
          16843408,
          16847072,
          16854400,
          16858064,
          16869056,
          19151728,
          19159056,
          19162720,
          19170048,
          19177376,
          21419744,
          21896064,
          21914384,
          21881408,
          21892400,
          22951296,
          24094464,
          25094736,
          26428432,
          28091888,
          27959984,
          36782896,
          31488416,
          34309696,
          33419344,
          35046160,
          36874496,
          35064480,
          35090128,
          37380128,
          39582192,
          41007488,
          41220000,
          42128672,
          43488016,
          47664976,
          49431024,
          49643536,
          49947648,
          50687776,
          51435232,
          53465088,
          56550176,
          58525072,
          60756448,
          61419632,
          65915360,
          66637168,
          66395344,
          89123136,
          84528480,
          85111056,
          86807488,
          88485600,
          90445840,
          104775744,
          104691472,
          108044032,
          111612768,
          118929776,
          122619424,
          129504080,
          132852976,
          141423072,
          155210704,
          157793824,
          172402192,
          173816496,
          183511440,
          196896032,
          198804976,
          207550944,
          217209248,
          255138976,
          260165984,
          277291520,
          279889296,
          284171850,
          301312559,
          330642191,
          347735242,
          354057462,
          377859938,
          407091108,
          432307789,
          445970599,
          477814912,
          490752496,
          521130720,
          532536752,
          566142960,
          626371792,
          665419040,
          622997248,
          675799152,
          685552720,
          699098528,
          704381729,
          754869509,
          853707188,
          882407475,
          931924710,
          991035684,
          1002177745,
          1009674571,
          1025478884,
          1076761678,
          1192276070,
          1191804432,
          1298463581,
          1358879690,
          1370094534,
          1353675035,
          1400864597,
          1485281339,
          1533711001,
          1606310640,
          1694277167,
          1850905966,
          1952224654,
          2016760928,
          2067797613,
          2256077250,
          2281857535,
          2429631367,
          2551869513,
          2885281242,
          2776431591,
          2887083061,
          3027588864,
          3082462274,
          3228332151,
          3492411249,
          3168341359,
          3125088543,
          3373154069,
          3527725678,
          3479185579,
          3014874203,
          3507597636,
          3076038222,
          3226445037,
          3661080742,
          3672399351,
          3712867713,
          3645190242,
          3981432883,
          3962552527,
          4255150726,
          3923058343,
          3505272053,
          3159133411,
          3326453782,
          3617657544,
          3796088336,
          4170573685,
          4458901333,
          4195242758,
          4438143987,
          4849926545,
          4959186226,
          4939724859,
          5023250640,
          5105436673,
          4244738093,
          4633477283,
          5130185429,
          5401115478,
          5243102933,
          6003238189,
          6379755941,
          6465694232,
          6647727815,
          6789936494,
          7443207067,
          7924210548,
          8185523970,
          8417600054,
          8856188671,
          9386933671,
          9417462637,
          9750056664,
          10271524394,
          10828857574,
          11317232919,
          11865861396,
          12243045540,
          12909912521,
          13766570654,
          14897567094,
          15498266676,
          16221152268,
          17078792097,
          17009594414,
          17046497217,
          17983972847,
          18494530823,
          19067767178,
          19610017729,
          19492613515,
          19026910179,
          18875760275,
          18998031557,
          19656716874,
          20317483523,
          20619623658,
          21266194534,
          22101399490,
          22406832518,
          22749574360,
          23238102148,
          22569624280,
          22803495349,
          22964583359,
          23453944453,
          24154961206,
          24300550431,
          24206271270,
          24518962288,
          25234207250,
          25451054498,
          26039191477,
          27366723291,
          28627533033,
          29602777196,
          30583530081,
          31493741589,
          32069444008,
          31607042410,
          33343300453,
          34468451046,
          34974075146,
          35283025443,
          35534442952,
          35496406339,
          35452459298,
          35925737687,
          36646139785,
          36702502903,
          34807259099,
          null,
          null,
          null,
          null,
          null,
          null,
          null,
          null,
          null,
          null
         ],
         "yaxis": "y"
        }
       ],
       "layout": {
        "legend": {
         "tracegroupgap": 0
        },
        "template": {
         "data": {
          "bar": [
           {
            "error_x": {
             "color": "#2a3f5f"
            },
            "error_y": {
             "color": "#2a3f5f"
            },
            "marker": {
             "line": {
              "color": "#E5ECF6",
              "width": 0.5
             },
             "pattern": {
              "fillmode": "overlay",
              "size": 10,
              "solidity": 0.2
             }
            },
            "type": "bar"
           }
          ],
          "barpolar": [
           {
            "marker": {
             "line": {
              "color": "#E5ECF6",
              "width": 0.5
             },
             "pattern": {
              "fillmode": "overlay",
              "size": 10,
              "solidity": 0.2
             }
            },
            "type": "barpolar"
           }
          ],
          "carpet": [
           {
            "aaxis": {
             "endlinecolor": "#2a3f5f",
             "gridcolor": "white",
             "linecolor": "white",
             "minorgridcolor": "white",
             "startlinecolor": "#2a3f5f"
            },
            "baxis": {
             "endlinecolor": "#2a3f5f",
             "gridcolor": "white",
             "linecolor": "white",
             "minorgridcolor": "white",
             "startlinecolor": "#2a3f5f"
            },
            "type": "carpet"
           }
          ],
          "choropleth": [
           {
            "colorbar": {
             "outlinewidth": 0,
             "ticks": ""
            },
            "type": "choropleth"
           }
          ],
          "contour": [
           {
            "colorbar": {
             "outlinewidth": 0,
             "ticks": ""
            },
            "colorscale": [
             [
              0,
              "#0d0887"
             ],
             [
              0.1111111111111111,
              "#46039f"
             ],
             [
              0.2222222222222222,
              "#7201a8"
             ],
             [
              0.3333333333333333,
              "#9c179e"
             ],
             [
              0.4444444444444444,
              "#bd3786"
             ],
             [
              0.5555555555555556,
              "#d8576b"
             ],
             [
              0.6666666666666666,
              "#ed7953"
             ],
             [
              0.7777777777777778,
              "#fb9f3a"
             ],
             [
              0.8888888888888888,
              "#fdca26"
             ],
             [
              1,
              "#f0f921"
             ]
            ],
            "type": "contour"
           }
          ],
          "contourcarpet": [
           {
            "colorbar": {
             "outlinewidth": 0,
             "ticks": ""
            },
            "type": "contourcarpet"
           }
          ],
          "heatmap": [
           {
            "colorbar": {
             "outlinewidth": 0,
             "ticks": ""
            },
            "colorscale": [
             [
              0,
              "#0d0887"
             ],
             [
              0.1111111111111111,
              "#46039f"
             ],
             [
              0.2222222222222222,
              "#7201a8"
             ],
             [
              0.3333333333333333,
              "#9c179e"
             ],
             [
              0.4444444444444444,
              "#bd3786"
             ],
             [
              0.5555555555555556,
              "#d8576b"
             ],
             [
              0.6666666666666666,
              "#ed7953"
             ],
             [
              0.7777777777777778,
              "#fb9f3a"
             ],
             [
              0.8888888888888888,
              "#fdca26"
             ],
             [
              1,
              "#f0f921"
             ]
            ],
            "type": "heatmap"
           }
          ],
          "heatmapgl": [
           {
            "colorbar": {
             "outlinewidth": 0,
             "ticks": ""
            },
            "colorscale": [
             [
              0,
              "#0d0887"
             ],
             [
              0.1111111111111111,
              "#46039f"
             ],
             [
              0.2222222222222222,
              "#7201a8"
             ],
             [
              0.3333333333333333,
              "#9c179e"
             ],
             [
              0.4444444444444444,
              "#bd3786"
             ],
             [
              0.5555555555555556,
              "#d8576b"
             ],
             [
              0.6666666666666666,
              "#ed7953"
             ],
             [
              0.7777777777777778,
              "#fb9f3a"
             ],
             [
              0.8888888888888888,
              "#fdca26"
             ],
             [
              1,
              "#f0f921"
             ]
            ],
            "type": "heatmapgl"
           }
          ],
          "histogram": [
           {
            "marker": {
             "pattern": {
              "fillmode": "overlay",
              "size": 10,
              "solidity": 0.2
             }
            },
            "type": "histogram"
           }
          ],
          "histogram2d": [
           {
            "colorbar": {
             "outlinewidth": 0,
             "ticks": ""
            },
            "colorscale": [
             [
              0,
              "#0d0887"
             ],
             [
              0.1111111111111111,
              "#46039f"
             ],
             [
              0.2222222222222222,
              "#7201a8"
             ],
             [
              0.3333333333333333,
              "#9c179e"
             ],
             [
              0.4444444444444444,
              "#bd3786"
             ],
             [
              0.5555555555555556,
              "#d8576b"
             ],
             [
              0.6666666666666666,
              "#ed7953"
             ],
             [
              0.7777777777777778,
              "#fb9f3a"
             ],
             [
              0.8888888888888888,
              "#fdca26"
             ],
             [
              1,
              "#f0f921"
             ]
            ],
            "type": "histogram2d"
           }
          ],
          "histogram2dcontour": [
           {
            "colorbar": {
             "outlinewidth": 0,
             "ticks": ""
            },
            "colorscale": [
             [
              0,
              "#0d0887"
             ],
             [
              0.1111111111111111,
              "#46039f"
             ],
             [
              0.2222222222222222,
              "#7201a8"
             ],
             [
              0.3333333333333333,
              "#9c179e"
             ],
             [
              0.4444444444444444,
              "#bd3786"
             ],
             [
              0.5555555555555556,
              "#d8576b"
             ],
             [
              0.6666666666666666,
              "#ed7953"
             ],
             [
              0.7777777777777778,
              "#fb9f3a"
             ],
             [
              0.8888888888888888,
              "#fdca26"
             ],
             [
              1,
              "#f0f921"
             ]
            ],
            "type": "histogram2dcontour"
           }
          ],
          "mesh3d": [
           {
            "colorbar": {
             "outlinewidth": 0,
             "ticks": ""
            },
            "type": "mesh3d"
           }
          ],
          "parcoords": [
           {
            "line": {
             "colorbar": {
              "outlinewidth": 0,
              "ticks": ""
             }
            },
            "type": "parcoords"
           }
          ],
          "pie": [
           {
            "automargin": true,
            "type": "pie"
           }
          ],
          "scatter": [
           {
            "fillpattern": {
             "fillmode": "overlay",
             "size": 10,
             "solidity": 0.2
            },
            "type": "scatter"
           }
          ],
          "scatter3d": [
           {
            "line": {
             "colorbar": {
              "outlinewidth": 0,
              "ticks": ""
             }
            },
            "marker": {
             "colorbar": {
              "outlinewidth": 0,
              "ticks": ""
             }
            },
            "type": "scatter3d"
           }
          ],
          "scattercarpet": [
           {
            "marker": {
             "colorbar": {
              "outlinewidth": 0,
              "ticks": ""
             }
            },
            "type": "scattercarpet"
           }
          ],
          "scattergeo": [
           {
            "marker": {
             "colorbar": {
              "outlinewidth": 0,
              "ticks": ""
             }
            },
            "type": "scattergeo"
           }
          ],
          "scattergl": [
           {
            "marker": {
             "colorbar": {
              "outlinewidth": 0,
              "ticks": ""
             }
            },
            "type": "scattergl"
           }
          ],
          "scattermapbox": [
           {
            "marker": {
             "colorbar": {
              "outlinewidth": 0,
              "ticks": ""
             }
            },
            "type": "scattermapbox"
           }
          ],
          "scatterpolar": [
           {
            "marker": {
             "colorbar": {
              "outlinewidth": 0,
              "ticks": ""
             }
            },
            "type": "scatterpolar"
           }
          ],
          "scatterpolargl": [
           {
            "marker": {
             "colorbar": {
              "outlinewidth": 0,
              "ticks": ""
             }
            },
            "type": "scatterpolargl"
           }
          ],
          "scatterternary": [
           {
            "marker": {
             "colorbar": {
              "outlinewidth": 0,
              "ticks": ""
             }
            },
            "type": "scatterternary"
           }
          ],
          "surface": [
           {
            "colorbar": {
             "outlinewidth": 0,
             "ticks": ""
            },
            "colorscale": [
             [
              0,
              "#0d0887"
             ],
             [
              0.1111111111111111,
              "#46039f"
             ],
             [
              0.2222222222222222,
              "#7201a8"
             ],
             [
              0.3333333333333333,
              "#9c179e"
             ],
             [
              0.4444444444444444,
              "#bd3786"
             ],
             [
              0.5555555555555556,
              "#d8576b"
             ],
             [
              0.6666666666666666,
              "#ed7953"
             ],
             [
              0.7777777777777778,
              "#fb9f3a"
             ],
             [
              0.8888888888888888,
              "#fdca26"
             ],
             [
              1,
              "#f0f921"
             ]
            ],
            "type": "surface"
           }
          ],
          "table": [
           {
            "cells": {
             "fill": {
              "color": "#EBF0F8"
             },
             "line": {
              "color": "white"
             }
            },
            "header": {
             "fill": {
              "color": "#C8D4E3"
             },
             "line": {
              "color": "white"
             }
            },
            "type": "table"
           }
          ]
         },
         "layout": {
          "annotationdefaults": {
           "arrowcolor": "#2a3f5f",
           "arrowhead": 0,
           "arrowwidth": 1
          },
          "autotypenumbers": "strict",
          "coloraxis": {
           "colorbar": {
            "outlinewidth": 0,
            "ticks": ""
           }
          },
          "colorscale": {
           "diverging": [
            [
             0,
             "#8e0152"
            ],
            [
             0.1,
             "#c51b7d"
            ],
            [
             0.2,
             "#de77ae"
            ],
            [
             0.3,
             "#f1b6da"
            ],
            [
             0.4,
             "#fde0ef"
            ],
            [
             0.5,
             "#f7f7f7"
            ],
            [
             0.6,
             "#e6f5d0"
            ],
            [
             0.7,
             "#b8e186"
            ],
            [
             0.8,
             "#7fbc41"
            ],
            [
             0.9,
             "#4d9221"
            ],
            [
             1,
             "#276419"
            ]
           ],
           "sequential": [
            [
             0,
             "#0d0887"
            ],
            [
             0.1111111111111111,
             "#46039f"
            ],
            [
             0.2222222222222222,
             "#7201a8"
            ],
            [
             0.3333333333333333,
             "#9c179e"
            ],
            [
             0.4444444444444444,
             "#bd3786"
            ],
            [
             0.5555555555555556,
             "#d8576b"
            ],
            [
             0.6666666666666666,
             "#ed7953"
            ],
            [
             0.7777777777777778,
             "#fb9f3a"
            ],
            [
             0.8888888888888888,
             "#fdca26"
            ],
            [
             1,
             "#f0f921"
            ]
           ],
           "sequentialminus": [
            [
             0,
             "#0d0887"
            ],
            [
             0.1111111111111111,
             "#46039f"
            ],
            [
             0.2222222222222222,
             "#7201a8"
            ],
            [
             0.3333333333333333,
             "#9c179e"
            ],
            [
             0.4444444444444444,
             "#bd3786"
            ],
            [
             0.5555555555555556,
             "#d8576b"
            ],
            [
             0.6666666666666666,
             "#ed7953"
            ],
            [
             0.7777777777777778,
             "#fb9f3a"
            ],
            [
             0.8888888888888888,
             "#fdca26"
            ],
            [
             1,
             "#f0f921"
            ]
           ]
          },
          "colorway": [
           "#636efa",
           "#EF553B",
           "#00cc96",
           "#ab63fa",
           "#FFA15A",
           "#19d3f3",
           "#FF6692",
           "#B6E880",
           "#FF97FF",
           "#FECB52"
          ],
          "font": {
           "color": "#2a3f5f"
          },
          "geo": {
           "bgcolor": "white",
           "lakecolor": "white",
           "landcolor": "#E5ECF6",
           "showlakes": true,
           "showland": true,
           "subunitcolor": "white"
          },
          "hoverlabel": {
           "align": "left"
          },
          "hovermode": "closest",
          "mapbox": {
           "style": "light"
          },
          "paper_bgcolor": "white",
          "plot_bgcolor": "#E5ECF6",
          "polar": {
           "angularaxis": {
            "gridcolor": "white",
            "linecolor": "white",
            "ticks": ""
           },
           "bgcolor": "#E5ECF6",
           "radialaxis": {
            "gridcolor": "white",
            "linecolor": "white",
            "ticks": ""
           }
          },
          "scene": {
           "xaxis": {
            "backgroundcolor": "#E5ECF6",
            "gridcolor": "white",
            "gridwidth": 2,
            "linecolor": "white",
            "showbackground": true,
            "ticks": "",
            "zerolinecolor": "white"
           },
           "yaxis": {
            "backgroundcolor": "#E5ECF6",
            "gridcolor": "white",
            "gridwidth": 2,
            "linecolor": "white",
            "showbackground": true,
            "ticks": "",
            "zerolinecolor": "white"
           },
           "zaxis": {
            "backgroundcolor": "#E5ECF6",
            "gridcolor": "white",
            "gridwidth": 2,
            "linecolor": "white",
            "showbackground": true,
            "ticks": "",
            "zerolinecolor": "white"
           }
          },
          "shapedefaults": {
           "line": {
            "color": "#2a3f5f"
           }
          },
          "ternary": {
           "aaxis": {
            "gridcolor": "white",
            "linecolor": "white",
            "ticks": ""
           },
           "baxis": {
            "gridcolor": "white",
            "linecolor": "white",
            "ticks": ""
           },
           "bgcolor": "#E5ECF6",
           "caxis": {
            "gridcolor": "white",
            "linecolor": "white",
            "ticks": ""
           }
          },
          "title": {
           "x": 0.05
          },
          "xaxis": {
           "automargin": true,
           "gridcolor": "white",
           "linecolor": "white",
           "ticks": "",
           "title": {
            "standoff": 15
           },
           "zerolinecolor": "white",
           "zerolinewidth": 2
          },
          "yaxis": {
           "automargin": true,
           "gridcolor": "white",
           "linecolor": "white",
           "ticks": "",
           "title": {
            "standoff": 15
           },
           "zerolinecolor": "white",
           "zerolinewidth": 2
          }
         }
        },
        "title": {
         "text": "Annual CO2 emissions"
        },
        "xaxis": {
         "anchor": "y",
         "domain": [
          0,
          1
         ],
         "title": {
          "text": "Year"
         }
        },
        "yaxis": {
         "anchor": "x",
         "domain": [
          0,
          1
         ],
         "title": {
          "text": "Annual CO2 emissions"
         }
        }
       }
      }
     },
     "metadata": {},
     "output_type": "display_data"
    }
   ],
   "source": [
    "fig = px.line(df3, x='Year', y='Annual CO2 emissions', title = 'Annual CO2 emissions')\n",
    "fig.show()"
   ]
  },
  {
   "cell_type": "markdown",
   "id": "1d7ff855",
   "metadata": {},
   "source": [
    "To model the expontential trend in CO2 emissions, the variance and ensure stationarity we chose to model the log-transformed CO2 emissions data with an autoregressive integrated moving average model (ARIMA). To determine the order of the parameters in the ARIMA model we performed a grid search of all parameter combinations in the range of 0 to 7 where the parameter combination with the lowest AIC was chosen. The final model ended up being an ARIMA(1,1,2). I.e. according to the model, next years CO2 emissions is a combination of this year's emissions + an upward trend + the errors the model made this and the previous year.\n",
    "\n",
    "Below you can investigate the predictions of the ARIMA-model until 2030. The model predicts a small decrease in CO2 emissions in 2021 follow by an upward linear increase for the next 9 years."
   ]
  },
  {
   "cell_type": "code",
   "execution_count": 4,
   "id": "c0c25e58",
   "metadata": {
    "tags": [
     "remove-input"
    ]
   },
   "outputs": [
    {
     "data": {
      "application/vnd.plotly.v1+json": {
       "config": {
        "plotlyServerURL": "https://plot.ly"
       },
       "data": [
        {
         "hovertemplate": "Year=%{x}<br>Annual CO2 emissions=%{y}<extra></extra>",
         "legendgroup": "",
         "line": {
          "color": "#636efa",
          "dash": "solid"
         },
         "marker": {
          "symbol": "circle"
         },
         "mode": "lines",
         "name": "",
         "orientation": "v",
         "showlegend": false,
         "type": "scatter",
         "x": [
          1750,
          1751,
          1752,
          1753,
          1754,
          1755,
          1756,
          1757,
          1758,
          1759,
          1760,
          1761,
          1762,
          1763,
          1764,
          1765,
          1766,
          1767,
          1768,
          1769,
          1770,
          1771,
          1772,
          1773,
          1774,
          1775,
          1776,
          1777,
          1778,
          1779,
          1780,
          1781,
          1782,
          1783,
          1784,
          1785,
          1786,
          1787,
          1788,
          1789,
          1790,
          1791,
          1792,
          1793,
          1794,
          1795,
          1796,
          1797,
          1798,
          1799,
          1800,
          1801,
          1802,
          1803,
          1804,
          1805,
          1806,
          1807,
          1808,
          1809,
          1810,
          1811,
          1812,
          1813,
          1814,
          1815,
          1816,
          1817,
          1818,
          1819,
          1820,
          1821,
          1822,
          1823,
          1824,
          1825,
          1826,
          1827,
          1828,
          1829,
          1830,
          1831,
          1832,
          1833,
          1834,
          1835,
          1836,
          1837,
          1838,
          1839,
          1840,
          1841,
          1842,
          1843,
          1844,
          1845,
          1846,
          1847,
          1848,
          1849,
          1850,
          1851,
          1852,
          1853,
          1854,
          1855,
          1856,
          1857,
          1858,
          1859,
          1860,
          1861,
          1862,
          1863,
          1864,
          1865,
          1866,
          1867,
          1868,
          1869,
          1870,
          1871,
          1872,
          1873,
          1874,
          1875,
          1876,
          1877,
          1878,
          1879,
          1880,
          1881,
          1882,
          1883,
          1884,
          1885,
          1886,
          1887,
          1888,
          1889,
          1890,
          1891,
          1892,
          1893,
          1894,
          1895,
          1896,
          1897,
          1898,
          1899,
          1900,
          1901,
          1902,
          1903,
          1904,
          1905,
          1906,
          1907,
          1908,
          1909,
          1910,
          1911,
          1912,
          1913,
          1914,
          1915,
          1916,
          1917,
          1918,
          1919,
          1920,
          1921,
          1922,
          1923,
          1924,
          1925,
          1926,
          1927,
          1928,
          1929,
          1930,
          1931,
          1932,
          1933,
          1934,
          1935,
          1936,
          1937,
          1938,
          1939,
          1940,
          1941,
          1942,
          1943,
          1944,
          1945,
          1946,
          1947,
          1948,
          1949,
          1950,
          1951,
          1952,
          1953,
          1954,
          1955,
          1956,
          1957,
          1958,
          1959,
          1960,
          1961,
          1962,
          1963,
          1964,
          1965,
          1966,
          1967,
          1968,
          1969,
          1970,
          1971,
          1972,
          1973,
          1974,
          1975,
          1976,
          1977,
          1978,
          1979,
          1980,
          1981,
          1982,
          1983,
          1984,
          1985,
          1986,
          1987,
          1988,
          1989,
          1990,
          1991,
          1992,
          1993,
          1994,
          1995,
          1996,
          1997,
          1998,
          1999,
          2000,
          2001,
          2002,
          2003,
          2004,
          2005,
          2006,
          2007,
          2008,
          2009,
          2010,
          2011,
          2012,
          2013,
          2014,
          2015,
          2016,
          2017,
          2018,
          2019,
          2020,
          2021,
          2022,
          2023,
          2024,
          2025,
          2026,
          2027,
          2028,
          2029,
          2030
         ],
         "xaxis": "x",
         "y": [
          9350528,
          9350528,
          9354192,
          9354192,
          9357856,
          9361520,
          10006384,
          10010048,
          10013712,
          10017376,
          10017376,
          10973680,
          10977344,
          10981008,
          10984672,
          10988336,
          12259744,
          12263408,
          12267072,
          12270736,
          12274400,
          13611760,
          13615424,
          13619088,
          13622752,
          13626416,
          15037056,
          15040720,
          15044384,
          15048048,
          15055376,
          16843408,
          16847072,
          16854400,
          16858064,
          16869056,
          19151728,
          19159056,
          19162720,
          19170048,
          19177376,
          21419744,
          21896064,
          21914384,
          21881408,
          21892400,
          22951296,
          24094464,
          25094736,
          26428432,
          28091888,
          27959984,
          36782896,
          31488416,
          34309696,
          33419344,
          35046160,
          36874496,
          35064480,
          35090128,
          37380128,
          39582192,
          41007488,
          41220000,
          42128672,
          43488016,
          47664976,
          49431024,
          49643536,
          49947648,
          50687776,
          51435232,
          53465088,
          56550176,
          58525072,
          60756448,
          61419632,
          65915360,
          66637168,
          66395344,
          89123136,
          84528480,
          85111056,
          86807488,
          88485600,
          90445840,
          104775744,
          104691472,
          108044032,
          111612768,
          118929776,
          122619424,
          129504080,
          132852976,
          141423072,
          155210704,
          157793824,
          172402192,
          173816496,
          183511440,
          196896032,
          198804976,
          207550944,
          217209248,
          255138976,
          260165984,
          277291520,
          279889296,
          284171850,
          301312559,
          330642191,
          347735242,
          354057462,
          377859938,
          407091108,
          432307789,
          445970599,
          477814912,
          490752496,
          521130720,
          532536752,
          566142960,
          626371792,
          665419040,
          622997248,
          675799152,
          685552720,
          699098528,
          704381729,
          754869509,
          853707188,
          882407475,
          931924710,
          991035684,
          1002177745,
          1009674571,
          1025478884,
          1076761678,
          1192276070,
          1191804432,
          1298463581,
          1358879690,
          1370094534,
          1353675035,
          1400864597,
          1485281339,
          1533711001,
          1606310640,
          1694277167,
          1850905966,
          1952224654,
          2016760928,
          2067797613,
          2256077250,
          2281857535,
          2429631367,
          2551869513,
          2885281242,
          2776431591,
          2887083061,
          3027588864,
          3082462274,
          3228332151,
          3492411249,
          3168341359,
          3125088543,
          3373154069,
          3527725678,
          3479185579,
          3014874203,
          3507597636,
          3076038222,
          3226445037,
          3661080742,
          3672399351,
          3712867713,
          3645190242,
          3981432883,
          3962552527,
          4255150726,
          3923058343,
          3505272053,
          3159133411,
          3326453782,
          3617657544,
          3796088336,
          4170573685,
          4458901333,
          4195242758,
          4438143987,
          4849926545,
          4959186226,
          4939724859,
          5023250640,
          5105436673,
          4244738093,
          4633477283,
          5130185429,
          5401115478,
          5243102933,
          6003238189,
          6379755941,
          6465694232,
          6647727815,
          6789936494,
          7443207067,
          7924210548,
          8185523970,
          8417600054,
          8856188671,
          9386933671,
          9417462637,
          9750056664,
          10271524394,
          10828857574,
          11317232919,
          11865861396,
          12243045540,
          12909912521,
          13766570654,
          14897567094,
          15498266676,
          16221152268,
          17078792097,
          17009594414,
          17046497217,
          17983972847,
          18494530823,
          19067767178,
          19610017729,
          19492613515,
          19026910179,
          18875760275,
          18998031557,
          19656716874,
          20317483523,
          20619623658,
          21266194534,
          22101399490,
          22406832518,
          22749574360,
          23238102148,
          22569624280,
          22803495349,
          22964583359,
          23453944453,
          24154961206,
          24300550431,
          24206271270,
          24518962288,
          25234207250,
          25451054498,
          26039191477,
          27366723291,
          28627533033,
          29602777196,
          30583530081,
          31493741589,
          32069444008,
          31607042410,
          33343300453,
          34468451046,
          34974075146,
          35283025443,
          35534442952,
          35496406339,
          35452459298,
          35925737687,
          36646139785,
          36702502903,
          34807259099,
          null,
          null,
          null,
          null,
          null,
          null,
          null,
          null,
          null,
          null
         ],
         "yaxis": "y"
        },
        {
         "mode": "lines",
         "name": "Original data",
         "type": "scatter",
         "x": [
          1750,
          1751,
          1752,
          1753,
          1754,
          1755,
          1756,
          1757,
          1758,
          1759,
          1760,
          1761,
          1762,
          1763,
          1764,
          1765,
          1766,
          1767,
          1768,
          1769,
          1770,
          1771,
          1772,
          1773,
          1774,
          1775,
          1776,
          1777,
          1778,
          1779,
          1780,
          1781,
          1782,
          1783,
          1784,
          1785,
          1786,
          1787,
          1788,
          1789,
          1790,
          1791,
          1792,
          1793,
          1794,
          1795,
          1796,
          1797,
          1798,
          1799,
          1800,
          1801,
          1802,
          1803,
          1804,
          1805,
          1806,
          1807,
          1808,
          1809,
          1810,
          1811,
          1812,
          1813,
          1814,
          1815,
          1816,
          1817,
          1818,
          1819,
          1820,
          1821,
          1822,
          1823,
          1824,
          1825,
          1826,
          1827,
          1828,
          1829,
          1830,
          1831,
          1832,
          1833,
          1834,
          1835,
          1836,
          1837,
          1838,
          1839,
          1840,
          1841,
          1842,
          1843,
          1844,
          1845,
          1846,
          1847,
          1848,
          1849,
          1850,
          1851,
          1852,
          1853,
          1854,
          1855,
          1856,
          1857,
          1858,
          1859,
          1860,
          1861,
          1862,
          1863,
          1864,
          1865,
          1866,
          1867,
          1868,
          1869,
          1870,
          1871,
          1872,
          1873,
          1874,
          1875,
          1876,
          1877,
          1878,
          1879,
          1880,
          1881,
          1882,
          1883,
          1884,
          1885,
          1886,
          1887,
          1888,
          1889,
          1890,
          1891,
          1892,
          1893,
          1894,
          1895,
          1896,
          1897,
          1898,
          1899,
          1900,
          1901,
          1902,
          1903,
          1904,
          1905,
          1906,
          1907,
          1908,
          1909,
          1910,
          1911,
          1912,
          1913,
          1914,
          1915,
          1916,
          1917,
          1918,
          1919,
          1920,
          1921,
          1922,
          1923,
          1924,
          1925,
          1926,
          1927,
          1928,
          1929,
          1930,
          1931,
          1932,
          1933,
          1934,
          1935,
          1936,
          1937,
          1938,
          1939,
          1940,
          1941,
          1942,
          1943,
          1944,
          1945,
          1946,
          1947,
          1948,
          1949,
          1950,
          1951,
          1952,
          1953,
          1954,
          1955,
          1956,
          1957,
          1958,
          1959,
          1960,
          1961,
          1962,
          1963,
          1964,
          1965,
          1966,
          1967,
          1968,
          1969,
          1970,
          1971,
          1972,
          1973,
          1974,
          1975,
          1976,
          1977,
          1978,
          1979,
          1980,
          1981,
          1982,
          1983,
          1984,
          1985,
          1986,
          1987,
          1988,
          1989,
          1990,
          1991,
          1992,
          1993,
          1994,
          1995,
          1996,
          1997,
          1998,
          1999,
          2000,
          2001,
          2002,
          2003,
          2004,
          2005,
          2006,
          2007,
          2008,
          2009,
          2010,
          2011,
          2012,
          2013,
          2014,
          2015,
          2016,
          2017,
          2018,
          2019,
          2020,
          2021,
          2022,
          2023,
          2024,
          2025,
          2026,
          2027,
          2028,
          2029,
          2030
         ],
         "y": [
          9350528,
          9350528,
          9354192,
          9354192,
          9357856,
          9361520,
          10006384,
          10010048,
          10013712,
          10017376,
          10017376,
          10973680,
          10977344,
          10981008,
          10984672,
          10988336,
          12259744,
          12263408,
          12267072,
          12270736,
          12274400,
          13611760,
          13615424,
          13619088,
          13622752,
          13626416,
          15037056,
          15040720,
          15044384,
          15048048,
          15055376,
          16843408,
          16847072,
          16854400,
          16858064,
          16869056,
          19151728,
          19159056,
          19162720,
          19170048,
          19177376,
          21419744,
          21896064,
          21914384,
          21881408,
          21892400,
          22951296,
          24094464,
          25094736,
          26428432,
          28091888,
          27959984,
          36782896,
          31488416,
          34309696,
          33419344,
          35046160,
          36874496,
          35064480,
          35090128,
          37380128,
          39582192,
          41007488,
          41220000,
          42128672,
          43488016,
          47664976,
          49431024,
          49643536,
          49947648,
          50687776,
          51435232,
          53465088,
          56550176,
          58525072,
          60756448,
          61419632,
          65915360,
          66637168,
          66395344,
          89123136,
          84528480,
          85111056,
          86807488,
          88485600,
          90445840,
          104775744,
          104691472,
          108044032,
          111612768,
          118929776,
          122619424,
          129504080,
          132852976,
          141423072,
          155210704,
          157793824,
          172402192,
          173816496,
          183511440,
          196896032,
          198804976,
          207550944,
          217209248,
          255138976,
          260165984,
          277291520,
          279889296,
          284171850,
          301312559,
          330642191,
          347735242,
          354057462,
          377859938,
          407091108,
          432307789,
          445970599,
          477814912,
          490752496,
          521130720,
          532536752,
          566142960,
          626371792,
          665419040,
          622997248,
          675799152,
          685552720,
          699098528,
          704381729,
          754869509,
          853707188,
          882407475,
          931924710,
          991035684,
          1002177745,
          1009674571,
          1025478884,
          1076761678,
          1192276070,
          1191804432,
          1298463581,
          1358879690,
          1370094534,
          1353675035,
          1400864597,
          1485281339,
          1533711001,
          1606310640,
          1694277167,
          1850905966,
          1952224654,
          2016760928,
          2067797613,
          2256077250,
          2281857535,
          2429631367,
          2551869513,
          2885281242,
          2776431591,
          2887083061,
          3027588864,
          3082462274,
          3228332151,
          3492411249,
          3168341359,
          3125088543,
          3373154069,
          3527725678,
          3479185579,
          3014874203,
          3507597636,
          3076038222,
          3226445037,
          3661080742,
          3672399351,
          3712867713,
          3645190242,
          3981432883,
          3962552527,
          4255150726,
          3923058343,
          3505272053,
          3159133411,
          3326453782,
          3617657544,
          3796088336,
          4170573685,
          4458901333,
          4195242758,
          4438143987,
          4849926545,
          4959186226,
          4939724859,
          5023250640,
          5105436673,
          4244738093,
          4633477283,
          5130185429,
          5401115478,
          5243102933,
          6003238189,
          6379755941,
          6465694232,
          6647727815,
          6789936494,
          7443207067,
          7924210548,
          8185523970,
          8417600054,
          8856188671,
          9386933671,
          9417462637,
          9750056664,
          10271524394,
          10828857574,
          11317232919,
          11865861396,
          12243045540,
          12909912521,
          13766570654,
          14897567094,
          15498266676,
          16221152268,
          17078792097,
          17009594414,
          17046497217,
          17983972847,
          18494530823,
          19067767178,
          19610017729,
          19492613515,
          19026910179,
          18875760275,
          18998031557,
          19656716874,
          20317483523,
          20619623658,
          21266194534,
          22101399490,
          22406832518,
          22749574360,
          23238102148,
          22569624280,
          22803495349,
          22964583359,
          23453944453,
          24154961206,
          24300550431,
          24206271270,
          24518962288,
          25234207250,
          25451054498,
          26039191477,
          27366723291,
          28627533033,
          29602777196,
          30583530081,
          31493741589,
          32069444008,
          31607042410,
          33343300453,
          34468451046,
          34974075146,
          35283025443,
          35534442952,
          35496406339,
          35452459298,
          35925737687,
          36646139785,
          36702502903,
          34807259099,
          null,
          null,
          null,
          null,
          null,
          null,
          null,
          null,
          null,
          null
         ]
        },
        {
         "mode": "lines",
         "name": "Predictions",
         "type": "scatter",
         "x": [
          1750,
          1751,
          1752,
          1753,
          1754,
          1755,
          1756,
          1757,
          1758,
          1759,
          1760,
          1761,
          1762,
          1763,
          1764,
          1765,
          1766,
          1767,
          1768,
          1769,
          1770,
          1771,
          1772,
          1773,
          1774,
          1775,
          1776,
          1777,
          1778,
          1779,
          1780,
          1781,
          1782,
          1783,
          1784,
          1785,
          1786,
          1787,
          1788,
          1789,
          1790,
          1791,
          1792,
          1793,
          1794,
          1795,
          1796,
          1797,
          1798,
          1799,
          1800,
          1801,
          1802,
          1803,
          1804,
          1805,
          1806,
          1807,
          1808,
          1809,
          1810,
          1811,
          1812,
          1813,
          1814,
          1815,
          1816,
          1817,
          1818,
          1819,
          1820,
          1821,
          1822,
          1823,
          1824,
          1825,
          1826,
          1827,
          1828,
          1829,
          1830,
          1831,
          1832,
          1833,
          1834,
          1835,
          1836,
          1837,
          1838,
          1839,
          1840,
          1841,
          1842,
          1843,
          1844,
          1845,
          1846,
          1847,
          1848,
          1849,
          1850,
          1851,
          1852,
          1853,
          1854,
          1855,
          1856,
          1857,
          1858,
          1859,
          1860,
          1861,
          1862,
          1863,
          1864,
          1865,
          1866,
          1867,
          1868,
          1869,
          1870,
          1871,
          1872,
          1873,
          1874,
          1875,
          1876,
          1877,
          1878,
          1879,
          1880,
          1881,
          1882,
          1883,
          1884,
          1885,
          1886,
          1887,
          1888,
          1889,
          1890,
          1891,
          1892,
          1893,
          1894,
          1895,
          1896,
          1897,
          1898,
          1899,
          1900,
          1901,
          1902,
          1903,
          1904,
          1905,
          1906,
          1907,
          1908,
          1909,
          1910,
          1911,
          1912,
          1913,
          1914,
          1915,
          1916,
          1917,
          1918,
          1919,
          1920,
          1921,
          1922,
          1923,
          1924,
          1925,
          1926,
          1927,
          1928,
          1929,
          1930,
          1931,
          1932,
          1933,
          1934,
          1935,
          1936,
          1937,
          1938,
          1939,
          1940,
          1941,
          1942,
          1943,
          1944,
          1945,
          1946,
          1947,
          1948,
          1949,
          1950,
          1951,
          1952,
          1953,
          1954,
          1955,
          1956,
          1957,
          1958,
          1959,
          1960,
          1961,
          1962,
          1963,
          1964,
          1965,
          1966,
          1967,
          1968,
          1969,
          1970,
          1971,
          1972,
          1973,
          1974,
          1975,
          1976,
          1977,
          1978,
          1979,
          1980,
          1981,
          1982,
          1983,
          1984,
          1985,
          1986,
          1987,
          1988,
          1989,
          1990,
          1991,
          1992,
          1993,
          1994,
          1995,
          1996,
          1997,
          1998,
          1999,
          2000,
          2001,
          2002,
          2003,
          2004,
          2005,
          2006,
          2007,
          2008,
          2009,
          2010,
          2011,
          2012,
          2013,
          2014,
          2015,
          2016,
          2017,
          2018,
          2019,
          2020,
          2021,
          2022,
          2023,
          2024,
          2025,
          2026,
          2027,
          2028,
          2029,
          2030
         ],
         "y": [
          1,
          9350528.010917993,
          9350528.10261214,
          9354257.31027781,
          9354956.848620841,
          9358411.488221852,
          9362382.585429085,
          9930738.617473619,
          10071702.619736552,
          10101656.70715432,
          10104640.302792523,
          10098818.048880385,
          10887917.90989144,
          11090902.873929752,
          11135119.882485226,
          11139117.703966618,
          11133836.587474598,
          12162312.389759654,
          12431064.30836182,
          12490118.507971931,
          12495183.469306553,
          12487356.896156369,
          13560187.07032626,
          13838592.826718776,
          13898204.298078466,
          13901374.18207771,
          13891004.353935184,
          15017949.348997533,
          15308724.41075915,
          15369756.336412646,
          15371489.854506833,
          15361969.374080185,
          16788988.24716717,
          17161011.473966915,
          17243315.2259512,
          17247439.132082827,
          17238532.34618335,
          19060083.10962879,
          19542004.258004736,
          19645507.24155289,
          19653453.303298436,
          19638085.574004605,
          21426662.217393406,
          22274266.69736542,
          22482340.953763537,
          22478827.88987472,
          22458285.185967136,
          23289710.836947918,
          24411364.242736895,
          25493318.088681515,
          26833365.22194531,
          28509015.304494835,
          28803768.719894946,
          35907748.001981124,
          33497471.411502592,
          35172097.08666529,
          34810844.81890611,
          35999280.320957005,
          37753339.76266214,
          36645593.17606416,
          36326293.31614632,
          38066396.44988005,
          40271364.63563336,
          41964572.666360945,
          42516728.30793154,
          43339062.722173706,
          44601897.028348975,
          48275107.88807321,
          50636846.90505782,
          51346766.67818288,
          51690927.225398906,
          52302859.1678564,
          52992013.293596275,
          54755188.0227006,
          57660792.23781505,
          59961317.271884516,
          62302597.58518822,
          63359487.09046181,
          67218103.70343928,
          68725680.15063268,
          68796917.1505389,
          86934122.72466421,
          88320875.7676405,
          88965583.41672222,
          90351781.78191039,
          91917978.64212346,
          93766329.15830885,
          105800954.524082,
          108837987.05871701,
          112182132.94150265,
          115781449.05151236,
          122540277.16463874,
          127138156.4137931,
          133782862.88715833,
          138034540.535527,
          145955939.01756564,
          159141554.1482321,
          164493743.98828155,
          177641379.4438009,
          181927876.02147087,
          190693169.78106466,
          203691516.3411246,
          208257775.3286309,
          216244313.81098452,
          225880693.43772483,
          259168744.64542937,
          272004141.1617817,
          289011009.66239977,
          294928890.2180727,
          299268380.12656534,
          313967210.30196553,
          341484186.91041315,
          362325202.96264154,
          372201219.4523941,
          393724997.59528637,
          422836562.87517154,
          450619905.64216214,
          468269007.9493189,
          498322409.15160537,
          515828242.13782835,
          544493763.1008843,
          560185585.3217915,
          590949995.0048071,
          647791733.21489,
          694160031.0042564,
          668382907.1473789,
          704424743.0100663,
          720301469.7550789,
          733926056.2297667,
          740033409.8602222,
          781908670.5561048,
          872945565.0017984,
          919730687.3123314,
          971166156.4914192,
          1031716086.2477586,
          1054420487.4141854,
          1063804171.8344172,
          1076766146.0905197,
          1120336234.7930672,
          1224956732.8000138,
          1249884627.8820782,
          1342121775.5978193,
          1413962007.7469308,
          1438770302.5907364,
          1427711143.7319784,
          1460940378.3145258,
          1536476679.8614821,
          1593328344.493543,
          1665051107.3814628,
          1753329505.5534608,
          1902529342.3307598,
          2022611389.4041312,
          2103553585.9792576,
          2162311065.814341,
          2329051727.93561,
          2389614678.0019803,
          2522833936.6687264,
          2654001281.023829,
          2958711153.583894,
          2942560493.6750884,
          3023616351.7705774,
          3154683693.3825817,
          3227290076.2098575,
          3360162421.979918,
          3606721060.0884833,
          3389373009.008761,
          3291464734.187292,
          3465400924.4009533,
          3632506398.327041,
          3628896357.122881,
          3228931350.744296,
          3530799182.354329,
          3247831699.8861237,
          3297794898.9754443,
          3658301240.532919,
          3761304158.8092747,
          3815841161.2907333,
          3768449090.312957,
          4025331073.183195,
          4072861183.698416,
          4318366937.548307,
          4101912076.889461,
          3694257113.6060038,
          3305765765.51756,
          3345911337.443562,
          3587700315.552188,
          3793897862.7174,
          4146497905.037037,
          4471103030.977851,
          4336720381.096407,
          4495740199.971402,
          4865858537.713411,
          5048887448.957961,
          5074196731.532261,
          5142430269.357842,
          5220788782.467791,
          4516039563.533788,
          4662121704.008238,
          5095539774.54794,
          5427541411.717313,
          5381042310.921541,
          5976435837.596228,
          6438107082.637789,
          6623499797.949763,
          6811419621.872169,
          6967038765.26056,
          7530284800.410879,
          8063844815.853709,
          8407971289.40822,
          8675011369.422932,
          9090720309.832954,
          9621114747.424295,
          9768871918.323114,
          10063714381.551119,
          10552325368.278324,
          11121396692.648203,
          11654321074.638866,
          12225743293.098465,
          12664619065.47423,
          13305981688.48838,
          14156771906.947454,
          15288533843.143217,
          16058187278.423767,
          16826546490.346775,
          17704316229.009373,
          17836469906.32271,
          17859704361.838726,
          18605815479.63189,
          19186763529.478657,
          19774264656.577866,
          20336776982.65461,
          20343069280.427322,
          19914763275.823162,
          19643520705.87157,
          19642356181.097984,
          20153021380.821953,
          20798181005.25714,
          21183837817.840393,
          21782951008.941753,
          22591864544.625347,
          23021012821.068577,
          23379316151.617603,
          23838769511.967182,
          23371227982.47077,
          23412676911.689125,
          23525689016.632786,
          23926503974.31903,
          24574505227.183872,
          24833876453.118732,
          24794734862.05337,
          25012519730.11764,
          25624736672.84812,
          25934228554.949806,
          26466181243.781487,
          27655022691.42095,
          28963317017.14452,
          30069856322.493073,
          31123950714.04994,
          32104374635.850445,
          32789994305.636185,
          32544396522.34141,
          33857414778.0286,
          35079110777.5666,
          35767991445.73942,
          36153067324.39599,
          36411940787.87762,
          36402063580.7007,
          36320368343.1165,
          36645619165.18111,
          37278041508.37132,
          37449464638.74921,
          35900819306.006905,
          36370292576.85085,
          36843963294.56085,
          37321843852.47776,
          37803946412.15471,
          38290282901.67291,
          38780865013.99442,
          39275704205.351456,
          39774811693.67242,
          40278198457.04598
         ]
        },
        {
         "line": {
          "color": "rgba(0,0,0,0)"
         },
         "mode": "lines",
         "showlegend": false,
         "type": "scatter",
         "x": [
          1750,
          1751,
          1752,
          1753,
          1754,
          1755,
          1756,
          1757,
          1758,
          1759,
          1760,
          1761,
          1762,
          1763,
          1764,
          1765,
          1766,
          1767,
          1768,
          1769,
          1770,
          1771,
          1772,
          1773,
          1774,
          1775,
          1776,
          1777,
          1778,
          1779,
          1780,
          1781,
          1782,
          1783,
          1784,
          1785,
          1786,
          1787,
          1788,
          1789,
          1790,
          1791,
          1792,
          1793,
          1794,
          1795,
          1796,
          1797,
          1798,
          1799,
          1800,
          1801,
          1802,
          1803,
          1804,
          1805,
          1806,
          1807,
          1808,
          1809,
          1810,
          1811,
          1812,
          1813,
          1814,
          1815,
          1816,
          1817,
          1818,
          1819,
          1820,
          1821,
          1822,
          1823,
          1824,
          1825,
          1826,
          1827,
          1828,
          1829,
          1830,
          1831,
          1832,
          1833,
          1834,
          1835,
          1836,
          1837,
          1838,
          1839,
          1840,
          1841,
          1842,
          1843,
          1844,
          1845,
          1846,
          1847,
          1848,
          1849,
          1850,
          1851,
          1852,
          1853,
          1854,
          1855,
          1856,
          1857,
          1858,
          1859,
          1860,
          1861,
          1862,
          1863,
          1864,
          1865,
          1866,
          1867,
          1868,
          1869,
          1870,
          1871,
          1872,
          1873,
          1874,
          1875,
          1876,
          1877,
          1878,
          1879,
          1880,
          1881,
          1882,
          1883,
          1884,
          1885,
          1886,
          1887,
          1888,
          1889,
          1890,
          1891,
          1892,
          1893,
          1894,
          1895,
          1896,
          1897,
          1898,
          1899,
          1900,
          1901,
          1902,
          1903,
          1904,
          1905,
          1906,
          1907,
          1908,
          1909,
          1910,
          1911,
          1912,
          1913,
          1914,
          1915,
          1916,
          1917,
          1918,
          1919,
          1920,
          1921,
          1922,
          1923,
          1924,
          1925,
          1926,
          1927,
          1928,
          1929,
          1930,
          1931,
          1932,
          1933,
          1934,
          1935,
          1936,
          1937,
          1938,
          1939,
          1940,
          1941,
          1942,
          1943,
          1944,
          1945,
          1946,
          1947,
          1948,
          1949,
          1950,
          1951,
          1952,
          1953,
          1954,
          1955,
          1956,
          1957,
          1958,
          1959,
          1960,
          1961,
          1962,
          1963,
          1964,
          1965,
          1966,
          1967,
          1968,
          1969,
          1970,
          1971,
          1972,
          1973,
          1974,
          1975,
          1976,
          1977,
          1978,
          1979,
          1980,
          1981,
          1982,
          1983,
          1984,
          1985,
          1986,
          1987,
          1988,
          1989,
          1990,
          1991,
          1992,
          1993,
          1994,
          1995,
          1996,
          1997,
          1998,
          1999,
          2000,
          2001,
          2002,
          2003,
          2004,
          2005,
          2006,
          2007,
          2008,
          2009,
          2010,
          2011,
          2012,
          2013,
          2014,
          2015,
          2016,
          2017,
          2018,
          2019,
          2020,
          2021,
          2022,
          2023,
          2024,
          2025,
          2026,
          2027,
          2028,
          2029,
          2030
         ],
         "y": [
          10450424.88959936,
          10450128.296759235,
          10427791.527521254,
          10402568.643616285,
          10387542.11345794,
          10378611.16238913,
          10998402.306165341,
          11146740.033138864,
          11173890.140866954,
          11172470.208530178,
          11162256.234199598,
          12031144.194728492,
          12252674.662714751,
          12299217.849074818,
          12301704.722282125,
          12294249.196974935,
          13428415.543367334,
          13723839.31291032,
          13787914.614980482,
          13792545.285599146,
          13783080.86598588,
          14966458.68234108,
          15273056.030387536,
          15338255.027544318,
          15341240.461434063,
          15329351.70035865,
          16572568.51496955,
          16893073.190757986,
          16960097.444451176,
          16961727.882585358,
          16950976.2961005,
          18525367.9501845,
          18935657.669417996,
          19026288.66396823,
          19030678.227851104,
          19020710.09410235,
          21030443.124153152,
          21562061.678783026,
          21676156.640612256,
          21684830.258001123,
          21667792.10029647,
          23641149.850082282,
          24576284.61337262,
          24805800.06659746,
          24801868.761697914,
          24779154.819582354,
          25696457.26824851,
          26933981.47949586,
          28127705.244164385,
          29606194.027822863,
          31454965.983299244,
          31780149.462601498,
          39618173.891802914,
          36958813.180223085,
          38806457.34081889,
          38407856.65839615,
          39719075.382913955,
          41654364.670044355,
          40432141.3202615,
          40079836.296697825,
          41999730.488757625,
          44432523.73045956,
          46300678.004695736,
          46909878.18562797,
          47817174.84657568,
          49210487.70099027,
          53263234.810242325,
          55868999.52415767,
          56652267.880142145,
          57031984.79986646,
          57707141.57056881,
          58467500.05380619,
          60412854.38133415,
          63618681.676771834,
          66156909.17787791,
          68740103.20049544,
          69906195.06645589,
          74163506.54939203,
          75826853.51200017,
          75905449.51207453,
          95916703.9787859,
          97446743.4473442,
          98158064.89670856,
          99687492.6769622,
          101415517.64154741,
          103454850.24001186,
          116732967.03428039,
          120083803.74200234,
          123773486.71891768,
          127744705.74778724,
          135201897.85916826,
          140274858.48074213,
          147606137.19744575,
          152297124.52378035,
          161037010.97785974,
          175585045.5617174,
          181490256.81813568,
          195996387.4314885,
          200725791.39463747,
          210396769.61511254,
          224738185.87933514,
          229776259.03790876,
          238588016.16074222,
          249220086.23739353,
          285947665.14818746,
          300109294.3605504,
          318873417.8889766,
          325402770.5307685,
          330190643.42402667,
          346408247.80689967,
          376768448.9333423,
          399762887.89473695,
          410659355.59987366,
          434407103.8615241,
          466526656.4409868,
          497180746.3278741,
          516653463.2390025,
          549812168.0639715,
          569126812.1802324,
          600754232.3803667,
          618067430.8994536,
          652010610.0067794,
          714725588.7993596,
          765884946.4136612,
          737444370.4051849,
          777210272.0639265,
          794727480.5882152,
          809759843.755219,
          816498247.0038526,
          862700319.0933756,
          963143709.5365493,
          1014762960.5641837,
          1071513061.1123176,
          1138319384.7776175,
          1163369745.3487182,
          1173723010.1844285,
          1188024295.9328864,
          1236096316.159854,
          1351526852.248051,
          1379030451.9028907,
          1480798113.2207265,
          1560061323.2765787,
          1587432964.8555012,
          1575231105.1810596,
          1611893790.1685584,
          1695234970.413236,
          1757960901.2872164,
          1837094504.429973,
          1934494373.672848,
          2099110462.0261226,
          2231600130.2298336,
          2320905776.0718436,
          2385734442.784028,
          2569703783.2385254,
          2636524472.5529623,
          2783508770.449859,
          2928229137.5348,
          3264423522.105968,
          3246604075.946117,
          3336035127.5210185,
          3480645158.959829,
          3560753683.128972,
          3707355222.9392304,
          3979389827.2111173,
          3739584028.80829,
          3631559264.3939376,
          3823467619.4867263,
          4007839466.3620853,
          4003856413.3329453,
          3562564544.3176236,
          3895623230.6585555,
          3583417794.639089,
          3638543501.029616,
          4036299591.489164,
          4149945409.486503,
          4210117512.974867,
          4157828599.5830436,
          4441253220.560682,
          4493694436.59025,
          4764567366.078201,
          4525747048.064731,
          4075970648.1502566,
          3647337966.890243,
          3691631628.049053,
          3958403741.4970593,
          4185906896.832559,
          4574939760.229694,
          4933085099.031628,
          4784817201.131375,
          4960267932.977155,
          5368629190.62282,
          5570569783.021784,
          5598494177.487628,
          5673778027.215415,
          5760233027.408156,
          4982664752.5573845,
          5143841004.908596,
          5622042515.94889,
          5988348619.348199,
          5937044943.350416,
          6593958218.251268,
          7103332196.839234,
          7307880836.187968,
          7515217700.666692,
          7686916378.164053,
          8308360483.530823,
          8897051225.699755,
          9276734978.704834,
          9571367294.363344,
          10030029858.223433,
          10615227935.42338,
          10778252292.720873,
          11103559706.089458,
          11642657007.392302,
          12270528306.954208,
          12858517738.08432,
          13488982840.679403,
          13973205977.125305,
          14680838160.223307,
          15619537295.538116,
          16868239887.36308,
          17717418684.33896,
          18565169530.78101,
          19533635877.491505,
          19679444491.567226,
          19705079674.98753,
          20528283616.36535,
          21169258818.268448,
          21817464201.968483,
          22438098786.894146,
          22445041243.859726,
          21972480009.081722,
          21673210976.187485,
          21671926125.498913,
          22235356417.732944,
          22947177931.964973,
          23372683195.948654,
          24033700474.051735,
          24926195968.25935,
          25399686503.621532,
          25795011954.325417,
          26301938882.63304,
          25786088065.428146,
          25831819754.830338,
          25956508970.67823,
          26398738613.236607,
          27113695370.554337,
          27399866438.613346,
          27356680495.838352,
          27596968245.863083,
          28272443236.404266,
          28613913737.37216,
          29200831073.985504,
          30512510986.040405,
          31955986387.67146,
          33176860190.151005,
          34339870145.39794,
          35421597541.492065,
          36178059683.650154,
          35907085215.66486,
          37355772652.97278,
          38703701852.79472,
          39463761939.898346,
          39888626244.26258,
          40174248117.967575,
          40163350336.5461,
          40073213840.83212,
          40432071593.08208,
          41129839731.250885,
          41318975361.59478,
          39610314397.68827,
          41250172481.01697,
          42839811422.95485,
          44424329867.2956,
          46026417339.707245,
          47659847345.88504,
          49334114905.955086,
          51056417008.23388,
          52832625028.718185,
          54667812018.47294,
          56566561038.94417
         ]
        },
        {
         "fill": "tonexty",
         "fillcolor": "rgba(0,100,80,0.2)",
         "line": {
          "color": "rgba(0,0,0,0)"
         },
         "mode": "lines",
         "name": "95% confidence interval",
         "type": "scatter",
         "x": [
          1750,
          1751,
          1752,
          1753,
          1754,
          1755,
          1756,
          1757,
          1758,
          1759,
          1760,
          1761,
          1762,
          1763,
          1764,
          1765,
          1766,
          1767,
          1768,
          1769,
          1770,
          1771,
          1772,
          1773,
          1774,
          1775,
          1776,
          1777,
          1778,
          1779,
          1780,
          1781,
          1782,
          1783,
          1784,
          1785,
          1786,
          1787,
          1788,
          1789,
          1790,
          1791,
          1792,
          1793,
          1794,
          1795,
          1796,
          1797,
          1798,
          1799,
          1800,
          1801,
          1802,
          1803,
          1804,
          1805,
          1806,
          1807,
          1808,
          1809,
          1810,
          1811,
          1812,
          1813,
          1814,
          1815,
          1816,
          1817,
          1818,
          1819,
          1820,
          1821,
          1822,
          1823,
          1824,
          1825,
          1826,
          1827,
          1828,
          1829,
          1830,
          1831,
          1832,
          1833,
          1834,
          1835,
          1836,
          1837,
          1838,
          1839,
          1840,
          1841,
          1842,
          1843,
          1844,
          1845,
          1846,
          1847,
          1848,
          1849,
          1850,
          1851,
          1852,
          1853,
          1854,
          1855,
          1856,
          1857,
          1858,
          1859,
          1860,
          1861,
          1862,
          1863,
          1864,
          1865,
          1866,
          1867,
          1868,
          1869,
          1870,
          1871,
          1872,
          1873,
          1874,
          1875,
          1876,
          1877,
          1878,
          1879,
          1880,
          1881,
          1882,
          1883,
          1884,
          1885,
          1886,
          1887,
          1888,
          1889,
          1890,
          1891,
          1892,
          1893,
          1894,
          1895,
          1896,
          1897,
          1898,
          1899,
          1900,
          1901,
          1902,
          1903,
          1904,
          1905,
          1906,
          1907,
          1908,
          1909,
          1910,
          1911,
          1912,
          1913,
          1914,
          1915,
          1916,
          1917,
          1918,
          1919,
          1920,
          1921,
          1922,
          1923,
          1924,
          1925,
          1926,
          1927,
          1928,
          1929,
          1930,
          1931,
          1932,
          1933,
          1934,
          1935,
          1936,
          1937,
          1938,
          1939,
          1940,
          1941,
          1942,
          1943,
          1944,
          1945,
          1946,
          1947,
          1948,
          1949,
          1950,
          1951,
          1952,
          1953,
          1954,
          1955,
          1956,
          1957,
          1958,
          1959,
          1960,
          1961,
          1962,
          1963,
          1964,
          1965,
          1966,
          1967,
          1968,
          1969,
          1970,
          1971,
          1972,
          1973,
          1974,
          1975,
          1976,
          1977,
          1978,
          1979,
          1980,
          1981,
          1982,
          1983,
          1984,
          1985,
          1986,
          1987,
          1988,
          1989,
          1990,
          1991,
          1992,
          1993,
          1994,
          1995,
          1996,
          1997,
          1998,
          1999,
          2000,
          2001,
          2002,
          2003,
          2004,
          2005,
          2006,
          2007,
          2008,
          2009,
          2010,
          2011,
          2012,
          2013,
          2014,
          2015,
          2016,
          2017,
          2018,
          2019,
          2020,
          2021,
          2022,
          2023,
          2024,
          2025,
          2026,
          2027,
          2028,
          2029,
          2030
         ],
         "y": [
          8366394.190343209,
          8366631.807272039,
          8391242.728237165,
          8412846.926346716,
          8431240.482713947,
          8445658.701772569,
          8966717.778026631,
          9100346.232067224,
          9132313.540114917,
          9138870.253676109,
          9136694.575413968,
          9853323.548767429,
          10039287.742884463,
          10081201.61125894,
          10086402.333985148,
          10082951.400325412,
          11015584.24286057,
          11260067.705197923,
          11314478.273145575,
          11319854.798276233,
          11313441.731071955,
          12286050.914582875,
          12538856.077178491,
          12593354.482909001,
          12596647.880980564,
          12587616.601981394,
          13609163.98959717,
          13872966.7739075,
          13928540.836183915,
          13930343.770565879,
          13921918.061112858,
          15215359.129247962,
          15552684.778689062,
          15627426.096220449,
          15631295.587750165,
          15623338.770225545,
          17274327.792395737,
          17711197.384972386,
          17805091.611803643,
          17812370.31368568,
          17798509.567878444,
          19419607.620171495,
          20187874.803313337,
          20376510.872628547,
          20373372.190524295,
          20354793.259358313,
          21108381.797784705,
          22125013.512956776,
          23105662.603085328,
          24320231.383258704,
          25838970.993116036,
          26106141.931318767,
          32544820.720284432,
          30360298.245855644,
          31878107.36262647,
          31550704.007875387,
          32627853.77386512,
          34217654.6089543,
          33213662.580681615,
          32924275.845892582,
          34501424.69526843,
          36499903.07672688,
          38034547.97987381,
          38535000.64223773,
          39280328.954252616,
          40424903.54118994,
          43754121.39175904,
          45894687.32794391,
          46538127.191690035,
          46850060.83512181,
          47404688.61704627,
          48029306.37233353,
          49627362.35696939,
          52260859.135444745,
          54345942.30079059,
          56467963.897876784,
          57425877.64289144,
          60923136.94036569,
          62289530.60039054,
          62354097.62859276,
          78792758.51241195,
          80049643.73774138,
          80633975.83282188,
          81890358.07751364,
          83309881.9010766,
          84985135.67442107,
          95892722.18977891,
          98645338.15437526,
          101676306.33113201,
          104938548.06738365,
          111064413.77936779,
          115231702.89647621,
          121254134.428998,
          125107643.63038874,
          132287205.31473488,
          144237991.20075232,
          149088949.92856982,
          161005312.92561278,
          164890380.27311477,
          172834806.67346698,
          184615861.63921103,
          188754491.72351202,
          195993093.06498945,
          204727028.37967303,
          234897662.7113877,
          246531027.86037552,
          261945207.7851211,
          267308880.44802088,
          271241978.31543213,
          284564267.0718051,
          309504286.3594367,
          328393546.9679894,
          337344677.21911526,
          356852759.435591,
          383238034.60243434,
          408419474.9308351,
          424415743.6420838,
          451654652.05522144,
          467521068.5781917,
          493502071.35627836,
          507724358.7251373,
          535607689.86957204,
          587126214.8686725,
          629152134.2731475,
          605789031.0035524,
          638455558.8117391,
          652845434.4466774,
          665194082.1306095,
          670729483.7667465,
          708683137.7706279,
          791194451.9919966,
          833598160.4154245,
          880216711.9971784,
          935096157.4201264,
          955674297.6374269,
          964179202.582463,
          975927291.5005506,
          1015417053.3325884,
          1110239870.36307,
          1132833274.899958,
          1216432439.0014567,
          1281544853.0911908,
          1304029857.919367,
          1294006386.2579591,
          1324123712.1253493,
          1392586059.726397,
          1444113581.5407767,
          1509119527.333448,
          1589130677.701434,
          1724357990.6394029,
          1833194386.9020925,
          1906556368.9429243,
          1959811226.8886814,
          2110936671.682651,
          2165827918.067163,
          2286571229.656585,
          2405454788.1475058,
          2681628664.620794,
          2666990509.587805,
          2740455508.778756,
          2859248429.756073,
          2925055244.722856,
          3045484131.713327,
          3268952620.9103565,
          3071959155.269466,
          2983219963.5620265,
          3140867077.213826,
          3292323169.287038,
          3289051207.4526386,
          2926542814.346789,
          3200140806.226409,
          2943673150.969434,
          2988957310.1519833,
          3315702331.587104,
          3409059054.785611,
          3458488681.9256663,
          3415534865.411402,
          3648359920.9613633,
          3691438849.6482077,
          3913953056.9089394,
          3717769134.650709,
          3348290946.9973836,
          2996181707.226133,
          3032567657.339566,
          3251713163.8889523,
          3438600367.2521286,
          3758179512.2070208,
          4052385457.0324645,
          3930587705.496878,
          4074715361.8993816,
          4410172218.709662,
          4576060522.558854,
          4598999597.753815,
          4660843083.455326,
          4731863343.279666,
          4093113695.625374,
          4225515283.66513,
          4618343870.638227,
          4919253645.442028,
          4877109172.696862,
          5416744258.712782,
          5835180118.135893,
          6003210856.449185,
          6173532040.343869,
          6314577493.587438,
          6825075691.853104,
          7308667958.02409,
          7620567081.607286,
          7862598931.287058,
          8239376843.315517,
          8720099987.133562,
          8854019739.457338,
          9121250286.779232,
          9564102988.459553,
          10079880939.205267,
          10562897098.822742,
          11080805783.070724,
          11478580959.598131,
          12059880148.675041,
          12830994096.25835,
          13856766837.187462,
          14554342439.10864,
          15250745021.335144,
          16046311864.446241,
          16166089386.08407,
          16187147941.206337,
          16863385957.223156,
          17389928381.3586,
          17922410188.857082,
          18432243389.702904,
          18437946415.513046,
          18049751150.90113,
          17803910373.31575,
          17802854905.968178,
          18265696449.640095,
          18850437051.995193,
          19199977209.73476,
          19742983614.622837,
          20476142619.300034,
          20865101277.224037,
          21189849599.028114,
          21606275278.053032,
          21182518884.706043,
          21220086133.058468,
          21322514685.335007,
          21685793432.04141,
          22273109545.102215,
          22508190726.785748,
          22472714735.000412,
          22670104109.834915,
          23224987103.601955,
          23505495155.73337,
          23987630620.989998,
          25065137392.753643,
          26250910313.294186,
          27253822515.844925,
          28209201256.412735,
          29097808746.534065,
          29719220322.077087,
          29496622703.903778,
          30686677159.661015,
          31793961663.538746,
          32418328845.86328,
          32767342473.97925,
          33001972508.526936,
          32993020299.096172,
          32918975798.130463,
          33213766969.814598,
          33786963133.823807,
          33942332535.004967,
          32538717413.406307,
          32067700631.663403,
          31687292407.724518,
          31354891175.841354,
          31050393381.37099,
          30762703750.38732,
          30485101315.806023,
          30213262724.20349,
          29944293784.51581,
          29676206364.304,
          29407614461.715614
         ]
        }
       ],
       "layout": {
        "legend": {
         "tracegroupgap": 0
        },
        "template": {
         "data": {
          "bar": [
           {
            "error_x": {
             "color": "#2a3f5f"
            },
            "error_y": {
             "color": "#2a3f5f"
            },
            "marker": {
             "line": {
              "color": "#E5ECF6",
              "width": 0.5
             },
             "pattern": {
              "fillmode": "overlay",
              "size": 10,
              "solidity": 0.2
             }
            },
            "type": "bar"
           }
          ],
          "barpolar": [
           {
            "marker": {
             "line": {
              "color": "#E5ECF6",
              "width": 0.5
             },
             "pattern": {
              "fillmode": "overlay",
              "size": 10,
              "solidity": 0.2
             }
            },
            "type": "barpolar"
           }
          ],
          "carpet": [
           {
            "aaxis": {
             "endlinecolor": "#2a3f5f",
             "gridcolor": "white",
             "linecolor": "white",
             "minorgridcolor": "white",
             "startlinecolor": "#2a3f5f"
            },
            "baxis": {
             "endlinecolor": "#2a3f5f",
             "gridcolor": "white",
             "linecolor": "white",
             "minorgridcolor": "white",
             "startlinecolor": "#2a3f5f"
            },
            "type": "carpet"
           }
          ],
          "choropleth": [
           {
            "colorbar": {
             "outlinewidth": 0,
             "ticks": ""
            },
            "type": "choropleth"
           }
          ],
          "contour": [
           {
            "colorbar": {
             "outlinewidth": 0,
             "ticks": ""
            },
            "colorscale": [
             [
              0,
              "#0d0887"
             ],
             [
              0.1111111111111111,
              "#46039f"
             ],
             [
              0.2222222222222222,
              "#7201a8"
             ],
             [
              0.3333333333333333,
              "#9c179e"
             ],
             [
              0.4444444444444444,
              "#bd3786"
             ],
             [
              0.5555555555555556,
              "#d8576b"
             ],
             [
              0.6666666666666666,
              "#ed7953"
             ],
             [
              0.7777777777777778,
              "#fb9f3a"
             ],
             [
              0.8888888888888888,
              "#fdca26"
             ],
             [
              1,
              "#f0f921"
             ]
            ],
            "type": "contour"
           }
          ],
          "contourcarpet": [
           {
            "colorbar": {
             "outlinewidth": 0,
             "ticks": ""
            },
            "type": "contourcarpet"
           }
          ],
          "heatmap": [
           {
            "colorbar": {
             "outlinewidth": 0,
             "ticks": ""
            },
            "colorscale": [
             [
              0,
              "#0d0887"
             ],
             [
              0.1111111111111111,
              "#46039f"
             ],
             [
              0.2222222222222222,
              "#7201a8"
             ],
             [
              0.3333333333333333,
              "#9c179e"
             ],
             [
              0.4444444444444444,
              "#bd3786"
             ],
             [
              0.5555555555555556,
              "#d8576b"
             ],
             [
              0.6666666666666666,
              "#ed7953"
             ],
             [
              0.7777777777777778,
              "#fb9f3a"
             ],
             [
              0.8888888888888888,
              "#fdca26"
             ],
             [
              1,
              "#f0f921"
             ]
            ],
            "type": "heatmap"
           }
          ],
          "heatmapgl": [
           {
            "colorbar": {
             "outlinewidth": 0,
             "ticks": ""
            },
            "colorscale": [
             [
              0,
              "#0d0887"
             ],
             [
              0.1111111111111111,
              "#46039f"
             ],
             [
              0.2222222222222222,
              "#7201a8"
             ],
             [
              0.3333333333333333,
              "#9c179e"
             ],
             [
              0.4444444444444444,
              "#bd3786"
             ],
             [
              0.5555555555555556,
              "#d8576b"
             ],
             [
              0.6666666666666666,
              "#ed7953"
             ],
             [
              0.7777777777777778,
              "#fb9f3a"
             ],
             [
              0.8888888888888888,
              "#fdca26"
             ],
             [
              1,
              "#f0f921"
             ]
            ],
            "type": "heatmapgl"
           }
          ],
          "histogram": [
           {
            "marker": {
             "pattern": {
              "fillmode": "overlay",
              "size": 10,
              "solidity": 0.2
             }
            },
            "type": "histogram"
           }
          ],
          "histogram2d": [
           {
            "colorbar": {
             "outlinewidth": 0,
             "ticks": ""
            },
            "colorscale": [
             [
              0,
              "#0d0887"
             ],
             [
              0.1111111111111111,
              "#46039f"
             ],
             [
              0.2222222222222222,
              "#7201a8"
             ],
             [
              0.3333333333333333,
              "#9c179e"
             ],
             [
              0.4444444444444444,
              "#bd3786"
             ],
             [
              0.5555555555555556,
              "#d8576b"
             ],
             [
              0.6666666666666666,
              "#ed7953"
             ],
             [
              0.7777777777777778,
              "#fb9f3a"
             ],
             [
              0.8888888888888888,
              "#fdca26"
             ],
             [
              1,
              "#f0f921"
             ]
            ],
            "type": "histogram2d"
           }
          ],
          "histogram2dcontour": [
           {
            "colorbar": {
             "outlinewidth": 0,
             "ticks": ""
            },
            "colorscale": [
             [
              0,
              "#0d0887"
             ],
             [
              0.1111111111111111,
              "#46039f"
             ],
             [
              0.2222222222222222,
              "#7201a8"
             ],
             [
              0.3333333333333333,
              "#9c179e"
             ],
             [
              0.4444444444444444,
              "#bd3786"
             ],
             [
              0.5555555555555556,
              "#d8576b"
             ],
             [
              0.6666666666666666,
              "#ed7953"
             ],
             [
              0.7777777777777778,
              "#fb9f3a"
             ],
             [
              0.8888888888888888,
              "#fdca26"
             ],
             [
              1,
              "#f0f921"
             ]
            ],
            "type": "histogram2dcontour"
           }
          ],
          "mesh3d": [
           {
            "colorbar": {
             "outlinewidth": 0,
             "ticks": ""
            },
            "type": "mesh3d"
           }
          ],
          "parcoords": [
           {
            "line": {
             "colorbar": {
              "outlinewidth": 0,
              "ticks": ""
             }
            },
            "type": "parcoords"
           }
          ],
          "pie": [
           {
            "automargin": true,
            "type": "pie"
           }
          ],
          "scatter": [
           {
            "fillpattern": {
             "fillmode": "overlay",
             "size": 10,
             "solidity": 0.2
            },
            "type": "scatter"
           }
          ],
          "scatter3d": [
           {
            "line": {
             "colorbar": {
              "outlinewidth": 0,
              "ticks": ""
             }
            },
            "marker": {
             "colorbar": {
              "outlinewidth": 0,
              "ticks": ""
             }
            },
            "type": "scatter3d"
           }
          ],
          "scattercarpet": [
           {
            "marker": {
             "colorbar": {
              "outlinewidth": 0,
              "ticks": ""
             }
            },
            "type": "scattercarpet"
           }
          ],
          "scattergeo": [
           {
            "marker": {
             "colorbar": {
              "outlinewidth": 0,
              "ticks": ""
             }
            },
            "type": "scattergeo"
           }
          ],
          "scattergl": [
           {
            "marker": {
             "colorbar": {
              "outlinewidth": 0,
              "ticks": ""
             }
            },
            "type": "scattergl"
           }
          ],
          "scattermapbox": [
           {
            "marker": {
             "colorbar": {
              "outlinewidth": 0,
              "ticks": ""
             }
            },
            "type": "scattermapbox"
           }
          ],
          "scatterpolar": [
           {
            "marker": {
             "colorbar": {
              "outlinewidth": 0,
              "ticks": ""
             }
            },
            "type": "scatterpolar"
           }
          ],
          "scatterpolargl": [
           {
            "marker": {
             "colorbar": {
              "outlinewidth": 0,
              "ticks": ""
             }
            },
            "type": "scatterpolargl"
           }
          ],
          "scatterternary": [
           {
            "marker": {
             "colorbar": {
              "outlinewidth": 0,
              "ticks": ""
             }
            },
            "type": "scatterternary"
           }
          ],
          "surface": [
           {
            "colorbar": {
             "outlinewidth": 0,
             "ticks": ""
            },
            "colorscale": [
             [
              0,
              "#0d0887"
             ],
             [
              0.1111111111111111,
              "#46039f"
             ],
             [
              0.2222222222222222,
              "#7201a8"
             ],
             [
              0.3333333333333333,
              "#9c179e"
             ],
             [
              0.4444444444444444,
              "#bd3786"
             ],
             [
              0.5555555555555556,
              "#d8576b"
             ],
             [
              0.6666666666666666,
              "#ed7953"
             ],
             [
              0.7777777777777778,
              "#fb9f3a"
             ],
             [
              0.8888888888888888,
              "#fdca26"
             ],
             [
              1,
              "#f0f921"
             ]
            ],
            "type": "surface"
           }
          ],
          "table": [
           {
            "cells": {
             "fill": {
              "color": "#EBF0F8"
             },
             "line": {
              "color": "white"
             }
            },
            "header": {
             "fill": {
              "color": "#C8D4E3"
             },
             "line": {
              "color": "white"
             }
            },
            "type": "table"
           }
          ]
         },
         "layout": {
          "annotationdefaults": {
           "arrowcolor": "#2a3f5f",
           "arrowhead": 0,
           "arrowwidth": 1
          },
          "autotypenumbers": "strict",
          "coloraxis": {
           "colorbar": {
            "outlinewidth": 0,
            "ticks": ""
           }
          },
          "colorscale": {
           "diverging": [
            [
             0,
             "#8e0152"
            ],
            [
             0.1,
             "#c51b7d"
            ],
            [
             0.2,
             "#de77ae"
            ],
            [
             0.3,
             "#f1b6da"
            ],
            [
             0.4,
             "#fde0ef"
            ],
            [
             0.5,
             "#f7f7f7"
            ],
            [
             0.6,
             "#e6f5d0"
            ],
            [
             0.7,
             "#b8e186"
            ],
            [
             0.8,
             "#7fbc41"
            ],
            [
             0.9,
             "#4d9221"
            ],
            [
             1,
             "#276419"
            ]
           ],
           "sequential": [
            [
             0,
             "#0d0887"
            ],
            [
             0.1111111111111111,
             "#46039f"
            ],
            [
             0.2222222222222222,
             "#7201a8"
            ],
            [
             0.3333333333333333,
             "#9c179e"
            ],
            [
             0.4444444444444444,
             "#bd3786"
            ],
            [
             0.5555555555555556,
             "#d8576b"
            ],
            [
             0.6666666666666666,
             "#ed7953"
            ],
            [
             0.7777777777777778,
             "#fb9f3a"
            ],
            [
             0.8888888888888888,
             "#fdca26"
            ],
            [
             1,
             "#f0f921"
            ]
           ],
           "sequentialminus": [
            [
             0,
             "#0d0887"
            ],
            [
             0.1111111111111111,
             "#46039f"
            ],
            [
             0.2222222222222222,
             "#7201a8"
            ],
            [
             0.3333333333333333,
             "#9c179e"
            ],
            [
             0.4444444444444444,
             "#bd3786"
            ],
            [
             0.5555555555555556,
             "#d8576b"
            ],
            [
             0.6666666666666666,
             "#ed7953"
            ],
            [
             0.7777777777777778,
             "#fb9f3a"
            ],
            [
             0.8888888888888888,
             "#fdca26"
            ],
            [
             1,
             "#f0f921"
            ]
           ]
          },
          "colorway": [
           "#636efa",
           "#EF553B",
           "#00cc96",
           "#ab63fa",
           "#FFA15A",
           "#19d3f3",
           "#FF6692",
           "#B6E880",
           "#FF97FF",
           "#FECB52"
          ],
          "font": {
           "color": "#2a3f5f"
          },
          "geo": {
           "bgcolor": "white",
           "lakecolor": "white",
           "landcolor": "#E5ECF6",
           "showlakes": true,
           "showland": true,
           "subunitcolor": "white"
          },
          "hoverlabel": {
           "align": "left"
          },
          "hovermode": "closest",
          "mapbox": {
           "style": "light"
          },
          "paper_bgcolor": "white",
          "plot_bgcolor": "#E5ECF6",
          "polar": {
           "angularaxis": {
            "gridcolor": "white",
            "linecolor": "white",
            "ticks": ""
           },
           "bgcolor": "#E5ECF6",
           "radialaxis": {
            "gridcolor": "white",
            "linecolor": "white",
            "ticks": ""
           }
          },
          "scene": {
           "xaxis": {
            "backgroundcolor": "#E5ECF6",
            "gridcolor": "white",
            "gridwidth": 2,
            "linecolor": "white",
            "showbackground": true,
            "ticks": "",
            "zerolinecolor": "white"
           },
           "yaxis": {
            "backgroundcolor": "#E5ECF6",
            "gridcolor": "white",
            "gridwidth": 2,
            "linecolor": "white",
            "showbackground": true,
            "ticks": "",
            "zerolinecolor": "white"
           },
           "zaxis": {
            "backgroundcolor": "#E5ECF6",
            "gridcolor": "white",
            "gridwidth": 2,
            "linecolor": "white",
            "showbackground": true,
            "ticks": "",
            "zerolinecolor": "white"
           }
          },
          "shapedefaults": {
           "line": {
            "color": "#2a3f5f"
           }
          },
          "ternary": {
           "aaxis": {
            "gridcolor": "white",
            "linecolor": "white",
            "ticks": ""
           },
           "baxis": {
            "gridcolor": "white",
            "linecolor": "white",
            "ticks": ""
           },
           "bgcolor": "#E5ECF6",
           "caxis": {
            "gridcolor": "white",
            "linecolor": "white",
            "ticks": ""
           }
          },
          "title": {
           "x": 0.05
          },
          "xaxis": {
           "automargin": true,
           "gridcolor": "white",
           "linecolor": "white",
           "ticks": "",
           "title": {
            "standoff": 15
           },
           "zerolinecolor": "white",
           "zerolinewidth": 2
          },
          "yaxis": {
           "automargin": true,
           "gridcolor": "white",
           "linecolor": "white",
           "ticks": "",
           "title": {
            "standoff": 15
           },
           "zerolinecolor": "white",
           "zerolinewidth": 2
          }
         }
        },
        "title": {
         "text": "ARIMA predictions of annual CO2 emissions"
        },
        "xaxis": {
         "anchor": "y",
         "domain": [
          0,
          1
         ],
         "range": [
          1920,
          2030
         ],
         "title": {
          "text": "Year"
         }
        },
        "yaxis": {
         "anchor": "x",
         "domain": [
          0,
          1
         ],
         "title": {
          "text": "Annual CO2 emissions"
         }
        }
       }
      }
     },
     "metadata": {},
     "output_type": "display_data"
    }
   ],
   "source": [
    "# Plot \n",
    "fig = px.line(df3, x='Year', y='Annual CO2 emissions', range_x = [1920,2030], title=\"ARIMA predictions of annual CO2 emissions\")\n",
    "fig.add_scatter(x=df3['Year'], y=df3['Annual CO2 emissions'], mode='lines', name = 'Original data')\n",
    "fig.add_scatter(x=df3['Year'], y=np.exp(df3['Predictions']), mode='lines', name = 'Predictions')\n",
    "fig.add_traces([go.Scatter(x = df3['Year'], y = np.exp(df3['CI_upper']),\n",
    "                           mode = 'lines', line_color = 'rgba(0,0,0,0)',\n",
    "                           showlegend = False),\n",
    "                go.Scatter(x = df3['Year'], y = np.exp(df3['CI_lower']),\n",
    "                           mode = 'lines', line_color = 'rgba(0,0,0,0)',\n",
    "                           name = '95% confidence interval',\n",
    "                           fill='tonexty', fillcolor = 'rgba(0,100,80,0.2)')])\n",
    "fig.show()"
   ]
  },
  {
   "cell_type": "markdown",
   "id": "8a00df27",
   "metadata": {},
   "source": [
    "### How about the global temperature?"
   ]
  },
  {
   "cell_type": "markdown",
   "id": "6e9d834a",
   "metadata": {},
   "source": [
    "Well, we have just seen that assuming status quo and that CO2 emissions can be modeled by an ARIMA, the CO2 emission will increase further. We have also seen that the average global temperature and cumulative CO2 emissions have an approximately linear relationship.\n",
    "\n",
    "Now, how would much will the global temperature have increased in 2030 if do nothing more than now about it?\n",
    "\n",
    "This is investigated by using the ARIMA predictions of the CO2-level into the temperature-co2 model as fitted in the 1st section.\n",
    "\n",
    "(Note: Making predictions which themselves are uncertain by nature based on unceratin input of the CO2 level, propogates a lot of uncertainty on these final predictions. This uncertainty has not yet been fully modelled, only the confidence intervals of the fit is illustrated below, i.e. the confidence intervals of the mean global temperature conditioned on the CO2 predictions from above)."
   ]
  },
  {
   "cell_type": "code",
   "execution_count": 5,
   "id": "31fccb3e",
   "metadata": {
    "tags": [
     "remove-input"
    ]
   },
   "outputs": [],
   "source": [
    "# Loading the data & pre-processing\n",
    "df = pd.read_csv('data/GlobalLandTemperaturesByCity.csv')\n",
    "df['dt'] = pd.DatetimeIndex(df['dt'])\n",
    "df['Year'] = pd.DatetimeIndex(df['dt']).year\n",
    "df = df[df['Year'] != 1743]\n",
    "df = df[df['Year'] != 2013]\n",
    "\n",
    "# For each country average all AverageTemperature values and add iso_alpha to countries\n",
    "df_avg = pd.DataFrame({'AverageTemperature': df.groupby('Country')['AverageTemperature'].mean(), 'Country': df.groupby('Country')['Country'].first()})\n",
    "df_avg = df_avg.reset_index(drop=True)\n",
    "#print('Average country temperature df: ', df_avg)\n",
    "\n",
    "df_avg_city = pd.DataFrame({'AverageTemperature': df.groupby('City')['AverageTemperature'].mean(), 'City': df.groupby('City')['City'].first()})\n",
    "df_avg_city = df_avg_city.reset_index(drop=True)\n",
    "#print('\\n \\n Average city temperature df: ', df_avg_city)\n",
    "\n",
    "# For each Country for each Year average all AverageTemperature values\n",
    "D1 = df.groupby(['Year', 'Country'])['AverageTemperature'].mean().reset_index()\n",
    "meantemp = D1.groupby('Year')['AverageTemperature'].mean().reset_index() # Rough - er ren average.\n",
    "#meantemp1900 = meantemp[156:] # 1900-2012\n",
    "#meantemp1900 = pd.read_csv('')\n",
    "meantemp1900 = pd.read_csv('data/meantemprelative1900df.csv')\n",
    "meantemp1900 = meantemp1900.drop(columns = {'Unnamed: 0'})\n",
    "meantemp1900\n",
    "\n",
    "df4 = pd.read_csv('data/annual-co-emissions-by-region.csv')\n",
    "df4 = df4.rename(columns={'Annual CO2 emissions (zero filled)': \"Annual CO2 emissions (tons)\"})\n",
    "df4 = df4.loc[df4['Entity'] == 'World']\n",
    "df4 = df4.sort_values('Year')\n",
    "meantemp1900co2 = pd.merge(meantemp1900, df4, left_on=\"Year\", right_on=\"Year\", how='inner')\n",
    "meantemp1900co2 = meantemp1900co2.rename(columns={'AverageTemperature': \"Average Temperature (C)\"})"
   ]
  },
  {
   "cell_type": "code",
   "execution_count": 6,
   "id": "85dff83b",
   "metadata": {
    "tags": [
     "remove-input"
    ]
   },
   "outputs": [],
   "source": [
    "y = 2020\n",
    "for i in range(10):\n",
    "    y = y + 1\n",
    "    df4 = df4.append({'Entity': 'World', 'Code': 'OWID_WRL','Year': y, 'Annual CO2 emissions (tons)': np.exp(np.array(df3[df3.Year == y]['Predictions'])[0])}, ignore_index=True)\n",
    "    \n",
    "df4['Annual CO2 emissions (tons)'] = np.cumsum(df4['Annual CO2 emissions (tons)'])\n",
    "df4 = df4.rename(columns={\"Annual CO2 emissions (tons)\": \"Cumulative CO2 emissions (tons)\"})"
   ]
  },
  {
   "cell_type": "code",
   "execution_count": 7,
   "id": "5f3f2e6a",
   "metadata": {
    "tags": [
     "remove-input"
    ]
   },
   "outputs": [],
   "source": [
    "# Predicting with the linear model\n",
    "co2_predict = np.zeros(18)\n",
    "c = 0\n",
    "for i in range(2013,2031):\n",
    "    co2_predict[c] = df4[df4.Year == i]['Cumulative CO2 emissions (tons)'].values[0]\n",
    "    c += 1"
   ]
  },
  {
   "cell_type": "code",
   "execution_count": 8,
   "id": "f67bc91e",
   "metadata": {
    "tags": [
     "remove-input"
    ]
   },
   "outputs": [],
   "source": [
    "def linear_fit(x):\n",
    "    return 9.40088e-13 * x + 15.1500"
   ]
  },
  {
   "cell_type": "code",
   "execution_count": 9,
   "id": "4e25dc5d",
   "metadata": {
    "tags": [
     "remove-input"
    ]
   },
   "outputs": [],
   "source": [
    "pred_temp = linear_fit(co2_predict)"
   ]
  },
  {
   "cell_type": "code",
   "execution_count": 10,
   "id": "8019d0bd",
   "metadata": {
    "tags": [
     "remove-input"
    ]
   },
   "outputs": [],
   "source": [
    "# Adding predicted values to dataframe\n",
    "index = 113\n",
    "year = 2014\n",
    "df_pred = pd.DataFrame({'Cumulative CO2 emissions (tons)': co2_predict[0], 'Average Temperature (C)': pred_temp[0], 'Entity': 'World', 'Code': 'OWID_WRL', 'Year': year-1}, index=[0])\n",
    "\n",
    "for i in range(1,18):\n",
    "    df_pred = df_pred.append({'Cumulative CO2 emissions (tons)': co2_predict[i], 'Average Temperature (C)': pred_temp[i], 'Entity': 'World', 'Code': 'OWID_WRL', 'Year': year}, ignore_index=True)\n",
    "    year += 1\n",
    "    index += 1\n"
   ]
  },
  {
   "cell_type": "code",
   "execution_count": 11,
   "id": "eb81f3c5",
   "metadata": {
    "tags": [
     "remove-input"
    ]
   },
   "outputs": [],
   "source": [
    "meantemp1900co2 = meantemp1900co2.rename(columns={\"Annual CO2 emissions (tons)\": \"Cumulative CO2 emissions (tons)\"})\n",
    "meantemp1900co2[\"Cumulative CO2 emissions (tons)\"] = np.cumsum(meantemp1900co2[\"Cumulative CO2 emissions (tons)\"])\n",
    "df_predictions = pd.concat([meantemp1900co2, df_pred], ignore_index=True)"
   ]
  },
  {
   "cell_type": "code",
   "execution_count": 12,
   "id": "9dcfeb44",
   "metadata": {
    "tags": [
     "remove-input"
    ]
   },
   "outputs": [],
   "source": [
    "df_predictions2 = df_predictions.copy()\n",
    "df_predictions2 = df_predictions2.rename(columns={\"Average Temperature (C)\": \"temp\", \"Cumulative CO2 emissions (tons)\": \"CO2\"})\n",
    "model = smf.ols('temp ~ CO2', df_predictions2)\n",
    "results = model.fit()\n",
    "alpha = .05\n",
    "predictions = results.get_prediction(df_predictions2).summary_frame(alpha)"
   ]
  },
  {
   "cell_type": "code",
   "execution_count": 13,
   "id": "0e2283b5",
   "metadata": {
    "tags": [
     "remove-input"
    ]
   },
   "outputs": [
    {
     "data": {
      "application/vnd.plotly.v1+json": {
       "config": {
        "plotlyServerURL": "https://plot.ly"
       },
       "data": [
        {
         "hovertemplate": "Cumulative CO2 emissions (tons)=%{x}<br>Average Temperature (C)=%{y}<br>Year=%{marker.color}<extra></extra>",
         "legendgroup": "",
         "marker": {
          "color": [
           1900,
           1901,
           1902,
           1903,
           1904,
           1905,
           1906,
           1907,
           1908,
           1909,
           1910,
           1911,
           1912,
           1913,
           1914,
           1915,
           1916,
           1917,
           1918,
           1919,
           1920,
           1921,
           1922,
           1923,
           1924,
           1925,
           1926,
           1927,
           1928,
           1929,
           1930,
           1931,
           1932,
           1933,
           1934,
           1935,
           1936,
           1937,
           1938,
           1939,
           1940,
           1941,
           1942,
           1943,
           1944,
           1945,
           1946,
           1947,
           1948,
           1949,
           1950,
           1951,
           1952,
           1953,
           1954,
           1955,
           1956,
           1957,
           1958,
           1959,
           1960,
           1961,
           1962,
           1963,
           1964,
           1965,
           1966,
           1967,
           1968,
           1969,
           1970,
           1971,
           1972,
           1973,
           1974,
           1975,
           1976,
           1977,
           1978,
           1979,
           1980,
           1981,
           1982,
           1983,
           1984,
           1985,
           1986,
           1987,
           1988,
           1989,
           1990,
           1991,
           1992,
           1993,
           1994,
           1995,
           1996,
           1997,
           1998,
           1999,
           2000,
           2001,
           2002,
           2003,
           2004,
           2005,
           2006,
           2007,
           2008,
           2009,
           2010,
           2011,
           2012,
           2013,
           2014,
           2015,
           2016,
           2017,
           2018,
           2019,
           2020,
           2021,
           2022,
           2023,
           2024,
           2025,
           2026,
           2027,
           2028,
           2029,
           2030
          ],
          "coloraxis": "coloraxis",
          "symbol": "circle"
         },
         "mode": "markers",
         "name": "",
         "orientation": "v",
         "showlegend": false,
         "type": "scatter",
         "x": [
          1952224654,
          3968985582,
          6036783195,
          8292860445,
          10574717980,
          13004349347,
          15556218860,
          18441500102,
          21217931693,
          24105014754,
          27132603618,
          30215065892,
          33443398043,
          36935809292,
          40104150651,
          43229239194,
          46602393263,
          50130118941,
          53609304520,
          56624178723,
          60131776359,
          63207814581,
          66434259618,
          70095340360,
          73767739711,
          77480607424,
          81125797666,
          85107230549,
          89069783076,
          93324933802,
          97247992145,
          100753264198,
          103912397609,
          107238851391,
          110856508935,
          114652597271,
          118823170956,
          123282072289,
          127477315047,
          131915459034,
          136765385579,
          141724571805,
          146664296664,
          151687547304,
          156792983977,
          161037722070,
          165671199353,
          170801384782,
          176202500260,
          181445603193,
          187448841382,
          193828597323,
          200294291555,
          206942019370,
          213731955864,
          221175162931,
          229099373479,
          237284897449,
          245702497503,
          254558686174,
          263945619845,
          273363082482,
          283113139146,
          293384663540,
          304213521114,
          315530754033,
          327396615429,
          339639660969,
          352549573490,
          366316144144,
          381213711238,
          396711977914,
          412933130182,
          430011922279,
          447021516693,
          464068013910,
          482051986757,
          500546517580,
          519614284758,
          539224302487,
          558716916002,
          577743826181,
          596619586456,
          615617618013,
          635274334887,
          655591818410,
          676211442068,
          697477636602,
          719579036092,
          741985868610,
          764735442970,
          787973545118,
          810543169398,
          833346664747,
          856311248106,
          879765192559,
          903920153765,
          928220704196,
          952426975466,
          976945937754,
          1002180145004,
          1027631199502,
          1053670390979,
          1081037114270,
          1109664647303,
          1139267424499,
          1169850954580,
          1201344696169,
          1233414140177,
          1265021182587,
          1298364483040,
          1332832934086,
          1367807009232,
          1445959228990,
          1481493671942,
          1516990078281,
          1552442537579,
          1588368275266,
          1625014415051,
          1661716917954,
          1696524177053,
          1732424996359.0068,
          1768795288935.8577,
          1805639252230.4185,
          1842961096082.8962,
          1880765042495.051,
          1919055325396.7239,
          1957836190410.7183,
          1997111894616.0698,
          2036886706309.7422,
          2077164904766.788
         ],
         "xaxis": "x",
         "y": [
          15.21033142,
          15.23497469,
          15.06079995,
          15.04605066,
          14.75833601,
          14.99998028,
          15.19175546,
          14.64558338,
          14.83083448,
          14.9631074,
          15.03020391,
          14.88966188,
          14.86864879,
          15.22747148,
          15.37998702,
          15.36273172,
          14.99764387,
          14.72026751,
          14.97347661,
          15.15837593,
          15.08478682,
          15.37490154,
          15.26266942,
          15.18985865,
          15.09079978,
          15.34484678,
          15.30175313,
          15.24959659,
          15.24020057,
          14.94365756,
          15.39038162,
          15.38828067,
          15.47193958,
          15.06342509,
          15.36199666,
          15.29214273,
          15.37462803,
          15.43543815,
          15.62870387,
          15.51975724,
          15.33353664,
          15.37988686,
          15.29593556,
          15.35312779,
          15.54474865,
          15.19287247,
          15.53890021,
          15.43082372,
          15.49868219,
          15.4931057,
          15.22838555,
          15.40061008,
          15.48700281,
          15.60186805,
          15.27302389,
          15.37474352,
          14.89115076,
          15.48078111,
          15.58471487,
          15.50395281,
          15.43902658,
          15.72302917,
          15.54071436,
          15.50310514,
          15.26100959,
          15.31278099,
          15.53594101,
          15.42776971,
          15.2668506,
          15.19166083,
          15.46743251,
          15.37818794,
          15.36020054,
          15.74273422,
          15.36763288,
          15.65225962,
          15.02691772,
          15.67077576,
          15.39626614,
          15.61537387,
          15.52344613,
          15.85748555,
          15.60108881,
          15.96540278,
          15.47184728,
          15.37451266,
          15.63094257,
          15.76220079,
          15.87216939,
          15.83675126,
          16.17501546,
          15.94954207,
          15.67622444,
          15.60012037,
          15.88346865,
          16.1609722,
          15.60254001,
          15.97193551,
          16.3882896,
          16.23599663,
          16.07910077,
          16.28246648,
          16.37835434,
          16.18615597,
          16.2246839,
          16.31765387,
          16.32318586,
          16.45278096,
          16.25992405,
          16.24834128,
          16.40050416,
          16.12791246,
          16.33555644,
          16.50932891966275,
          16.542734423068612,
          16.57610416871103,
          16.609432600267567,
          16.643205955158265,
          16.677656551416465,
          16.71216013396554,
          16.7448820205574,
          16.778631949977147,
          16.812823225585134,
          16.84745979335079,
          16.88254561089438,
          16.918084647269087,
          16.954080882741557,
          16.99053830857083,
          17.02746092678583,
          17.064852749961315,
          17.1027178009924
         ],
         "yaxis": "y"
        },
        {
         "hovertemplate": "<b>OLS trendline</b><br>Average Temperature (C) = 9.55021e-13 * Cumulative CO2 emissions (tons) + 15.1248<br>R<sup>2</sup>=0.904896<br><br>Cumulative CO2 emissions (tons)=%{x}<br>Average Temperature (C)=%{y} <b>(trend)</b><extra></extra>",
         "legendgroup": "",
         "line": {
          "color": "black"
         },
         "marker": {
          "symbol": "circle"
         },
         "mode": "lines",
         "name": "",
         "showlegend": false,
         "type": "scatter",
         "x": [
          1952224654,
          3968985582,
          6036783195,
          8292860445,
          10574717980,
          13004349347,
          15556218860,
          18441500102,
          21217931693,
          24105014754,
          27132603618,
          30215065892,
          33443398043,
          36935809292,
          40104150651,
          43229239194,
          46602393263,
          50130118941,
          53609304520,
          56624178723,
          60131776359,
          63207814581,
          66434259618,
          70095340360,
          73767739711,
          77480607424,
          81125797666,
          85107230549,
          89069783076,
          93324933802,
          97247992145,
          100753264198,
          103912397609,
          107238851391,
          110856508935,
          114652597271,
          118823170956,
          123282072289,
          127477315047,
          131915459034,
          136765385579,
          141724571805,
          146664296664,
          151687547304,
          156792983977,
          161037722070,
          165671199353,
          170801384782,
          176202500260,
          181445603193,
          187448841382,
          193828597323,
          200294291555,
          206942019370,
          213731955864,
          221175162931,
          229099373479,
          237284897449,
          245702497503,
          254558686174,
          263945619845,
          273363082482,
          283113139146,
          293384663540,
          304213521114,
          315530754033,
          327396615429,
          339639660969,
          352549573490,
          366316144144,
          381213711238,
          396711977914,
          412933130182,
          430011922279,
          447021516693,
          464068013910,
          482051986757,
          500546517580,
          519614284758,
          539224302487,
          558716916002,
          577743826181,
          596619586456,
          615617618013,
          635274334887,
          655591818410,
          676211442068,
          697477636602,
          719579036092,
          741985868610,
          764735442970,
          787973545118,
          810543169398,
          833346664747,
          856311248106,
          879765192559,
          903920153765,
          928220704196,
          952426975466,
          976945937754,
          1002180145004,
          1027631199502,
          1053670390979,
          1081037114270,
          1109664647303,
          1139267424499,
          1169850954580,
          1201344696169,
          1233414140177,
          1265021182587,
          1298364483040,
          1332832934086,
          1367807009232,
          1445959228990,
          1481493671942,
          1516990078281,
          1552442537579,
          1588368275266,
          1625014415051,
          1661716917954,
          1696524177053,
          1732424996359.0068,
          1768795288935.8577,
          1805639252230.4185,
          1842961096082.8962,
          1880765042495.051,
          1919055325396.7239,
          1957836190410.7183,
          1997111894616.0698,
          2036886706309.7422,
          2077164904766.788
         ],
         "xaxis": "x",
         "y": [
          15.126656674176704,
          15.128582722779635,
          15.130557512477495,
          15.132712113141926,
          15.134891334514354,
          15.137211682967695,
          15.139648771391087,
          15.142404274945356,
          15.145055824820572,
          15.147813049149438,
          15.150704459440462,
          15.153648274978535,
          15.156731399280925,
          15.160066724610571,
          15.163092556459743,
          15.166077080970663,
          15.169298513214747,
          15.172667564558068,
          15.175990259097977,
          15.178869526623485,
          15.18221935526835,
          15.185157035703245,
          15.188238357772544,
          15.191734765973658,
          15.195241983681615,
          15.198787849516384,
          15.202269081959727,
          15.206071433113749,
          15.209855753135377,
          15.21391951051846,
          15.217666112773514,
          15.22101372043828,
          15.224030758505734,
          15.227207591005106,
          15.230662529149615,
          15.23428787240902,
          15.238270856960083,
          15.242529200407638,
          15.246535744436143,
          15.250774264186843,
          15.255406044838988,
          15.26014217075736,
          15.26485971066576,
          15.269657019431028,
          15.274532817565978,
          15.278586630668128,
          15.283011697776347,
          15.28791113148766,
          15.293069309026821,
          15.29807658130135,
          15.303809798544135,
          15.309902598065687,
          15.3160774704413,
          15.322426188672093,
          15.32891071914702,
          15.336019136596844,
          15.34358692236828,
          15.351404267888906,
          15.35944325089326,
          15.367901095142548,
          15.376865811897925,
          15.385859684450354,
          15.395171191211254,
          15.404980710492577,
          15.415322494544505,
          15.426130687201379,
          15.437462831456575,
          15.449155194408746,
          15.461484429188047,
          15.474631790289285,
          15.488859276497541,
          15.503660443291643,
          15.519151980850681,
          15.53546258227174,
          15.551707098467318,
          15.567986857606755,
          15.58516192545749,
          15.602824586786825,
          15.621034700749425,
          15.639762675258453,
          15.658378526302963,
          15.676549620982339,
          15.69457636436187,
          15.712719879357017,
          15.731492452520124,
          15.750896071566508,
          15.770588240721548,
          15.790897898501603,
          15.812005194373675,
          15.833404185135658,
          15.855130501480353,
          15.87732337201623,
          15.898877832294414,
          15.920655644304306,
          15.942587298711828,
          15.964986303135083,
          15.9880547931275,
          16.011262323855743,
          16.034379816025716,
          16.0577959346169,
          16.081895127012565,
          16.106201413037056,
          16.13106938210043,
          16.157205171637813,
          16.184545060683682,
          16.212816328174853,
          16.24202423505533,
          16.272101412843927,
          16.302728398408167,
          16.332913780835685,
          16.364757325780943,
          16.39767541292783,
          16.431076381599187,
          16.505713375796667,
          16.539649507369532,
          16.573549313186426,
          16.60740714866576,
          16.641716974843288,
          16.67671479999736,
          16.71176645310058,
          16.745008108979924,
          16.779294137585694,
          16.81402852292273,
          16.849215273640027,
          16.884858410222485,
          16.920961964769532,
          16.95752998077217,
          16.99456651288841,
          17.032075626717216,
          17.070061398570903,
          17.108527915246082
         ],
         "yaxis": "y"
        },
        {
         "line": {
          "color": "rgba(0,0,0,0)"
         },
         "mode": "lines",
         "showlegend": false,
         "type": "scatter",
         "x": [
          1952224654,
          3968985582,
          6036783195,
          8292860445,
          10574717980,
          13004349347,
          15556218860,
          18441500102,
          21217931693,
          24105014754,
          27132603618,
          30215065892,
          33443398043,
          36935809292,
          40104150651,
          43229239194,
          46602393263,
          50130118941,
          53609304520,
          56624178723,
          60131776359,
          63207814581,
          66434259618,
          70095340360,
          73767739711,
          77480607424,
          81125797666,
          85107230549,
          89069783076,
          93324933802,
          97247992145,
          100753264198,
          103912397609,
          107238851391,
          110856508935,
          114652597271,
          118823170956,
          123282072289,
          127477315047,
          131915459034,
          136765385579,
          141724571805,
          146664296664,
          151687547304,
          156792983977,
          161037722070,
          165671199353,
          170801384782,
          176202500260,
          181445603193,
          187448841382,
          193828597323,
          200294291555,
          206942019370,
          213731955864,
          221175162931,
          229099373479,
          237284897449,
          245702497503,
          254558686174,
          263945619845,
          273363082482,
          283113139146,
          293384663540,
          304213521114,
          315530754033,
          327396615429,
          339639660969,
          352549573490,
          366316144144,
          381213711238,
          396711977914,
          412933130182,
          430011922279,
          447021516693,
          464068013910,
          482051986757,
          500546517580,
          519614284758,
          539224302487,
          558716916002,
          577743826181,
          596619586456,
          615617618013,
          635274334887,
          655591818410,
          676211442068,
          697477636602,
          719579036092,
          741985868610,
          764735442970,
          787973545118,
          810543169398,
          833346664747,
          856311248106,
          879765192559,
          903920153765,
          928220704196,
          952426975466,
          976945937754,
          1002180145004,
          1027631199502,
          1053670390979,
          1081037114270,
          1109664647303,
          1139267424499,
          1169850954580,
          1201344696169,
          1233414140177,
          1265021182587,
          1298364483040,
          1332832934086,
          1367807009232,
          1445959228990,
          1481493671942,
          1516990078281,
          1552442537579,
          1588368275266,
          1625014415051,
          1661716917954,
          1696524177053,
          1732424996359.0068,
          1768795288935.8577,
          1805639252230.4185,
          1842961096082.8962,
          1880765042495.051,
          1919055325396.7239,
          1957836190410.7183,
          1997111894616.0698,
          2036886706309.7422,
          2077164904766.788
         ],
         "y": [
          15.171313656496967,
          15.173163869817047,
          15.1750610469784,
          15.177131132950892,
          15.17922504970058,
          15.181454764688556,
          15.183796878200052,
          15.186445269373662,
          15.18899402158173,
          15.191644638230239,
          15.194424569036839,
          15.197255219970158,
          15.200220190090278,
          15.203428120918433,
          15.206338764613276,
          15.209210035306763,
          15.212309630345874,
          15.215551716751916,
          15.218749653302785,
          15.221521184814781,
          15.224746109011672,
          15.227574644380447,
          15.230541881126872,
          15.233909331347153,
          15.237287726628876,
          15.240703899437383,
          15.244058344805193,
          15.247722833018969,
          15.251370592111844,
          15.255288432214764,
          15.258901179440572,
          15.262129739418004,
          15.265039936126449,
          15.268104734076159,
          15.27143837659514,
          15.274937059471355,
          15.278781624885772,
          15.28289284120217,
          15.286761779227461,
          15.290855601834238,
          15.295330301334884,
          15.299906944972927,
          15.304466785673814,
          15.309104927398144,
          15.313820207969378,
          15.3177415375977,
          15.322023008284468,
          15.326764708002527,
          15.331758264879511,
          15.336607166440277,
          15.342160810052707,
          15.348064857991472,
          15.3540506601266,
          15.360207354518023,
          15.366498271258065,
          15.373397417177548,
          15.380745878852647,
          15.388340492926083,
          15.39615455741902,
          15.404380366606311,
          15.413104393992473,
          15.42186233188749,
          15.430935532189315,
          15.440500691565841,
          15.450592446631475,
          15.461147837259777,
          15.472224460951308,
          15.48366363977342,
          15.495737662673466,
          15.508626480829026,
          15.522590367325401,
          15.537135575147623,
          15.552379631086511,
          15.568452740898824,
          15.584484754683226,
          15.600576078249254,
          15.617579436072571,
          15.635094979674564,
          15.653185127690637,
          15.671823681967377,
          15.690385055129351,
          15.70853622643992,
          15.726575727024338,
          15.744764750679341,
          15.763618759734332,
          15.78314298794954,
          15.802995006342602,
          15.823508455595038,
          15.844868652421836,
          15.866565836329249,
          15.888636810317895,
          15.91122399692029,
          15.933200925930436,
          15.95544365223037,
          15.977880648557688,
          16.000832601715885,
          16.024507702293427,
          16.04836167090647,
          16.072157316343336,
          16.096293319299246,
          16.121166127651126,
          16.146284373939604,
          16.172014040322512,
          16.19908711723824,
          16.2274399218012,
          16.256791098557287,
          16.28714689132036,
          16.318437775866833,
          16.350331146462597,
          16.381792445217677,
          16.41500956897643,
          16.449374986309703,
          16.484270677099655,
          16.562332306065535,
          16.597859875270185,
          16.63336845046989,
          16.66885056179199,
          16.704822802264427,
          16.741532126728078,
          16.778312631249527,
          16.813206457236532,
          16.849208469783942,
          16.88569272730308,
          16.922663048816137,
          16.96012328809513,
          16.998077332347933,
          17.036529100917843,
          17.075482544004903,
          17.1149416414154,
          17.15491040134413,
          17.19539285919266
         ]
        },
        {
         "fill": "tonexty",
         "fillcolor": "rgba(0,100,80,0.2)",
         "line": {
          "color": "rgba(0,0,0,0)"
         },
         "mode": "lines",
         "name": "95% confidence interval",
         "type": "scatter",
         "x": [
          1952224654,
          3968985582,
          6036783195,
          8292860445,
          10574717980,
          13004349347,
          15556218860,
          18441500102,
          21217931693,
          24105014754,
          27132603618,
          30215065892,
          33443398043,
          36935809292,
          40104150651,
          43229239194,
          46602393263,
          50130118941,
          53609304520,
          56624178723,
          60131776359,
          63207814581,
          66434259618,
          70095340360,
          73767739711,
          77480607424,
          81125797666,
          85107230549,
          89069783076,
          93324933802,
          97247992145,
          100753264198,
          103912397609,
          107238851391,
          110856508935,
          114652597271,
          118823170956,
          123282072289,
          127477315047,
          131915459034,
          136765385579,
          141724571805,
          146664296664,
          151687547304,
          156792983977,
          161037722070,
          165671199353,
          170801384782,
          176202500260,
          181445603193,
          187448841382,
          193828597323,
          200294291555,
          206942019370,
          213731955864,
          221175162931,
          229099373479,
          237284897449,
          245702497503,
          254558686174,
          263945619845,
          273363082482,
          283113139146,
          293384663540,
          304213521114,
          315530754033,
          327396615429,
          339639660969,
          352549573490,
          366316144144,
          381213711238,
          396711977914,
          412933130182,
          430011922279,
          447021516693,
          464068013910,
          482051986757,
          500546517580,
          519614284758,
          539224302487,
          558716916002,
          577743826181,
          596619586456,
          615617618013,
          635274334887,
          655591818410,
          676211442068,
          697477636602,
          719579036092,
          741985868610,
          764735442970,
          787973545118,
          810543169398,
          833346664747,
          856311248106,
          879765192559,
          903920153765,
          928220704196,
          952426975466,
          976945937754,
          1002180145004,
          1027631199502,
          1053670390979,
          1081037114270,
          1109664647303,
          1139267424499,
          1169850954580,
          1201344696169,
          1233414140177,
          1265021182587,
          1298364483040,
          1332832934086,
          1367807009232,
          1445959228990,
          1481493671942,
          1516990078281,
          1552442537579,
          1588368275266,
          1625014415051,
          1661716917954,
          1696524177053,
          1732424996359.0068,
          1768795288935.8577,
          1805639252230.4185,
          1842961096082.8962,
          1880765042495.051,
          1919055325396.7239,
          1957836190410.7183,
          1997111894616.0698,
          2036886706309.7422,
          2077164904766.788
         ],
         "y": [
          15.081999691856442,
          15.084001575742223,
          15.08605397797659,
          15.08829309333296,
          15.090557619328127,
          15.092968601246834,
          15.095500664582122,
          15.09836328051705,
          15.101117628059415,
          15.103981460068637,
          15.106984349844085,
          15.110041329986911,
          15.113242608471573,
          15.116705328302709,
          15.11984634830621,
          15.122944126634563,
          15.126287396083619,
          15.12978341236422,
          15.13323086489317,
          15.136217868432189,
          15.139692601525027,
          15.142739427026044,
          15.145934834418217,
          15.149560200600163,
          15.153196240734355,
          15.156871799595384,
          15.160479819114261,
          15.164420033208529,
          15.168340914158911,
          15.172550588822157,
          15.176431046106456,
          15.179897701458557,
          15.183021580885018,
          15.186310447934053,
          15.18988668170409,
          15.193638685346684,
          15.197760089034395,
          15.202165559613107,
          15.206309709644824,
          15.210692926539448,
          15.215481788343093,
          15.220377396541794,
          15.225252635657707,
          15.230209111463912,
          15.235245427162578,
          15.239431723738557,
          15.244000387268226,
          15.249057554972792,
          15.254380353174131,
          15.259545996162423,
          15.265458787035563,
          15.271740338139901,
          15.278104280756,
          15.284645022826163,
          15.291323167035975,
          15.29864085601614,
          15.306427965883913,
          15.314468042851729,
          15.3227319443675,
          15.331421823678784,
          15.340627229803378,
          15.349857037013217,
          15.359406850233194,
          15.369460729419313,
          15.380052542457534,
          15.391113537142981,
          15.402701201961841,
          15.414646749044072,
          15.427231195702628,
          15.440637099749544,
          15.45512818566968,
          15.470185311435664,
          15.485924330614852,
          15.502472423644654,
          15.51892944225141,
          15.535397636964255,
          15.552744414842408,
          15.570554193899087,
          15.588884273808212,
          15.60770166854953,
          15.626371997476575,
          15.644563015524758,
          15.662577001699402,
          15.680675008034694,
          15.699366145305916,
          15.718649155183476,
          15.738181475100493,
          15.758287341408169,
          15.779141736325515,
          15.800242533942066,
          15.821624192642812,
          15.84342274711217,
          15.864554738658391,
          15.885867636378242,
          15.907293948865968,
          15.929140004554279,
          15.95160188396157,
          15.974162976805015,
          15.996602315708094,
          16.019298549934557,
          16.042624126374005,
          16.066118452134507,
          16.09012472387835,
          16.115323226037386,
          16.141650199566165,
          16.16884155779242,
          16.196901578790296,
          16.22576504982102,
          16.255125650353737,
          16.284035116453694,
          16.314505082585455,
          16.345975839545954,
          16.37788208609872,
          16.4490944455278,
          16.48143913946888,
          16.51373017590296,
          16.54596373553953,
          16.578611147422148,
          16.61189747326664,
          16.645220274951633,
          16.676809760723316,
          16.709379805387446,
          16.74236431854238,
          16.775767498463917,
          16.80959353234984,
          16.84384659719113,
          16.878530860626494,
          16.91365048177192,
          16.949209612019033,
          16.985212395797678,
          17.021662971299506
         ]
        }
       ],
       "layout": {
        "coloraxis": {
         "colorbar": {
          "title": {
           "text": "Year"
          }
         },
         "colorscale": [
          [
           0,
           "rgb(23, 28, 66)"
          ],
          [
           0.09090909090909091,
           "rgb(41, 58, 143)"
          ],
          [
           0.18181818181818182,
           "rgb(11, 102, 189)"
          ],
          [
           0.2727272727272727,
           "rgb(69, 144, 185)"
          ],
          [
           0.36363636363636365,
           "rgb(142, 181, 194)"
          ],
          [
           0.45454545454545453,
           "rgb(210, 216, 219)"
          ],
          [
           0.5454545454545454,
           "rgb(230, 210, 204)"
          ],
          [
           0.6363636363636364,
           "rgb(213, 157, 137)"
          ],
          [
           0.7272727272727273,
           "rgb(196, 101, 72)"
          ],
          [
           0.8181818181818182,
           "rgb(172, 43, 36)"
          ],
          [
           0.9090909090909091,
           "rgb(120, 14, 40)"
          ],
          [
           1,
           "rgb(60, 9, 17)"
          ]
         ]
        },
        "legend": {
         "tracegroupgap": 0
        },
        "template": {
         "data": {
          "bar": [
           {
            "error_x": {
             "color": "#2a3f5f"
            },
            "error_y": {
             "color": "#2a3f5f"
            },
            "marker": {
             "line": {
              "color": "#E5ECF6",
              "width": 0.5
             },
             "pattern": {
              "fillmode": "overlay",
              "size": 10,
              "solidity": 0.2
             }
            },
            "type": "bar"
           }
          ],
          "barpolar": [
           {
            "marker": {
             "line": {
              "color": "#E5ECF6",
              "width": 0.5
             },
             "pattern": {
              "fillmode": "overlay",
              "size": 10,
              "solidity": 0.2
             }
            },
            "type": "barpolar"
           }
          ],
          "carpet": [
           {
            "aaxis": {
             "endlinecolor": "#2a3f5f",
             "gridcolor": "white",
             "linecolor": "white",
             "minorgridcolor": "white",
             "startlinecolor": "#2a3f5f"
            },
            "baxis": {
             "endlinecolor": "#2a3f5f",
             "gridcolor": "white",
             "linecolor": "white",
             "minorgridcolor": "white",
             "startlinecolor": "#2a3f5f"
            },
            "type": "carpet"
           }
          ],
          "choropleth": [
           {
            "colorbar": {
             "outlinewidth": 0,
             "ticks": ""
            },
            "type": "choropleth"
           }
          ],
          "contour": [
           {
            "colorbar": {
             "outlinewidth": 0,
             "ticks": ""
            },
            "colorscale": [
             [
              0,
              "#0d0887"
             ],
             [
              0.1111111111111111,
              "#46039f"
             ],
             [
              0.2222222222222222,
              "#7201a8"
             ],
             [
              0.3333333333333333,
              "#9c179e"
             ],
             [
              0.4444444444444444,
              "#bd3786"
             ],
             [
              0.5555555555555556,
              "#d8576b"
             ],
             [
              0.6666666666666666,
              "#ed7953"
             ],
             [
              0.7777777777777778,
              "#fb9f3a"
             ],
             [
              0.8888888888888888,
              "#fdca26"
             ],
             [
              1,
              "#f0f921"
             ]
            ],
            "type": "contour"
           }
          ],
          "contourcarpet": [
           {
            "colorbar": {
             "outlinewidth": 0,
             "ticks": ""
            },
            "type": "contourcarpet"
           }
          ],
          "heatmap": [
           {
            "colorbar": {
             "outlinewidth": 0,
             "ticks": ""
            },
            "colorscale": [
             [
              0,
              "#0d0887"
             ],
             [
              0.1111111111111111,
              "#46039f"
             ],
             [
              0.2222222222222222,
              "#7201a8"
             ],
             [
              0.3333333333333333,
              "#9c179e"
             ],
             [
              0.4444444444444444,
              "#bd3786"
             ],
             [
              0.5555555555555556,
              "#d8576b"
             ],
             [
              0.6666666666666666,
              "#ed7953"
             ],
             [
              0.7777777777777778,
              "#fb9f3a"
             ],
             [
              0.8888888888888888,
              "#fdca26"
             ],
             [
              1,
              "#f0f921"
             ]
            ],
            "type": "heatmap"
           }
          ],
          "heatmapgl": [
           {
            "colorbar": {
             "outlinewidth": 0,
             "ticks": ""
            },
            "colorscale": [
             [
              0,
              "#0d0887"
             ],
             [
              0.1111111111111111,
              "#46039f"
             ],
             [
              0.2222222222222222,
              "#7201a8"
             ],
             [
              0.3333333333333333,
              "#9c179e"
             ],
             [
              0.4444444444444444,
              "#bd3786"
             ],
             [
              0.5555555555555556,
              "#d8576b"
             ],
             [
              0.6666666666666666,
              "#ed7953"
             ],
             [
              0.7777777777777778,
              "#fb9f3a"
             ],
             [
              0.8888888888888888,
              "#fdca26"
             ],
             [
              1,
              "#f0f921"
             ]
            ],
            "type": "heatmapgl"
           }
          ],
          "histogram": [
           {
            "marker": {
             "pattern": {
              "fillmode": "overlay",
              "size": 10,
              "solidity": 0.2
             }
            },
            "type": "histogram"
           }
          ],
          "histogram2d": [
           {
            "colorbar": {
             "outlinewidth": 0,
             "ticks": ""
            },
            "colorscale": [
             [
              0,
              "#0d0887"
             ],
             [
              0.1111111111111111,
              "#46039f"
             ],
             [
              0.2222222222222222,
              "#7201a8"
             ],
             [
              0.3333333333333333,
              "#9c179e"
             ],
             [
              0.4444444444444444,
              "#bd3786"
             ],
             [
              0.5555555555555556,
              "#d8576b"
             ],
             [
              0.6666666666666666,
              "#ed7953"
             ],
             [
              0.7777777777777778,
              "#fb9f3a"
             ],
             [
              0.8888888888888888,
              "#fdca26"
             ],
             [
              1,
              "#f0f921"
             ]
            ],
            "type": "histogram2d"
           }
          ],
          "histogram2dcontour": [
           {
            "colorbar": {
             "outlinewidth": 0,
             "ticks": ""
            },
            "colorscale": [
             [
              0,
              "#0d0887"
             ],
             [
              0.1111111111111111,
              "#46039f"
             ],
             [
              0.2222222222222222,
              "#7201a8"
             ],
             [
              0.3333333333333333,
              "#9c179e"
             ],
             [
              0.4444444444444444,
              "#bd3786"
             ],
             [
              0.5555555555555556,
              "#d8576b"
             ],
             [
              0.6666666666666666,
              "#ed7953"
             ],
             [
              0.7777777777777778,
              "#fb9f3a"
             ],
             [
              0.8888888888888888,
              "#fdca26"
             ],
             [
              1,
              "#f0f921"
             ]
            ],
            "type": "histogram2dcontour"
           }
          ],
          "mesh3d": [
           {
            "colorbar": {
             "outlinewidth": 0,
             "ticks": ""
            },
            "type": "mesh3d"
           }
          ],
          "parcoords": [
           {
            "line": {
             "colorbar": {
              "outlinewidth": 0,
              "ticks": ""
             }
            },
            "type": "parcoords"
           }
          ],
          "pie": [
           {
            "automargin": true,
            "type": "pie"
           }
          ],
          "scatter": [
           {
            "fillpattern": {
             "fillmode": "overlay",
             "size": 10,
             "solidity": 0.2
            },
            "type": "scatter"
           }
          ],
          "scatter3d": [
           {
            "line": {
             "colorbar": {
              "outlinewidth": 0,
              "ticks": ""
             }
            },
            "marker": {
             "colorbar": {
              "outlinewidth": 0,
              "ticks": ""
             }
            },
            "type": "scatter3d"
           }
          ],
          "scattercarpet": [
           {
            "marker": {
             "colorbar": {
              "outlinewidth": 0,
              "ticks": ""
             }
            },
            "type": "scattercarpet"
           }
          ],
          "scattergeo": [
           {
            "marker": {
             "colorbar": {
              "outlinewidth": 0,
              "ticks": ""
             }
            },
            "type": "scattergeo"
           }
          ],
          "scattergl": [
           {
            "marker": {
             "colorbar": {
              "outlinewidth": 0,
              "ticks": ""
             }
            },
            "type": "scattergl"
           }
          ],
          "scattermapbox": [
           {
            "marker": {
             "colorbar": {
              "outlinewidth": 0,
              "ticks": ""
             }
            },
            "type": "scattermapbox"
           }
          ],
          "scatterpolar": [
           {
            "marker": {
             "colorbar": {
              "outlinewidth": 0,
              "ticks": ""
             }
            },
            "type": "scatterpolar"
           }
          ],
          "scatterpolargl": [
           {
            "marker": {
             "colorbar": {
              "outlinewidth": 0,
              "ticks": ""
             }
            },
            "type": "scatterpolargl"
           }
          ],
          "scatterternary": [
           {
            "marker": {
             "colorbar": {
              "outlinewidth": 0,
              "ticks": ""
             }
            },
            "type": "scatterternary"
           }
          ],
          "surface": [
           {
            "colorbar": {
             "outlinewidth": 0,
             "ticks": ""
            },
            "colorscale": [
             [
              0,
              "#0d0887"
             ],
             [
              0.1111111111111111,
              "#46039f"
             ],
             [
              0.2222222222222222,
              "#7201a8"
             ],
             [
              0.3333333333333333,
              "#9c179e"
             ],
             [
              0.4444444444444444,
              "#bd3786"
             ],
             [
              0.5555555555555556,
              "#d8576b"
             ],
             [
              0.6666666666666666,
              "#ed7953"
             ],
             [
              0.7777777777777778,
              "#fb9f3a"
             ],
             [
              0.8888888888888888,
              "#fdca26"
             ],
             [
              1,
              "#f0f921"
             ]
            ],
            "type": "surface"
           }
          ],
          "table": [
           {
            "cells": {
             "fill": {
              "color": "#EBF0F8"
             },
             "line": {
              "color": "white"
             }
            },
            "header": {
             "fill": {
              "color": "#C8D4E3"
             },
             "line": {
              "color": "white"
             }
            },
            "type": "table"
           }
          ]
         },
         "layout": {
          "annotationdefaults": {
           "arrowcolor": "#2a3f5f",
           "arrowhead": 0,
           "arrowwidth": 1
          },
          "autotypenumbers": "strict",
          "coloraxis": {
           "colorbar": {
            "outlinewidth": 0,
            "ticks": ""
           }
          },
          "colorscale": {
           "diverging": [
            [
             0,
             "#8e0152"
            ],
            [
             0.1,
             "#c51b7d"
            ],
            [
             0.2,
             "#de77ae"
            ],
            [
             0.3,
             "#f1b6da"
            ],
            [
             0.4,
             "#fde0ef"
            ],
            [
             0.5,
             "#f7f7f7"
            ],
            [
             0.6,
             "#e6f5d0"
            ],
            [
             0.7,
             "#b8e186"
            ],
            [
             0.8,
             "#7fbc41"
            ],
            [
             0.9,
             "#4d9221"
            ],
            [
             1,
             "#276419"
            ]
           ],
           "sequential": [
            [
             0,
             "#0d0887"
            ],
            [
             0.1111111111111111,
             "#46039f"
            ],
            [
             0.2222222222222222,
             "#7201a8"
            ],
            [
             0.3333333333333333,
             "#9c179e"
            ],
            [
             0.4444444444444444,
             "#bd3786"
            ],
            [
             0.5555555555555556,
             "#d8576b"
            ],
            [
             0.6666666666666666,
             "#ed7953"
            ],
            [
             0.7777777777777778,
             "#fb9f3a"
            ],
            [
             0.8888888888888888,
             "#fdca26"
            ],
            [
             1,
             "#f0f921"
            ]
           ],
           "sequentialminus": [
            [
             0,
             "#0d0887"
            ],
            [
             0.1111111111111111,
             "#46039f"
            ],
            [
             0.2222222222222222,
             "#7201a8"
            ],
            [
             0.3333333333333333,
             "#9c179e"
            ],
            [
             0.4444444444444444,
             "#bd3786"
            ],
            [
             0.5555555555555556,
             "#d8576b"
            ],
            [
             0.6666666666666666,
             "#ed7953"
            ],
            [
             0.7777777777777778,
             "#fb9f3a"
            ],
            [
             0.8888888888888888,
             "#fdca26"
            ],
            [
             1,
             "#f0f921"
            ]
           ]
          },
          "colorway": [
           "#636efa",
           "#EF553B",
           "#00cc96",
           "#ab63fa",
           "#FFA15A",
           "#19d3f3",
           "#FF6692",
           "#B6E880",
           "#FF97FF",
           "#FECB52"
          ],
          "font": {
           "color": "#2a3f5f"
          },
          "geo": {
           "bgcolor": "white",
           "lakecolor": "white",
           "landcolor": "#E5ECF6",
           "showlakes": true,
           "showland": true,
           "subunitcolor": "white"
          },
          "hoverlabel": {
           "align": "left"
          },
          "hovermode": "closest",
          "mapbox": {
           "style": "light"
          },
          "paper_bgcolor": "white",
          "plot_bgcolor": "#E5ECF6",
          "polar": {
           "angularaxis": {
            "gridcolor": "white",
            "linecolor": "white",
            "ticks": ""
           },
           "bgcolor": "#E5ECF6",
           "radialaxis": {
            "gridcolor": "white",
            "linecolor": "white",
            "ticks": ""
           }
          },
          "scene": {
           "xaxis": {
            "backgroundcolor": "#E5ECF6",
            "gridcolor": "white",
            "gridwidth": 2,
            "linecolor": "white",
            "showbackground": true,
            "ticks": "",
            "zerolinecolor": "white"
           },
           "yaxis": {
            "backgroundcolor": "#E5ECF6",
            "gridcolor": "white",
            "gridwidth": 2,
            "linecolor": "white",
            "showbackground": true,
            "ticks": "",
            "zerolinecolor": "white"
           },
           "zaxis": {
            "backgroundcolor": "#E5ECF6",
            "gridcolor": "white",
            "gridwidth": 2,
            "linecolor": "white",
            "showbackground": true,
            "ticks": "",
            "zerolinecolor": "white"
           }
          },
          "shapedefaults": {
           "line": {
            "color": "#2a3f5f"
           }
          },
          "ternary": {
           "aaxis": {
            "gridcolor": "white",
            "linecolor": "white",
            "ticks": ""
           },
           "baxis": {
            "gridcolor": "white",
            "linecolor": "white",
            "ticks": ""
           },
           "bgcolor": "#E5ECF6",
           "caxis": {
            "gridcolor": "white",
            "linecolor": "white",
            "ticks": ""
           }
          },
          "title": {
           "x": 0.05
          },
          "xaxis": {
           "automargin": true,
           "gridcolor": "white",
           "linecolor": "white",
           "ticks": "",
           "title": {
            "standoff": 15
           },
           "zerolinecolor": "white",
           "zerolinewidth": 2
          },
          "yaxis": {
           "automargin": true,
           "gridcolor": "white",
           "linecolor": "white",
           "ticks": "",
           "title": {
            "standoff": 15
           },
           "zerolinecolor": "white",
           "zerolinewidth": 2
          }
         }
        },
        "title": {
         "text": "Global temperature vs. cumulated CO2"
        },
        "xaxis": {
         "anchor": "y",
         "domain": [
          0,
          1
         ],
         "title": {
          "text": "Cumulative CO2 emissions (tons)"
         }
        },
        "yaxis": {
         "anchor": "x",
         "domain": [
          0,
          1
         ],
         "title": {
          "text": "Average Temperature (C)"
         }
        }
       }
      }
     },
     "metadata": {},
     "output_type": "display_data"
    }
   ],
   "source": [
    "fig = px.scatter(df_predictions, x=\"Cumulative CO2 emissions (tons)\", y=\"Average Temperature (C)\",\n",
    "    color=\"Year\", color_continuous_scale=\"balance\",\n",
    "    trendline=\"ols\", trendline_color_override=\"black\", title=\"Global temperature vs. cumulated CO2\")\n",
    "\n",
    "ci_upper = predictions['mean_ci_upper']\n",
    "ci_lower = predictions['mean_ci_lower']\n",
    "\n",
    "fig.add_traces([go.Scatter(x = df_predictions[\"Cumulative CO2 emissions (tons)\"], y = ci_upper,\n",
    "                           mode = 'lines', line_color = 'rgba(0,0,0,0)',\n",
    "                           showlegend = False),\n",
    "                go.Scatter(x = df_predictions[\"Cumulative CO2 emissions (tons)\"], y = ci_lower,\n",
    "                           mode = 'lines', line_color = 'rgba(0,0,0,0)',\n",
    "                           name = '95% confidence interval',\n",
    "                           fill='tonexty', fillcolor = 'rgba(0,100,80,0.2)')])\n",
    "\n",
    "fig.show()"
   ]
  },
  {
   "cell_type": "markdown",
   "id": "9af33dab",
   "metadata": {},
   "source": [
    "Clearly the global temperature is estimated to increase *a lot* - if we just continue bussiness-as-usual.\n",
    "\n",
    "Note that the CO2 levels from 2012 to 2020 are actual measurements. The CO2 levels from 2021 to 2030 are predicted by the ARIMA-model.\n",
    "\n",
    "According to the models and data, the global temperature is expected to increase from **16.4** in 2012 to **17.1** in 2030, an *additional* increase of **0.7** degress in less than two centuries. In conclussion, now is the time for climate action."
   ]
  },
  {
   "cell_type": "markdown",
   "id": "a60636e1",
   "metadata": {},
   "source": [
    "Sources: http://web.mit.edu/jlcohen/www/papers/AML-WhitePaper.pdf"
   ]
  }
 ],
 "metadata": {
  "celltoolbar": "Edit Metadata",
  "interpreter": {
   "hash": "22b88df56edbb76b37fffad4013b5b5894902bb5c1bf7f9d2859a16185a8ff53"
  },
  "kernelspec": {
   "display_name": "Python 3.9.7 ('cforge_env')",
   "language": "python",
   "name": "python3"
  },
  "language_info": {
   "codemirror_mode": {
    "name": "ipython",
    "version": 3
   },
   "file_extension": ".py",
   "mimetype": "text/x-python",
   "name": "python",
   "nbconvert_exporter": "python",
   "pygments_lexer": "ipython3",
   "version": "3.9.7"
  },
  "varInspector": {
   "cols": {
    "lenName": 16,
    "lenType": 16,
    "lenVar": 40
   },
   "kernels_config": {
    "python": {
     "delete_cmd_postfix": "",
     "delete_cmd_prefix": "del ",
     "library": "var_list.py",
     "varRefreshCmd": "print(var_dic_list())"
    },
    "r": {
     "delete_cmd_postfix": ") ",
     "delete_cmd_prefix": "rm(",
     "library": "var_list.r",
     "varRefreshCmd": "cat(var_dic_list()) "
    }
   },
   "types_to_exclude": [
    "module",
    "function",
    "builtin_function_or_method",
    "instance",
    "_Feature"
   ],
   "window_display": false
  }
 },
 "nbformat": 4,
 "nbformat_minor": 5
}
